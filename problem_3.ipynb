{
 "cells": [
  {
   "cell_type": "code",
   "execution_count": 1,
   "id": "296d8e9e",
   "metadata": {},
   "outputs": [],
   "source": [
    "import pandas as pd\n",
    "import numpy as np\n",
    "import matplotlib.pyplot as plt\n",
    "import seaborn as sns\n",
    "from sklearn.preprocessing import MinMaxScaler\n",
    "from sklearn.model_selection import ShuffleSplit\n",
    "from sklearn.preprocessing import OneHotEncoder\n",
    "from sklearn.metrics import r2_score\n",
    "from sklearn.metrics import mean_absolute_error\n",
    "import tensorflow as tf\n",
    "from keras.models import Sequential\n",
    "from keras.layers import Dense"
   ]
  },
  {
   "cell_type": "code",
   "execution_count": 2,
   "id": "897e7ded",
   "metadata": {},
   "outputs": [],
   "source": [
    "df = pd.read_csv(\"Deep_Learning_task_train_dataset.csv\", sep=',')\n",
    "train = df\n",
    "test_df = pd.read_csv(\"Deep_Learning_task_test_dataset.csv\", sep=',')\n",
    "test = test_df.copy()"
   ]
  },
  {
   "cell_type": "markdown",
   "id": "2cbc98e5",
   "metadata": {},
   "source": [
    "## Inspection"
   ]
  },
  {
   "cell_type": "code",
   "execution_count": 3,
   "id": "19643b61",
   "metadata": {},
   "outputs": [
    {
     "data": {
      "text/html": [
       "<div>\n",
       "<style scoped>\n",
       "    .dataframe tbody tr th:only-of-type {\n",
       "        vertical-align: middle;\n",
       "    }\n",
       "\n",
       "    .dataframe tbody tr th {\n",
       "        vertical-align: top;\n",
       "    }\n",
       "\n",
       "    .dataframe thead th {\n",
       "        text-align: right;\n",
       "    }\n",
       "</style>\n",
       "<table border=\"1\" class=\"dataframe\">\n",
       "  <thead>\n",
       "    <tr style=\"text-align: right;\">\n",
       "      <th></th>\n",
       "      <th>Item_Identifier</th>\n",
       "      <th>Item_Weight</th>\n",
       "      <th>Item_Fat_Content</th>\n",
       "      <th>Item_Visibility</th>\n",
       "      <th>Item_Type</th>\n",
       "      <th>Item_MRP</th>\n",
       "      <th>Outlet_Identifier</th>\n",
       "      <th>Outlet_Establishment_Year</th>\n",
       "      <th>Outlet_Size</th>\n",
       "      <th>Outlet_Location_Type</th>\n",
       "      <th>Outlet_Type</th>\n",
       "      <th>Item_Outlet_Sales</th>\n",
       "    </tr>\n",
       "  </thead>\n",
       "  <tbody>\n",
       "    <tr>\n",
       "      <th>0</th>\n",
       "      <td>FDA15</td>\n",
       "      <td>9.30</td>\n",
       "      <td>Low Fat</td>\n",
       "      <td>0.016047</td>\n",
       "      <td>Dairy</td>\n",
       "      <td>249.8092</td>\n",
       "      <td>OUT049</td>\n",
       "      <td>1999</td>\n",
       "      <td>Medium</td>\n",
       "      <td>Tier 1</td>\n",
       "      <td>Supermarket Type1</td>\n",
       "      <td>3735.1380</td>\n",
       "    </tr>\n",
       "    <tr>\n",
       "      <th>1</th>\n",
       "      <td>DRC01</td>\n",
       "      <td>5.92</td>\n",
       "      <td>Regular</td>\n",
       "      <td>0.019278</td>\n",
       "      <td>Soft Drinks</td>\n",
       "      <td>48.2692</td>\n",
       "      <td>OUT018</td>\n",
       "      <td>2009</td>\n",
       "      <td>Medium</td>\n",
       "      <td>Tier 3</td>\n",
       "      <td>Supermarket Type2</td>\n",
       "      <td>443.4228</td>\n",
       "    </tr>\n",
       "    <tr>\n",
       "      <th>2</th>\n",
       "      <td>FDN15</td>\n",
       "      <td>17.50</td>\n",
       "      <td>Low Fat</td>\n",
       "      <td>0.016760</td>\n",
       "      <td>Meat</td>\n",
       "      <td>141.6180</td>\n",
       "      <td>OUT049</td>\n",
       "      <td>1999</td>\n",
       "      <td>Medium</td>\n",
       "      <td>Tier 1</td>\n",
       "      <td>Supermarket Type1</td>\n",
       "      <td>2097.2700</td>\n",
       "    </tr>\n",
       "    <tr>\n",
       "      <th>3</th>\n",
       "      <td>FDX07</td>\n",
       "      <td>19.20</td>\n",
       "      <td>Regular</td>\n",
       "      <td>0.000000</td>\n",
       "      <td>Fruits and Vegetables</td>\n",
       "      <td>182.0950</td>\n",
       "      <td>OUT010</td>\n",
       "      <td>1998</td>\n",
       "      <td>NaN</td>\n",
       "      <td>Tier 3</td>\n",
       "      <td>Grocery Store</td>\n",
       "      <td>732.3800</td>\n",
       "    </tr>\n",
       "    <tr>\n",
       "      <th>4</th>\n",
       "      <td>NCD19</td>\n",
       "      <td>8.93</td>\n",
       "      <td>Low Fat</td>\n",
       "      <td>0.000000</td>\n",
       "      <td>Household</td>\n",
       "      <td>53.8614</td>\n",
       "      <td>OUT013</td>\n",
       "      <td>1987</td>\n",
       "      <td>High</td>\n",
       "      <td>Tier 3</td>\n",
       "      <td>Supermarket Type1</td>\n",
       "      <td>994.7052</td>\n",
       "    </tr>\n",
       "  </tbody>\n",
       "</table>\n",
       "</div>"
      ],
      "text/plain": [
       "  Item_Identifier  Item_Weight Item_Fat_Content  Item_Visibility  \\\n",
       "0           FDA15         9.30          Low Fat         0.016047   \n",
       "1           DRC01         5.92          Regular         0.019278   \n",
       "2           FDN15        17.50          Low Fat         0.016760   \n",
       "3           FDX07        19.20          Regular         0.000000   \n",
       "4           NCD19         8.93          Low Fat         0.000000   \n",
       "\n",
       "               Item_Type  Item_MRP Outlet_Identifier  \\\n",
       "0                  Dairy  249.8092            OUT049   \n",
       "1            Soft Drinks   48.2692            OUT018   \n",
       "2                   Meat  141.6180            OUT049   \n",
       "3  Fruits and Vegetables  182.0950            OUT010   \n",
       "4              Household   53.8614            OUT013   \n",
       "\n",
       "   Outlet_Establishment_Year Outlet_Size Outlet_Location_Type  \\\n",
       "0                       1999      Medium               Tier 1   \n",
       "1                       2009      Medium               Tier 3   \n",
       "2                       1999      Medium               Tier 1   \n",
       "3                       1998         NaN               Tier 3   \n",
       "4                       1987        High               Tier 3   \n",
       "\n",
       "         Outlet_Type  Item_Outlet_Sales  \n",
       "0  Supermarket Type1          3735.1380  \n",
       "1  Supermarket Type2           443.4228  \n",
       "2  Supermarket Type1          2097.2700  \n",
       "3      Grocery Store           732.3800  \n",
       "4  Supermarket Type1           994.7052  "
      ]
     },
     "execution_count": 3,
     "metadata": {},
     "output_type": "execute_result"
    }
   ],
   "source": [
    "train.head()"
   ]
  },
  {
   "cell_type": "code",
   "execution_count": 4,
   "id": "6a0176f5",
   "metadata": {},
   "outputs": [
    {
     "data": {
      "text/html": [
       "<div>\n",
       "<style scoped>\n",
       "    .dataframe tbody tr th:only-of-type {\n",
       "        vertical-align: middle;\n",
       "    }\n",
       "\n",
       "    .dataframe tbody tr th {\n",
       "        vertical-align: top;\n",
       "    }\n",
       "\n",
       "    .dataframe thead th {\n",
       "        text-align: right;\n",
       "    }\n",
       "</style>\n",
       "<table border=\"1\" class=\"dataframe\">\n",
       "  <thead>\n",
       "    <tr style=\"text-align: right;\">\n",
       "      <th></th>\n",
       "      <th>Item_Identifier</th>\n",
       "      <th>Item_Weight</th>\n",
       "      <th>Item_Fat_Content</th>\n",
       "      <th>Item_Visibility</th>\n",
       "      <th>Item_Type</th>\n",
       "      <th>Item_MRP</th>\n",
       "      <th>Outlet_Identifier</th>\n",
       "      <th>Outlet_Establishment_Year</th>\n",
       "      <th>Outlet_Size</th>\n",
       "      <th>Outlet_Location_Type</th>\n",
       "      <th>Outlet_Type</th>\n",
       "      <th>Item_Outlet_Sales</th>\n",
       "    </tr>\n",
       "  </thead>\n",
       "  <tbody>\n",
       "    <tr>\n",
       "      <th>0</th>\n",
       "      <td>NCF31</td>\n",
       "      <td>9.130</td>\n",
       "      <td>Low Fat</td>\n",
       "      <td>0.051928</td>\n",
       "      <td>Household</td>\n",
       "      <td>151.4024</td>\n",
       "      <td>OUT049</td>\n",
       "      <td>1999</td>\n",
       "      <td>Medium</td>\n",
       "      <td>Tier 1</td>\n",
       "      <td>Supermarket Type1</td>\n",
       "      <td>NaN</td>\n",
       "    </tr>\n",
       "    <tr>\n",
       "      <th>1</th>\n",
       "      <td>FDD59</td>\n",
       "      <td>10.500</td>\n",
       "      <td>Regular</td>\n",
       "      <td>0.000000</td>\n",
       "      <td>Starchy Foods</td>\n",
       "      <td>78.2960</td>\n",
       "      <td>OUT046</td>\n",
       "      <td>1997</td>\n",
       "      <td>Small</td>\n",
       "      <td>Tier 1</td>\n",
       "      <td>Supermarket Type1</td>\n",
       "      <td>NaN</td>\n",
       "    </tr>\n",
       "    <tr>\n",
       "      <th>2</th>\n",
       "      <td>FDQ52</td>\n",
       "      <td>17.000</td>\n",
       "      <td>Low Fat</td>\n",
       "      <td>0.119571</td>\n",
       "      <td>Frozen Foods</td>\n",
       "      <td>249.7434</td>\n",
       "      <td>OUT049</td>\n",
       "      <td>1999</td>\n",
       "      <td>Medium</td>\n",
       "      <td>Tier 1</td>\n",
       "      <td>Supermarket Type1</td>\n",
       "      <td>NaN</td>\n",
       "    </tr>\n",
       "    <tr>\n",
       "      <th>3</th>\n",
       "      <td>FDP09</td>\n",
       "      <td>NaN</td>\n",
       "      <td>Low Fat</td>\n",
       "      <td>0.033726</td>\n",
       "      <td>Snack Foods</td>\n",
       "      <td>211.6902</td>\n",
       "      <td>OUT027</td>\n",
       "      <td>1985</td>\n",
       "      <td>Medium</td>\n",
       "      <td>Tier 3</td>\n",
       "      <td>Supermarket Type3</td>\n",
       "      <td>NaN</td>\n",
       "    </tr>\n",
       "    <tr>\n",
       "      <th>4</th>\n",
       "      <td>FDK24</td>\n",
       "      <td>9.195</td>\n",
       "      <td>Low Fat</td>\n",
       "      <td>0.101276</td>\n",
       "      <td>Baking Goods</td>\n",
       "      <td>46.4744</td>\n",
       "      <td>OUT035</td>\n",
       "      <td>2004</td>\n",
       "      <td>Small</td>\n",
       "      <td>Tier 2</td>\n",
       "      <td>Supermarket Type1</td>\n",
       "      <td>NaN</td>\n",
       "    </tr>\n",
       "  </tbody>\n",
       "</table>\n",
       "</div>"
      ],
      "text/plain": [
       "  Item_Identifier  Item_Weight Item_Fat_Content  Item_Visibility  \\\n",
       "0           NCF31        9.130          Low Fat         0.051928   \n",
       "1           FDD59       10.500          Regular         0.000000   \n",
       "2           FDQ52       17.000          Low Fat         0.119571   \n",
       "3           FDP09          NaN          Low Fat         0.033726   \n",
       "4           FDK24        9.195          Low Fat         0.101276   \n",
       "\n",
       "       Item_Type  Item_MRP Outlet_Identifier  Outlet_Establishment_Year  \\\n",
       "0      Household  151.4024            OUT049                       1999   \n",
       "1  Starchy Foods   78.2960            OUT046                       1997   \n",
       "2   Frozen Foods  249.7434            OUT049                       1999   \n",
       "3    Snack Foods  211.6902            OUT027                       1985   \n",
       "4   Baking Goods   46.4744            OUT035                       2004   \n",
       "\n",
       "  Outlet_Size Outlet_Location_Type        Outlet_Type  Item_Outlet_Sales  \n",
       "0      Medium               Tier 1  Supermarket Type1                NaN  \n",
       "1       Small               Tier 1  Supermarket Type1                NaN  \n",
       "2      Medium               Tier 1  Supermarket Type1                NaN  \n",
       "3      Medium               Tier 3  Supermarket Type3                NaN  \n",
       "4       Small               Tier 2  Supermarket Type1                NaN  "
      ]
     },
     "execution_count": 4,
     "metadata": {},
     "output_type": "execute_result"
    }
   ],
   "source": [
    "test.head()"
   ]
  },
  {
   "cell_type": "markdown",
   "id": "d7e53593",
   "metadata": {},
   "source": [
    "The value range difference tells us that the dataset should be normalized.<br>\n",
    "I'd also like to investigate more the minimum values of <b>Item_Visibility</b>"
   ]
  },
  {
   "cell_type": "code",
   "execution_count": 5,
   "id": "1f6f21a8",
   "metadata": {},
   "outputs": [
    {
     "data": {
      "text/html": [
       "<div>\n",
       "<style scoped>\n",
       "    .dataframe tbody tr th:only-of-type {\n",
       "        vertical-align: middle;\n",
       "    }\n",
       "\n",
       "    .dataframe tbody tr th {\n",
       "        vertical-align: top;\n",
       "    }\n",
       "\n",
       "    .dataframe thead th {\n",
       "        text-align: right;\n",
       "    }\n",
       "</style>\n",
       "<table border=\"1\" class=\"dataframe\">\n",
       "  <thead>\n",
       "    <tr style=\"text-align: right;\">\n",
       "      <th></th>\n",
       "      <th>Item_Weight</th>\n",
       "      <th>Item_Visibility</th>\n",
       "      <th>Item_MRP</th>\n",
       "      <th>Outlet_Establishment_Year</th>\n",
       "      <th>Item_Outlet_Sales</th>\n",
       "    </tr>\n",
       "  </thead>\n",
       "  <tbody>\n",
       "    <tr>\n",
       "      <th>count</th>\n",
       "      <td>4182.000000</td>\n",
       "      <td>5000.000000</td>\n",
       "      <td>5000.000000</td>\n",
       "      <td>5000.000000</td>\n",
       "      <td>5000.000000</td>\n",
       "    </tr>\n",
       "    <tr>\n",
       "      <th>mean</th>\n",
       "      <td>12.959605</td>\n",
       "      <td>0.065671</td>\n",
       "      <td>141.344520</td>\n",
       "      <td>1997.900800</td>\n",
       "      <td>2188.381667</td>\n",
       "    </tr>\n",
       "    <tr>\n",
       "      <th>std</th>\n",
       "      <td>4.661704</td>\n",
       "      <td>0.051206</td>\n",
       "      <td>62.401514</td>\n",
       "      <td>8.290423</td>\n",
       "      <td>1703.131187</td>\n",
       "    </tr>\n",
       "    <tr>\n",
       "      <th>min</th>\n",
       "      <td>4.555000</td>\n",
       "      <td>0.000000</td>\n",
       "      <td>31.290000</td>\n",
       "      <td>1985.000000</td>\n",
       "      <td>33.290000</td>\n",
       "    </tr>\n",
       "    <tr>\n",
       "      <th>25%</th>\n",
       "      <td>8.890000</td>\n",
       "      <td>0.026839</td>\n",
       "      <td>94.119250</td>\n",
       "      <td>1987.000000</td>\n",
       "      <td>846.231800</td>\n",
       "    </tr>\n",
       "    <tr>\n",
       "      <th>50%</th>\n",
       "      <td>12.800000</td>\n",
       "      <td>0.054251</td>\n",
       "      <td>143.315400</td>\n",
       "      <td>1999.000000</td>\n",
       "      <td>1808.312800</td>\n",
       "    </tr>\n",
       "    <tr>\n",
       "      <th>75%</th>\n",
       "      <td>17.100000</td>\n",
       "      <td>0.093850</td>\n",
       "      <td>186.472700</td>\n",
       "      <td>2004.000000</td>\n",
       "      <td>3091.975200</td>\n",
       "    </tr>\n",
       "    <tr>\n",
       "      <th>max</th>\n",
       "      <td>21.350000</td>\n",
       "      <td>0.328391</td>\n",
       "      <td>266.888400</td>\n",
       "      <td>2009.000000</td>\n",
       "      <td>11445.102000</td>\n",
       "    </tr>\n",
       "  </tbody>\n",
       "</table>\n",
       "</div>"
      ],
      "text/plain": [
       "       Item_Weight  Item_Visibility     Item_MRP  Outlet_Establishment_Year  \\\n",
       "count  4182.000000      5000.000000  5000.000000                5000.000000   \n",
       "mean     12.959605         0.065671   141.344520                1997.900800   \n",
       "std       4.661704         0.051206    62.401514                   8.290423   \n",
       "min       4.555000         0.000000    31.290000                1985.000000   \n",
       "25%       8.890000         0.026839    94.119250                1987.000000   \n",
       "50%      12.800000         0.054251   143.315400                1999.000000   \n",
       "75%      17.100000         0.093850   186.472700                2004.000000   \n",
       "max      21.350000         0.328391   266.888400                2009.000000   \n",
       "\n",
       "       Item_Outlet_Sales  \n",
       "count        5000.000000  \n",
       "mean         2188.381667  \n",
       "std          1703.131187  \n",
       "min            33.290000  \n",
       "25%           846.231800  \n",
       "50%          1808.312800  \n",
       "75%          3091.975200  \n",
       "max         11445.102000  "
      ]
     },
     "execution_count": 5,
     "metadata": {},
     "output_type": "execute_result"
    }
   ],
   "source": [
    "train.describe()"
   ]
  },
  {
   "cell_type": "code",
   "execution_count": 6,
   "id": "d5fa839a",
   "metadata": {},
   "outputs": [
    {
     "data": {
      "text/html": [
       "<div>\n",
       "<style scoped>\n",
       "    .dataframe tbody tr th:only-of-type {\n",
       "        vertical-align: middle;\n",
       "    }\n",
       "\n",
       "    .dataframe tbody tr th {\n",
       "        vertical-align: top;\n",
       "    }\n",
       "\n",
       "    .dataframe thead th {\n",
       "        text-align: right;\n",
       "    }\n",
       "</style>\n",
       "<table border=\"1\" class=\"dataframe\">\n",
       "  <thead>\n",
       "    <tr style=\"text-align: right;\">\n",
       "      <th></th>\n",
       "      <th>Item_Weight</th>\n",
       "      <th>Item_Visibility</th>\n",
       "      <th>Item_MRP</th>\n",
       "      <th>Outlet_Establishment_Year</th>\n",
       "      <th>Item_Outlet_Sales</th>\n",
       "    </tr>\n",
       "  </thead>\n",
       "  <tbody>\n",
       "    <tr>\n",
       "      <th>count</th>\n",
       "      <td>2878.000000</td>\n",
       "      <td>3523.000000</td>\n",
       "      <td>3523.000000</td>\n",
       "      <td>3523.000000</td>\n",
       "      <td>0.0</td>\n",
       "    </tr>\n",
       "    <tr>\n",
       "      <th>mean</th>\n",
       "      <td>12.709487</td>\n",
       "      <td>0.066786</td>\n",
       "      <td>140.493580</td>\n",
       "      <td>1997.734033</td>\n",
       "      <td>NaN</td>\n",
       "    </tr>\n",
       "    <tr>\n",
       "      <th>std</th>\n",
       "      <td>4.613606</td>\n",
       "      <td>0.052149</td>\n",
       "      <td>62.100594</td>\n",
       "      <td>8.486081</td>\n",
       "      <td>NaN</td>\n",
       "    </tr>\n",
       "    <tr>\n",
       "      <th>min</th>\n",
       "      <td>4.555000</td>\n",
       "      <td>0.000000</td>\n",
       "      <td>31.490000</td>\n",
       "      <td>1985.000000</td>\n",
       "      <td>NaN</td>\n",
       "    </tr>\n",
       "    <tr>\n",
       "      <th>25%</th>\n",
       "      <td>8.630000</td>\n",
       "      <td>0.027577</td>\n",
       "      <td>93.496200</td>\n",
       "      <td>1987.000000</td>\n",
       "      <td>NaN</td>\n",
       "    </tr>\n",
       "    <tr>\n",
       "      <th>50%</th>\n",
       "      <td>12.500000</td>\n",
       "      <td>0.053482</td>\n",
       "      <td>142.481200</td>\n",
       "      <td>1999.000000</td>\n",
       "      <td>NaN</td>\n",
       "    </tr>\n",
       "    <tr>\n",
       "      <th>75%</th>\n",
       "      <td>16.700000</td>\n",
       "      <td>0.095462</td>\n",
       "      <td>184.658200</td>\n",
       "      <td>2004.000000</td>\n",
       "      <td>NaN</td>\n",
       "    </tr>\n",
       "    <tr>\n",
       "      <th>max</th>\n",
       "      <td>21.350000</td>\n",
       "      <td>0.311090</td>\n",
       "      <td>266.888400</td>\n",
       "      <td>2009.000000</td>\n",
       "      <td>NaN</td>\n",
       "    </tr>\n",
       "  </tbody>\n",
       "</table>\n",
       "</div>"
      ],
      "text/plain": [
       "       Item_Weight  Item_Visibility     Item_MRP  Outlet_Establishment_Year  \\\n",
       "count  2878.000000      3523.000000  3523.000000                3523.000000   \n",
       "mean     12.709487         0.066786   140.493580                1997.734033   \n",
       "std       4.613606         0.052149    62.100594                   8.486081   \n",
       "min       4.555000         0.000000    31.490000                1985.000000   \n",
       "25%       8.630000         0.027577    93.496200                1987.000000   \n",
       "50%      12.500000         0.053482   142.481200                1999.000000   \n",
       "75%      16.700000         0.095462   184.658200                2004.000000   \n",
       "max      21.350000         0.311090   266.888400                2009.000000   \n",
       "\n",
       "       Item_Outlet_Sales  \n",
       "count                0.0  \n",
       "mean                 NaN  \n",
       "std                  NaN  \n",
       "min                  NaN  \n",
       "25%                  NaN  \n",
       "50%                  NaN  \n",
       "75%                  NaN  \n",
       "max                  NaN  "
      ]
     },
     "execution_count": 6,
     "metadata": {},
     "output_type": "execute_result"
    }
   ],
   "source": [
    "test.describe()"
   ]
  },
  {
   "cell_type": "markdown",
   "id": "0cea8bdc",
   "metadata": {},
   "source": [
    "Checking the data type"
   ]
  },
  {
   "cell_type": "code",
   "execution_count": 7,
   "id": "38ebbcac",
   "metadata": {},
   "outputs": [
    {
     "data": {
      "text/plain": [
       "Item_Identifier               object\n",
       "Item_Weight                  float64\n",
       "Item_Fat_Content              object\n",
       "Item_Visibility              float64\n",
       "Item_Type                     object\n",
       "Item_MRP                     float64\n",
       "Outlet_Identifier             object\n",
       "Outlet_Establishment_Year      int64\n",
       "Outlet_Size                   object\n",
       "Outlet_Location_Type          object\n",
       "Outlet_Type                   object\n",
       "Item_Outlet_Sales            float64\n",
       "dtype: object"
      ]
     },
     "execution_count": 7,
     "metadata": {},
     "output_type": "execute_result"
    }
   ],
   "source": [
    "train.dtypes"
   ]
  },
  {
   "cell_type": "code",
   "execution_count": 8,
   "id": "f84f977e",
   "metadata": {},
   "outputs": [
    {
     "data": {
      "text/plain": [
       "Item_Identifier               object\n",
       "Item_Weight                  float64\n",
       "Item_Fat_Content              object\n",
       "Item_Visibility              float64\n",
       "Item_Type                     object\n",
       "Item_MRP                     float64\n",
       "Outlet_Identifier             object\n",
       "Outlet_Establishment_Year      int64\n",
       "Outlet_Size                   object\n",
       "Outlet_Location_Type          object\n",
       "Outlet_Type                   object\n",
       "Item_Outlet_Sales            float64\n",
       "dtype: object"
      ]
     },
     "execution_count": 8,
     "metadata": {},
     "output_type": "execute_result"
    }
   ],
   "source": [
    "test.dtypes"
   ]
  },
  {
   "cell_type": "markdown",
   "id": "4722d977",
   "metadata": {},
   "source": [
    "Checking for null-values"
   ]
  },
  {
   "cell_type": "code",
   "execution_count": 9,
   "id": "7d8428c0",
   "metadata": {},
   "outputs": [
    {
     "data": {
      "text/plain": [
       "Item_Identifier                 0\n",
       "Item_Weight                   818\n",
       "Item_Fat_Content                0\n",
       "Item_Visibility                 0\n",
       "Item_Type                       0\n",
       "Item_MRP                        0\n",
       "Outlet_Identifier               0\n",
       "Outlet_Establishment_Year       0\n",
       "Outlet_Size                  1439\n",
       "Outlet_Location_Type            0\n",
       "Outlet_Type                     0\n",
       "Item_Outlet_Sales               0\n",
       "dtype: int64"
      ]
     },
     "execution_count": 9,
     "metadata": {},
     "output_type": "execute_result"
    }
   ],
   "source": [
    "train.isnull().sum()"
   ]
  },
  {
   "cell_type": "code",
   "execution_count": 10,
   "id": "f22f3ea1",
   "metadata": {},
   "outputs": [
    {
     "data": {
      "text/plain": [
       "Item_Identifier                 0\n",
       "Item_Weight                   645\n",
       "Item_Fat_Content                0\n",
       "Item_Visibility                 0\n",
       "Item_Type                       0\n",
       "Item_MRP                        0\n",
       "Outlet_Identifier               0\n",
       "Outlet_Establishment_Year       0\n",
       "Outlet_Size                   971\n",
       "Outlet_Location_Type            0\n",
       "Outlet_Type                     0\n",
       "Item_Outlet_Sales            3523\n",
       "dtype: int64"
      ]
     },
     "execution_count": 10,
     "metadata": {},
     "output_type": "execute_result"
    }
   ],
   "source": [
    "test.isnull().sum()"
   ]
  },
  {
   "cell_type": "code",
   "execution_count": 11,
   "id": "5c92ac84",
   "metadata": {},
   "outputs": [
    {
     "data": {
      "text/plain": [
       "5000"
      ]
     },
     "execution_count": 11,
     "metadata": {},
     "output_type": "execute_result"
    }
   ],
   "source": [
    "train.shape[0]"
   ]
  },
  {
   "cell_type": "markdown",
   "id": "b8e6a6c6",
   "metadata": {},
   "source": [
    "Listing categorical values."
   ]
  },
  {
   "cell_type": "code",
   "execution_count": 12,
   "id": "b64a5465",
   "metadata": {},
   "outputs": [
    {
     "data": {
      "text/plain": [
       "['Low Fat', 'Regular', 'low fat', 'LF', 'reg']"
      ]
     },
     "execution_count": 12,
     "metadata": {},
     "output_type": "execute_result"
    }
   ],
   "source": [
    "train['Item_Fat_Content'].unique().tolist()"
   ]
  },
  {
   "cell_type": "code",
   "execution_count": 13,
   "id": "2cb94970",
   "metadata": {},
   "outputs": [
    {
     "data": {
      "text/plain": [
       "['Low Fat', 'Regular', 'reg', 'LF', 'low fat']"
      ]
     },
     "execution_count": 13,
     "metadata": {},
     "output_type": "execute_result"
    }
   ],
   "source": [
    "test['Item_Fat_Content'].unique().tolist()"
   ]
  },
  {
   "cell_type": "code",
   "execution_count": 14,
   "id": "28e48081",
   "metadata": {},
   "outputs": [
    {
     "data": {
      "text/plain": [
       "['Dairy',\n",
       " 'Soft Drinks',\n",
       " 'Meat',\n",
       " 'Fruits and Vegetables',\n",
       " 'Household',\n",
       " 'Baking Goods',\n",
       " 'Snack Foods',\n",
       " 'Frozen Foods',\n",
       " 'Breakfast',\n",
       " 'Health and Hygiene',\n",
       " 'Hard Drinks',\n",
       " 'Canned',\n",
       " 'Breads',\n",
       " 'Starchy Foods',\n",
       " 'Others',\n",
       " 'Seafood']"
      ]
     },
     "execution_count": 14,
     "metadata": {},
     "output_type": "execute_result"
    }
   ],
   "source": [
    "train['Item_Type'].unique().tolist()"
   ]
  },
  {
   "cell_type": "code",
   "execution_count": 15,
   "id": "5526db86",
   "metadata": {},
   "outputs": [
    {
     "data": {
      "text/plain": [
       "['Household',\n",
       " 'Starchy Foods',\n",
       " 'Frozen Foods',\n",
       " 'Snack Foods',\n",
       " 'Baking Goods',\n",
       " 'Fruits and Vegetables',\n",
       " 'Canned',\n",
       " 'Soft Drinks',\n",
       " 'Health and Hygiene',\n",
       " 'Dairy',\n",
       " 'Meat',\n",
       " 'Seafood',\n",
       " 'Hard Drinks',\n",
       " 'Breads',\n",
       " 'Others',\n",
       " 'Breakfast']"
      ]
     },
     "execution_count": 15,
     "metadata": {},
     "output_type": "execute_result"
    }
   ],
   "source": [
    "test['Item_Type'].unique().tolist()"
   ]
  },
  {
   "cell_type": "code",
   "execution_count": 16,
   "id": "28b548d0",
   "metadata": {},
   "outputs": [
    {
     "data": {
      "text/plain": [
       "['Medium', nan, 'High', 'Small']"
      ]
     },
     "execution_count": 16,
     "metadata": {},
     "output_type": "execute_result"
    }
   ],
   "source": [
    "train['Outlet_Size'].unique().tolist()"
   ]
  },
  {
   "cell_type": "code",
   "execution_count": 17,
   "id": "d11a5e02",
   "metadata": {},
   "outputs": [
    {
     "data": {
      "text/plain": [
       "['Medium', 'Small', nan, 'High']"
      ]
     },
     "execution_count": 17,
     "metadata": {},
     "output_type": "execute_result"
    }
   ],
   "source": [
    "test['Outlet_Size'].unique().tolist()"
   ]
  },
  {
   "cell_type": "code",
   "execution_count": 18,
   "id": "3395882f",
   "metadata": {},
   "outputs": [
    {
     "data": {
      "text/plain": [
       "['Tier 1', 'Tier 3', 'Tier 2']"
      ]
     },
     "execution_count": 18,
     "metadata": {},
     "output_type": "execute_result"
    }
   ],
   "source": [
    "train['Outlet_Location_Type'].unique().tolist()"
   ]
  },
  {
   "cell_type": "code",
   "execution_count": 19,
   "id": "d44274c0",
   "metadata": {},
   "outputs": [
    {
     "data": {
      "text/plain": [
       "['Tier 1', 'Tier 3', 'Tier 2']"
      ]
     },
     "execution_count": 19,
     "metadata": {},
     "output_type": "execute_result"
    }
   ],
   "source": [
    "test['Outlet_Location_Type'].unique().tolist()"
   ]
  },
  {
   "cell_type": "code",
   "execution_count": 20,
   "id": "5f999ff5",
   "metadata": {},
   "outputs": [
    {
     "data": {
      "text/plain": [
       "['Supermarket Type1',\n",
       " 'Supermarket Type2',\n",
       " 'Grocery Store',\n",
       " 'Supermarket Type3']"
      ]
     },
     "execution_count": 20,
     "metadata": {},
     "output_type": "execute_result"
    }
   ],
   "source": [
    "train['Outlet_Type'].unique().tolist()"
   ]
  },
  {
   "cell_type": "code",
   "execution_count": 21,
   "id": "d8de8ff6",
   "metadata": {},
   "outputs": [
    {
     "data": {
      "text/plain": [
       "['Supermarket Type1',\n",
       " 'Supermarket Type3',\n",
       " 'Grocery Store',\n",
       " 'Supermarket Type2']"
      ]
     },
     "execution_count": 21,
     "metadata": {},
     "output_type": "execute_result"
    }
   ],
   "source": [
    "test['Outlet_Type'].unique().tolist()"
   ]
  },
  {
   "cell_type": "markdown",
   "id": "377d0796",
   "metadata": {},
   "source": [
    "# Pre-processing\n",
    "Reference source<br>\n",
    "https://towardsdatascience.com/preprocessing-with-sklearn-a-complete-and-comprehensive-guide-670cb98fcfb9\n",
    "## Null-values\n",
    "Replacing null values with the mean value for <b>Item_Weight</b> and the middle value <i>Medium</i> for <b>Outlet_Size</b>."
   ]
  },
  {
   "cell_type": "code",
   "execution_count": 22,
   "id": "05bf0424",
   "metadata": {},
   "outputs": [
    {
     "data": {
      "text/plain": [
       "0"
      ]
     },
     "execution_count": 22,
     "metadata": {},
     "output_type": "execute_result"
    }
   ],
   "source": [
    "train['Item_Weight'] = train['Item_Weight'].fillna(train['Item_Weight'].mean())\n",
    "train['Outlet_Size'] = train['Outlet_Size'].fillna('Medium')\n",
    "train.isnull().any().sum()"
   ]
  },
  {
   "cell_type": "code",
   "execution_count": 23,
   "id": "95be3d18",
   "metadata": {},
   "outputs": [
    {
     "data": {
      "text/plain": [
       "0"
      ]
     },
     "execution_count": 23,
     "metadata": {},
     "output_type": "execute_result"
    }
   ],
   "source": [
    "test['Item_Weight'] = train['Item_Weight'].fillna(test['Item_Weight'].mean())\n",
    "test['Outlet_Size'] = train['Outlet_Size'].fillna('Medium')\n",
    "test.drop(['Item_Outlet_Sales'], axis=1).isnull().any().sum()"
   ]
  },
  {
   "cell_type": "markdown",
   "id": "2af70d55",
   "metadata": {},
   "source": [
    "## Unique values\n",
    "Removing item identifier values."
   ]
  },
  {
   "cell_type": "code",
   "execution_count": 24,
   "id": "9e9eecbc",
   "metadata": {},
   "outputs": [],
   "source": [
    "train.drop(['Item_Identifier'], axis=1, inplace=True)\n",
    "test.drop(['Item_Identifier'], axis=1, inplace=True)"
   ]
  },
  {
   "cell_type": "markdown",
   "id": "b5b44d14",
   "metadata": {},
   "source": [
    "## Category features\n",
    "These must be <b>cleaned</b>, <b>screened</b> and <b>converted</b>.<br>\n",
    "How they are converted is based on the type they are, <b>ordinal</b> or <b>nominal</b>.<br>\n",
    "An ordinal feature has natural, ordered categories and the distance between each is not known.<br>"
   ]
  },
  {
   "cell_type": "markdown",
   "id": "ee199d1c",
   "metadata": {},
   "source": [
    "### Category cleaning\n",
    "Before converting, I'll merge category variants of the same type."
   ]
  },
  {
   "cell_type": "code",
   "execution_count": 25,
   "id": "6b43d63b",
   "metadata": {},
   "outputs": [
    {
     "name": "stdout",
     "output_type": "stream",
     "text": [
      "['Low Fat', 'Regular', 'low fat', 'LF', 'reg']\n",
      "['Low Fat', 'Regular']\n"
     ]
    }
   ],
   "source": [
    "print(train['Item_Fat_Content'].unique().tolist())\n",
    "train['Item_Fat_Content'] = train['Item_Fat_Content'].replace('low fat', 'Low Fat')\n",
    "train['Item_Fat_Content'] = train['Item_Fat_Content'].replace('LF', 'Low Fat')\n",
    "train['Item_Fat_Content'] = train['Item_Fat_Content'].replace('reg', 'Regular')\n",
    "print(train['Item_Fat_Content'].unique().tolist())"
   ]
  },
  {
   "cell_type": "code",
   "execution_count": 26,
   "id": "2bbcf69d",
   "metadata": {},
   "outputs": [
    {
     "name": "stdout",
     "output_type": "stream",
     "text": [
      "['Low Fat', 'Regular', 'reg', 'LF', 'low fat']\n",
      "['Low Fat', 'Regular']\n"
     ]
    }
   ],
   "source": [
    "print(test['Item_Fat_Content'].unique().tolist())\n",
    "test['Item_Fat_Content'] = test['Item_Fat_Content'].replace('low fat', 'Low Fat')\n",
    "test['Item_Fat_Content'] = test['Item_Fat_Content'].replace('LF', 'Low Fat')\n",
    "test['Item_Fat_Content'] = test['Item_Fat_Content'].replace('reg', 'Regular')\n",
    "print(test['Item_Fat_Content'].unique().tolist())"
   ]
  },
  {
   "cell_type": "markdown",
   "id": "62d20954",
   "metadata": {},
   "source": [
    "### Category screening\n",
    "Get a list of unique category types and list the number of values for each one.<br>\n",
    "If a category has too few values, it might make it harder to predict accurate prices."
   ]
  },
  {
   "cell_type": "code",
   "execution_count": 27,
   "id": "f553d51a",
   "metadata": {},
   "outputs": [
    {
     "name": "stdout",
     "output_type": "stream",
     "text": [
      "['Low Fat', 'Regular']\n",
      "[3253, 1747]\n"
     ]
    }
   ],
   "source": [
    "categories = train[\"Item_Fat_Content\"].value_counts().keys().tolist()\n",
    "counts = train[\"Item_Fat_Content\"].value_counts().tolist()\n",
    "print(categories)\n",
    "print(counts)"
   ]
  },
  {
   "cell_type": "code",
   "execution_count": 28,
   "id": "8e0ed5e0",
   "metadata": {},
   "outputs": [
    {
     "name": "stdout",
     "output_type": "stream",
     "text": [
      "['Low Fat', 'Regular']\n",
      "[2264, 1259]\n"
     ]
    }
   ],
   "source": [
    "categories = test[\"Item_Fat_Content\"].value_counts().keys().tolist()\n",
    "counts = test[\"Item_Fat_Content\"].value_counts().tolist()\n",
    "print(categories)\n",
    "print(counts)"
   ]
  },
  {
   "cell_type": "code",
   "execution_count": 29,
   "id": "9cf922e5",
   "metadata": {},
   "outputs": [
    {
     "name": "stdout",
     "output_type": "stream",
     "text": [
      "['Fruits and Vegetables', 'Snack Foods', 'Household', 'Frozen Foods', 'Dairy', 'Canned', 'Baking Goods', 'Health and Hygiene', 'Soft Drinks', 'Meat', 'Breads', 'Hard Drinks', 'Others', 'Starchy Foods', 'Breakfast', 'Seafood']\n",
      "[733, 702, 532, 515, 401, 389, 370, 274, 265, 251, 153, 128, 96, 86, 66, 39]\n"
     ]
    }
   ],
   "source": [
    "categories = train['Item_Type'].value_counts().keys().tolist()\n",
    "counts = train['Item_Type'].value_counts().tolist()\n",
    "print(categories)\n",
    "print(counts)"
   ]
  },
  {
   "cell_type": "markdown",
   "id": "79b178b3",
   "metadata": {},
   "source": [
    "The results from Item_Types in the train dataset shows that this column contains the categories with few values.<br>\n",
    "Consider removal of some of the categories to see if it makes a noticable difference in predictions."
   ]
  },
  {
   "cell_type": "code",
   "execution_count": 30,
   "id": "7e6a1e49",
   "metadata": {},
   "outputs": [
    {
     "name": "stdout",
     "output_type": "stream",
     "text": [
      "['Fruits and Vegetables', 'Snack Foods', 'Household', 'Frozen Foods', 'Dairy', 'Baking Goods', 'Canned', 'Health and Hygiene', 'Soft Drinks', 'Meat', 'Breads', 'Hard Drinks', 'Others', 'Starchy Foods', 'Breakfast', 'Seafood']\n",
      "[499, 498, 378, 341, 281, 278, 260, 246, 180, 174, 98, 86, 73, 62, 44, 25]\n"
     ]
    }
   ],
   "source": [
    "categories = test['Item_Type'].value_counts().keys().tolist()\n",
    "counts = test['Item_Type'].value_counts().tolist()\n",
    "print(categories)\n",
    "print(counts)"
   ]
  },
  {
   "cell_type": "code",
   "execution_count": 31,
   "id": "808a26da",
   "metadata": {},
   "outputs": [
    {
     "name": "stdout",
     "output_type": "stream",
     "text": [
      "[1985, 2002, 2004, 1997, 1987, 2007, 1999, 2009, 1998]\n",
      "[818, 569, 559, 559, 558, 542, 541, 526, 328]\n"
     ]
    }
   ],
   "source": [
    "categories = train['Outlet_Establishment_Year'].value_counts().keys().tolist()\n",
    "counts = train['Outlet_Establishment_Year'].value_counts().tolist()\n",
    "print(categories)\n",
    "print(counts)"
   ]
  },
  {
   "cell_type": "code",
   "execution_count": 32,
   "id": "4b332853",
   "metadata": {},
   "outputs": [
    {
     "name": "stdout",
     "output_type": "stream",
     "text": [
      "[1985, 2009, 1999, 2007, 1987, 2004, 1997, 2002, 1998]\n",
      "[645, 402, 389, 384, 374, 371, 371, 360, 227]\n"
     ]
    }
   ],
   "source": [
    "categories = test['Outlet_Establishment_Year'].value_counts().keys().tolist()\n",
    "counts = test['Outlet_Establishment_Year'].value_counts().tolist()\n",
    "print(categories)\n",
    "print(counts)"
   ]
  },
  {
   "cell_type": "code",
   "execution_count": 33,
   "id": "8abe56d4",
   "metadata": {},
   "outputs": [
    {
     "name": "stdout",
     "output_type": "stream",
     "text": [
      "['Medium', 'Small', 'High']\n",
      "[3044, 1398, 558]\n"
     ]
    }
   ],
   "source": [
    "categories = train['Outlet_Size'].value_counts().keys().tolist()\n",
    "counts = train['Outlet_Size'].value_counts().tolist()\n",
    "print(categories)\n",
    "print(counts)"
   ]
  },
  {
   "cell_type": "code",
   "execution_count": 34,
   "id": "8333904b",
   "metadata": {},
   "outputs": [
    {
     "name": "stdout",
     "output_type": "stream",
     "text": [
      "['Medium', 'Small', 'High']\n",
      "[2125, 1009, 389]\n"
     ]
    }
   ],
   "source": [
    "categories = test['Outlet_Size'].value_counts().keys().tolist()\n",
    "counts = test['Outlet_Size'].value_counts().tolist()\n",
    "print(categories)\n",
    "print(counts)"
   ]
  },
  {
   "cell_type": "code",
   "execution_count": 35,
   "id": "23a4b8ec",
   "metadata": {},
   "outputs": [
    {
     "name": "stdout",
     "output_type": "stream",
     "text": [
      "['Tier 3', 'Tier 2', 'Tier 1']\n",
      "[1950, 1670, 1380]\n"
     ]
    }
   ],
   "source": [
    "categories = train['Outlet_Location_Type'].value_counts().keys().tolist()\n",
    "counts = train['Outlet_Location_Type'].value_counts().tolist()\n",
    "print(categories)\n",
    "print(counts)"
   ]
  },
  {
   "cell_type": "code",
   "execution_count": 36,
   "id": "1323d04d",
   "metadata": {},
   "outputs": [
    {
     "name": "stdout",
     "output_type": "stream",
     "text": [
      "['Tier 3', 'Tier 2', 'Tier 1']\n",
      "[1400, 1115, 1008]\n"
     ]
    }
   ],
   "source": [
    "categories = test['Outlet_Location_Type'].value_counts().keys().tolist()\n",
    "counts = test['Outlet_Location_Type'].value_counts().tolist()\n",
    "print(categories)\n",
    "print(counts)"
   ]
  },
  {
   "cell_type": "code",
   "execution_count": 37,
   "id": "0e167e4b",
   "metadata": {},
   "outputs": [
    {
     "name": "stdout",
     "output_type": "stream",
     "text": [
      "['Supermarket Type1', 'Grocery Store', 'Supermarket Type3', 'Supermarket Type2']\n",
      "[3328, 608, 538, 526]\n"
     ]
    }
   ],
   "source": [
    "categories = train['Outlet_Type'].value_counts().keys().tolist()\n",
    "counts = train['Outlet_Type'].value_counts().tolist()\n",
    "print(categories)\n",
    "print(counts)"
   ]
  },
  {
   "cell_type": "code",
   "execution_count": 38,
   "id": "9a9fddaf",
   "metadata": {},
   "outputs": [
    {
     "name": "stdout",
     "output_type": "stream",
     "text": [
      "['Supermarket Type1', 'Grocery Store', 'Supermarket Type2', 'Supermarket Type3']\n",
      "[2249, 475, 402, 397]\n"
     ]
    }
   ],
   "source": [
    "categories = test['Outlet_Type'].value_counts().keys().tolist()\n",
    "counts = test['Outlet_Type'].value_counts().tolist()\n",
    "print(categories)\n",
    "print(counts)"
   ]
  },
  {
   "cell_type": "markdown",
   "id": "4a32f6f5",
   "metadata": {},
   "source": [
    "### Ordinal conversion\n",
    "Convertion of ordinal category types."
   ]
  },
  {
   "cell_type": "code",
   "execution_count": 39,
   "id": "5611a242",
   "metadata": {},
   "outputs": [
    {
     "name": "stdout",
     "output_type": "stream",
     "text": [
      "['Low Fat', 'Regular']\n",
      "[0, 1]\n"
     ]
    }
   ],
   "source": [
    "print(train['Item_Fat_Content'].unique().tolist())\n",
    "train['Item_Fat_Content'] = pd.factorize(train['Item_Fat_Content'])[0]\n",
    "print(train['Item_Fat_Content'].unique().tolist())"
   ]
  },
  {
   "cell_type": "code",
   "execution_count": 40,
   "id": "febc6bff",
   "metadata": {},
   "outputs": [
    {
     "name": "stdout",
     "output_type": "stream",
     "text": [
      "['Low Fat', 'Regular']\n",
      "[0, 1]\n"
     ]
    }
   ],
   "source": [
    "print(test['Item_Fat_Content'].unique().tolist())\n",
    "test['Item_Fat_Content'] = pd.factorize(test['Item_Fat_Content'])[0]\n",
    "print(test['Item_Fat_Content'].unique().tolist())"
   ]
  },
  {
   "cell_type": "code",
   "execution_count": 41,
   "id": "08f6299c",
   "metadata": {},
   "outputs": [
    {
     "name": "stdout",
     "output_type": "stream",
     "text": [
      "['Small', 'Medium', 'High']\n",
      "[0, 1, 2]\n"
     ]
    }
   ],
   "source": [
    "train = train.sort_values('Outlet_Size', ascending=False) # Sorting to get the right order\n",
    "print(train['Outlet_Size'].unique().tolist())\n",
    "train['Outlet_Size'] = pd.factorize(train['Outlet_Size'])[0]\n",
    "print(train['Outlet_Size'].unique().tolist())"
   ]
  },
  {
   "cell_type": "code",
   "execution_count": 42,
   "id": "d0d68f05",
   "metadata": {},
   "outputs": [
    {
     "name": "stdout",
     "output_type": "stream",
     "text": [
      "['Small', 'Medium', 'High']\n",
      "[0, 1, 2]\n"
     ]
    }
   ],
   "source": [
    "test = test.sort_values('Outlet_Size', ascending=False)\n",
    "print(test['Outlet_Size'].unique().tolist())\n",
    "test['Outlet_Size'] = pd.factorize(test['Outlet_Size'])[0]\n",
    "print(test['Outlet_Size'].unique().tolist())"
   ]
  },
  {
   "cell_type": "code",
   "execution_count": 43,
   "id": "e0b0c7cf",
   "metadata": {},
   "outputs": [
    {
     "name": "stdout",
     "output_type": "stream",
     "text": [
      "['Tier 1', 'Tier 2', 'Tier 3']\n",
      "[0, 1, 2]\n"
     ]
    }
   ],
   "source": [
    "train = train.sort_values('Outlet_Location_Type', ascending=True)\n",
    "print(train['Outlet_Location_Type'].unique().tolist())\n",
    "train['Outlet_Location_Type'] = pd.factorize(train['Outlet_Location_Type'])[0]\n",
    "print(train['Outlet_Location_Type'].unique().tolist())"
   ]
  },
  {
   "cell_type": "code",
   "execution_count": 44,
   "id": "23e6b575",
   "metadata": {},
   "outputs": [
    {
     "name": "stdout",
     "output_type": "stream",
     "text": [
      "['Tier 1', 'Tier 2', 'Tier 3']\n",
      "[0, 1, 2]\n"
     ]
    }
   ],
   "source": [
    "test = test.sort_values('Outlet_Location_Type', ascending=True)\n",
    "print(test['Outlet_Location_Type'].unique().tolist())\n",
    "test['Outlet_Location_Type'] = pd.factorize(test['Outlet_Location_Type'])[0]\n",
    "print(test['Outlet_Location_Type'].unique().tolist())"
   ]
  },
  {
   "cell_type": "code",
   "execution_count": 45,
   "id": "8a6a25c1",
   "metadata": {},
   "outputs": [
    {
     "name": "stdout",
     "output_type": "stream",
     "text": [
      "['Grocery Store', 'Supermarket Type1', 'Supermarket Type2', 'Supermarket Type3']\n",
      "[0, 1, 2, 3]\n"
     ]
    }
   ],
   "source": [
    "train = train.sort_values('Outlet_Type', ascending=True)\n",
    "print(train['Outlet_Type'].unique().tolist())\n",
    "train['Outlet_Type'] = pd.factorize(train['Outlet_Type'])[0]\n",
    "print(train['Outlet_Type'].unique().tolist())"
   ]
  },
  {
   "cell_type": "code",
   "execution_count": 46,
   "id": "029252be",
   "metadata": {},
   "outputs": [
    {
     "name": "stdout",
     "output_type": "stream",
     "text": [
      "['Grocery Store', 'Supermarket Type1', 'Supermarket Type2', 'Supermarket Type3']\n",
      "[0, 1, 2, 3]\n"
     ]
    }
   ],
   "source": [
    "test = test.sort_values('Outlet_Type', ascending=True)\n",
    "print(test['Outlet_Type'].unique().tolist())\n",
    "test['Outlet_Type'] = pd.factorize(test['Outlet_Type'])[0]\n",
    "print(test['Outlet_Type'].unique().tolist())"
   ]
  },
  {
   "cell_type": "code",
   "execution_count": 47,
   "id": "748652e7",
   "metadata": {},
   "outputs": [
    {
     "name": "stdout",
     "output_type": "stream",
     "text": [
      "0\n"
     ]
    }
   ],
   "source": [
    "train = train.sort_index()\n",
    "test = test.sort_index()\n",
    "train.head()\n",
    "print(train['Item_Visibility'].isnull().sum())"
   ]
  },
  {
   "cell_type": "markdown",
   "id": "661eb431",
   "metadata": {},
   "source": [
    "### Nominal conversion\n",
    "Because both datasets contain the same nominal categories, we can process them at the same time.\n",
    "\n",
    "OneHotEncoder reference<br>\n",
    "https://towardsdatascience.com/preprocessing-with-sklearn-a-complete-and-comprehensive-guide-670cb98fcfb9"
   ]
  },
  {
   "cell_type": "code",
   "execution_count": 48,
   "id": "5710462f",
   "metadata": {},
   "outputs": [
    {
     "data": {
      "text/html": [
       "<div>\n",
       "<style scoped>\n",
       "    .dataframe tbody tr th:only-of-type {\n",
       "        vertical-align: middle;\n",
       "    }\n",
       "\n",
       "    .dataframe tbody tr th {\n",
       "        vertical-align: top;\n",
       "    }\n",
       "\n",
       "    .dataframe thead th {\n",
       "        text-align: right;\n",
       "    }\n",
       "</style>\n",
       "<table border=\"1\" class=\"dataframe\">\n",
       "  <thead>\n",
       "    <tr style=\"text-align: right;\">\n",
       "      <th></th>\n",
       "      <th>Baking Goods</th>\n",
       "      <th>Breads</th>\n",
       "      <th>Breakfast</th>\n",
       "      <th>Canned</th>\n",
       "      <th>Dairy</th>\n",
       "      <th>Frozen Foods</th>\n",
       "      <th>Fruits and Vegetables</th>\n",
       "      <th>Hard Drinks</th>\n",
       "      <th>Health and Hygiene</th>\n",
       "      <th>Household</th>\n",
       "      <th>...</th>\n",
       "      <th>OUT010</th>\n",
       "      <th>OUT013</th>\n",
       "      <th>OUT017</th>\n",
       "      <th>OUT018</th>\n",
       "      <th>OUT019</th>\n",
       "      <th>OUT027</th>\n",
       "      <th>OUT035</th>\n",
       "      <th>OUT045</th>\n",
       "      <th>OUT046</th>\n",
       "      <th>OUT049</th>\n",
       "    </tr>\n",
       "  </thead>\n",
       "  <tbody>\n",
       "    <tr>\n",
       "      <th>0</th>\n",
       "      <td>0</td>\n",
       "      <td>0</td>\n",
       "      <td>0</td>\n",
       "      <td>0</td>\n",
       "      <td>1</td>\n",
       "      <td>0</td>\n",
       "      <td>0</td>\n",
       "      <td>0</td>\n",
       "      <td>0</td>\n",
       "      <td>0</td>\n",
       "      <td>...</td>\n",
       "      <td>0</td>\n",
       "      <td>0</td>\n",
       "      <td>0</td>\n",
       "      <td>0</td>\n",
       "      <td>0</td>\n",
       "      <td>0</td>\n",
       "      <td>0</td>\n",
       "      <td>0</td>\n",
       "      <td>0</td>\n",
       "      <td>1</td>\n",
       "    </tr>\n",
       "    <tr>\n",
       "      <th>1</th>\n",
       "      <td>0</td>\n",
       "      <td>0</td>\n",
       "      <td>0</td>\n",
       "      <td>0</td>\n",
       "      <td>0</td>\n",
       "      <td>0</td>\n",
       "      <td>0</td>\n",
       "      <td>0</td>\n",
       "      <td>0</td>\n",
       "      <td>0</td>\n",
       "      <td>...</td>\n",
       "      <td>0</td>\n",
       "      <td>0</td>\n",
       "      <td>0</td>\n",
       "      <td>1</td>\n",
       "      <td>0</td>\n",
       "      <td>0</td>\n",
       "      <td>0</td>\n",
       "      <td>0</td>\n",
       "      <td>0</td>\n",
       "      <td>0</td>\n",
       "    </tr>\n",
       "    <tr>\n",
       "      <th>2</th>\n",
       "      <td>0</td>\n",
       "      <td>0</td>\n",
       "      <td>0</td>\n",
       "      <td>0</td>\n",
       "      <td>0</td>\n",
       "      <td>0</td>\n",
       "      <td>0</td>\n",
       "      <td>0</td>\n",
       "      <td>0</td>\n",
       "      <td>0</td>\n",
       "      <td>...</td>\n",
       "      <td>0</td>\n",
       "      <td>0</td>\n",
       "      <td>0</td>\n",
       "      <td>0</td>\n",
       "      <td>0</td>\n",
       "      <td>0</td>\n",
       "      <td>0</td>\n",
       "      <td>0</td>\n",
       "      <td>0</td>\n",
       "      <td>1</td>\n",
       "    </tr>\n",
       "    <tr>\n",
       "      <th>3</th>\n",
       "      <td>0</td>\n",
       "      <td>0</td>\n",
       "      <td>0</td>\n",
       "      <td>0</td>\n",
       "      <td>0</td>\n",
       "      <td>0</td>\n",
       "      <td>1</td>\n",
       "      <td>0</td>\n",
       "      <td>0</td>\n",
       "      <td>0</td>\n",
       "      <td>...</td>\n",
       "      <td>1</td>\n",
       "      <td>0</td>\n",
       "      <td>0</td>\n",
       "      <td>0</td>\n",
       "      <td>0</td>\n",
       "      <td>0</td>\n",
       "      <td>0</td>\n",
       "      <td>0</td>\n",
       "      <td>0</td>\n",
       "      <td>0</td>\n",
       "    </tr>\n",
       "    <tr>\n",
       "      <th>4</th>\n",
       "      <td>0</td>\n",
       "      <td>0</td>\n",
       "      <td>0</td>\n",
       "      <td>0</td>\n",
       "      <td>0</td>\n",
       "      <td>0</td>\n",
       "      <td>0</td>\n",
       "      <td>0</td>\n",
       "      <td>0</td>\n",
       "      <td>1</td>\n",
       "      <td>...</td>\n",
       "      <td>0</td>\n",
       "      <td>1</td>\n",
       "      <td>0</td>\n",
       "      <td>0</td>\n",
       "      <td>0</td>\n",
       "      <td>0</td>\n",
       "      <td>0</td>\n",
       "      <td>0</td>\n",
       "      <td>0</td>\n",
       "      <td>0</td>\n",
       "    </tr>\n",
       "  </tbody>\n",
       "</table>\n",
       "<p>5 rows × 35 columns</p>\n",
       "</div>"
      ],
      "text/plain": [
       "   Baking Goods  Breads  Breakfast  Canned  Dairy  Frozen Foods  \\\n",
       "0             0       0          0       0      1             0   \n",
       "1             0       0          0       0      0             0   \n",
       "2             0       0          0       0      0             0   \n",
       "3             0       0          0       0      0             0   \n",
       "4             0       0          0       0      0             0   \n",
       "\n",
       "   Fruits and Vegetables  Hard Drinks  Health and Hygiene  Household  ...  \\\n",
       "0                      0            0                   0          0  ...   \n",
       "1                      0            0                   0          0  ...   \n",
       "2                      0            0                   0          0  ...   \n",
       "3                      1            0                   0          0  ...   \n",
       "4                      0            0                   0          1  ...   \n",
       "\n",
       "   OUT010  OUT013  OUT017  OUT018  OUT019  OUT027  OUT035  OUT045  OUT046  \\\n",
       "0       0       0       0       0       0       0       0       0       0   \n",
       "1       0       0       0       1       0       0       0       0       0   \n",
       "2       0       0       0       0       0       0       0       0       0   \n",
       "3       1       0       0       0       0       0       0       0       0   \n",
       "4       0       1       0       0       0       0       0       0       0   \n",
       "\n",
       "   OUT049  \n",
       "0       1  \n",
       "1       0  \n",
       "2       1  \n",
       "3       0  \n",
       "4       0  \n",
       "\n",
       "[5 rows x 35 columns]"
      ]
     },
     "execution_count": 48,
     "metadata": {},
     "output_type": "execute_result"
    }
   ],
   "source": [
    "onehot = OneHotEncoder(dtype=np.int, sparse=True)\n",
    "\n",
    "cols = ['Item_Type', 'Outlet_Establishment_Year', 'Outlet_Identifier']\n",
    "\n",
    "# Both datasets share the same categories, so we can use the same lists\n",
    "item_types = train['Item_Type'].value_counts().keys().sort_values(ascending=True).tolist()\n",
    "year_numbers = train['Outlet_Establishment_Year'].value_counts().keys().sort_values(ascending=True).tolist()\n",
    "outlet_ids = train['Outlet_Identifier'].value_counts().keys().sort_values(ascending=True).tolist()\n",
    "\n",
    "train_nominals = pd.DataFrame(onehot.fit_transform(train[cols]).toarray(),\n",
    "                              columns=item_types + year_numbers + outlet_ids)\n",
    "test_nominals = pd.DataFrame(onehot.fit_transform(test[cols]).toarray(),\n",
    "                              columns=item_types + year_numbers + outlet_ids)\n",
    "\n",
    "train_nominals.head()"
   ]
  },
  {
   "cell_type": "code",
   "execution_count": 49,
   "id": "36dee32f",
   "metadata": {},
   "outputs": [
    {
     "data": {
      "text/html": [
       "<div>\n",
       "<style scoped>\n",
       "    .dataframe tbody tr th:only-of-type {\n",
       "        vertical-align: middle;\n",
       "    }\n",
       "\n",
       "    .dataframe tbody tr th {\n",
       "        vertical-align: top;\n",
       "    }\n",
       "\n",
       "    .dataframe thead th {\n",
       "        text-align: right;\n",
       "    }\n",
       "</style>\n",
       "<table border=\"1\" class=\"dataframe\">\n",
       "  <thead>\n",
       "    <tr style=\"text-align: right;\">\n",
       "      <th></th>\n",
       "      <th>Item_Weight</th>\n",
       "      <th>Item_Fat_Content</th>\n",
       "      <th>Item_Visibility</th>\n",
       "      <th>Item_MRP</th>\n",
       "      <th>Outlet_Size</th>\n",
       "      <th>Outlet_Location_Type</th>\n",
       "      <th>Outlet_Type</th>\n",
       "      <th>Item_Outlet_Sales</th>\n",
       "      <th>Baking Goods</th>\n",
       "      <th>Breads</th>\n",
       "      <th>...</th>\n",
       "      <th>OUT010</th>\n",
       "      <th>OUT013</th>\n",
       "      <th>OUT017</th>\n",
       "      <th>OUT018</th>\n",
       "      <th>OUT019</th>\n",
       "      <th>OUT027</th>\n",
       "      <th>OUT035</th>\n",
       "      <th>OUT045</th>\n",
       "      <th>OUT046</th>\n",
       "      <th>OUT049</th>\n",
       "    </tr>\n",
       "  </thead>\n",
       "  <tbody>\n",
       "    <tr>\n",
       "      <th>0</th>\n",
       "      <td>9.30</td>\n",
       "      <td>0</td>\n",
       "      <td>0.016047</td>\n",
       "      <td>249.8092</td>\n",
       "      <td>1</td>\n",
       "      <td>0</td>\n",
       "      <td>1</td>\n",
       "      <td>3735.1380</td>\n",
       "      <td>0</td>\n",
       "      <td>0</td>\n",
       "      <td>...</td>\n",
       "      <td>0</td>\n",
       "      <td>0</td>\n",
       "      <td>0</td>\n",
       "      <td>0</td>\n",
       "      <td>0</td>\n",
       "      <td>0</td>\n",
       "      <td>0</td>\n",
       "      <td>0</td>\n",
       "      <td>0</td>\n",
       "      <td>1</td>\n",
       "    </tr>\n",
       "    <tr>\n",
       "      <th>1</th>\n",
       "      <td>5.92</td>\n",
       "      <td>1</td>\n",
       "      <td>0.019278</td>\n",
       "      <td>48.2692</td>\n",
       "      <td>1</td>\n",
       "      <td>2</td>\n",
       "      <td>2</td>\n",
       "      <td>443.4228</td>\n",
       "      <td>0</td>\n",
       "      <td>0</td>\n",
       "      <td>...</td>\n",
       "      <td>0</td>\n",
       "      <td>0</td>\n",
       "      <td>0</td>\n",
       "      <td>1</td>\n",
       "      <td>0</td>\n",
       "      <td>0</td>\n",
       "      <td>0</td>\n",
       "      <td>0</td>\n",
       "      <td>0</td>\n",
       "      <td>0</td>\n",
       "    </tr>\n",
       "    <tr>\n",
       "      <th>2</th>\n",
       "      <td>17.50</td>\n",
       "      <td>0</td>\n",
       "      <td>0.016760</td>\n",
       "      <td>141.6180</td>\n",
       "      <td>1</td>\n",
       "      <td>0</td>\n",
       "      <td>1</td>\n",
       "      <td>2097.2700</td>\n",
       "      <td>0</td>\n",
       "      <td>0</td>\n",
       "      <td>...</td>\n",
       "      <td>0</td>\n",
       "      <td>0</td>\n",
       "      <td>0</td>\n",
       "      <td>0</td>\n",
       "      <td>0</td>\n",
       "      <td>0</td>\n",
       "      <td>0</td>\n",
       "      <td>0</td>\n",
       "      <td>0</td>\n",
       "      <td>1</td>\n",
       "    </tr>\n",
       "    <tr>\n",
       "      <th>3</th>\n",
       "      <td>19.20</td>\n",
       "      <td>1</td>\n",
       "      <td>0.000000</td>\n",
       "      <td>182.0950</td>\n",
       "      <td>1</td>\n",
       "      <td>2</td>\n",
       "      <td>0</td>\n",
       "      <td>732.3800</td>\n",
       "      <td>0</td>\n",
       "      <td>0</td>\n",
       "      <td>...</td>\n",
       "      <td>1</td>\n",
       "      <td>0</td>\n",
       "      <td>0</td>\n",
       "      <td>0</td>\n",
       "      <td>0</td>\n",
       "      <td>0</td>\n",
       "      <td>0</td>\n",
       "      <td>0</td>\n",
       "      <td>0</td>\n",
       "      <td>0</td>\n",
       "    </tr>\n",
       "    <tr>\n",
       "      <th>4</th>\n",
       "      <td>8.93</td>\n",
       "      <td>0</td>\n",
       "      <td>0.000000</td>\n",
       "      <td>53.8614</td>\n",
       "      <td>2</td>\n",
       "      <td>2</td>\n",
       "      <td>1</td>\n",
       "      <td>994.7052</td>\n",
       "      <td>0</td>\n",
       "      <td>0</td>\n",
       "      <td>...</td>\n",
       "      <td>0</td>\n",
       "      <td>1</td>\n",
       "      <td>0</td>\n",
       "      <td>0</td>\n",
       "      <td>0</td>\n",
       "      <td>0</td>\n",
       "      <td>0</td>\n",
       "      <td>0</td>\n",
       "      <td>0</td>\n",
       "      <td>0</td>\n",
       "    </tr>\n",
       "  </tbody>\n",
       "</table>\n",
       "<p>5 rows × 43 columns</p>\n",
       "</div>"
      ],
      "text/plain": [
       "   Item_Weight  Item_Fat_Content  Item_Visibility  Item_MRP  Outlet_Size  \\\n",
       "0         9.30                 0         0.016047  249.8092            1   \n",
       "1         5.92                 1         0.019278   48.2692            1   \n",
       "2        17.50                 0         0.016760  141.6180            1   \n",
       "3        19.20                 1         0.000000  182.0950            1   \n",
       "4         8.93                 0         0.000000   53.8614            2   \n",
       "\n",
       "   Outlet_Location_Type  Outlet_Type  Item_Outlet_Sales  Baking Goods  Breads  \\\n",
       "0                     0            1          3735.1380             0       0   \n",
       "1                     2            2           443.4228             0       0   \n",
       "2                     0            1          2097.2700             0       0   \n",
       "3                     2            0           732.3800             0       0   \n",
       "4                     2            1           994.7052             0       0   \n",
       "\n",
       "   ...  OUT010  OUT013  OUT017  OUT018  OUT019  OUT027  OUT035  OUT045  \\\n",
       "0  ...       0       0       0       0       0       0       0       0   \n",
       "1  ...       0       0       0       1       0       0       0       0   \n",
       "2  ...       0       0       0       0       0       0       0       0   \n",
       "3  ...       1       0       0       0       0       0       0       0   \n",
       "4  ...       0       1       0       0       0       0       0       0   \n",
       "\n",
       "   OUT046  OUT049  \n",
       "0       0       1  \n",
       "1       0       0  \n",
       "2       0       1  \n",
       "3       0       0  \n",
       "4       0       0  \n",
       "\n",
       "[5 rows x 43 columns]"
      ]
     },
     "execution_count": 49,
     "metadata": {},
     "output_type": "execute_result"
    }
   ],
   "source": [
    "# Join the nominal types with the existing dataset.\n",
    "train = pd.concat([train, train_nominals], axis=1)\n",
    "test = pd.concat([test, test_nominals], axis=1)\n",
    "\n",
    "# Remove the columns that have been converted\n",
    "train.drop(cols, axis=1, inplace=True)\n",
    "test.drop(cols, axis=1, inplace=True)\n",
    "\n",
    "train.head()"
   ]
  },
  {
   "cell_type": "markdown",
   "id": "86755408",
   "metadata": {},
   "source": [
    "## Normalization\n",
    "Apply individual scaling to features in the range 0 to 1."
   ]
  },
  {
   "cell_type": "code",
   "execution_count": 50,
   "id": "95a1cd5c",
   "metadata": {},
   "outputs": [],
   "source": [
    "def normalizeMinMax(data):\n",
    "    \n",
    "    # fit scaler on training data\n",
    "    scale = MinMaxScaler().fit(data)\n",
    "\n",
    "    # transform data\n",
    "    data_scale = pd.DataFrame(scale.transform(data), columns=data.columns)\n",
    "    \n",
    "    return data_scale, scale"
   ]
  },
  {
   "cell_type": "code",
   "execution_count": 51,
   "id": "8ff8baef",
   "metadata": {},
   "outputs": [],
   "source": [
    "# colums that should be scaled\n",
    "norm_cols = ['Item_Weight', 'Item_Visibility', 'Item_MRP', 'Outlet_Size', 'Outlet_Location_Type', 'Outlet_Type']\n",
    "\n",
    "# separate non-scalable and scalable features\n",
    "train_non_norm_df = train.drop(norm_cols, axis=1)\n",
    "train_norm_df, train_scale = normalizeMinMax(train[norm_cols]) # apply scaling\n",
    "\n",
    "test_non_norm_df = test.drop(norm_cols, axis=1)\n",
    "test_norm_df, test_scale = normalizeMinMax(test[norm_cols])\n",
    "\n",
    "# join the two dataframes together again\n",
    "train_norm = pd.concat([train_non_norm_df, train_norm_df], axis=1)\n",
    "test_norm = pd.concat([test_non_norm_df, test_norm_df], axis=1)\n",
    "\n",
    "# exclude Item_Outlet_Sales from the input data\n",
    "train_X_norm = train_norm.drop('Item_Outlet_Sales', axis=1)\n",
    "test_X_norm = test_norm.drop('Item_Outlet_Sales', axis=1)\n",
    "\n",
    "# isolate Item_Outlet_Sales as target variable\n",
    "train_y_norm = train['Item_Outlet_Sales']\n",
    "test_y_norm = train['Item_Outlet_Sales']"
   ]
  },
  {
   "cell_type": "code",
   "execution_count": 52,
   "id": "437a0a16",
   "metadata": {},
   "outputs": [
    {
     "data": {
      "image/png": "[encoded data removed]",
      "text/plain": [
       "<Figure size 432x288 with 1 Axes>"
      ]
     },
     "metadata": {
      "needs_background": "light"
     },
     "output_type": "display_data"
    }
   ],
   "source": [
    "# display a plot for the input data distribution\n",
    "sns.kdeplot(data=test_X_norm, legend=False)\n",
    "plt.show()"
   ]
  },
  {
   "cell_type": "markdown",
   "id": "6d2d3e25",
   "metadata": {},
   "source": [
    "# Architecture\n",
    "My deep learning model is a Multilayer Perceptron (MLP).<br>\n",
    "It uses the Sequential class with 2 hidden layers and the <i>RMSprop</i> algorithm as optimizer.<br>\n",
    "\n",
    "I choose to use the <i>ShuffleSplit</i> class to perform cross-validation.<br>\n",
    "This was especially usefull for training when trying out different parameters and algorithms due to the low amount of data in the dataset."
   ]
  },
  {
   "cell_type": "code",
   "execution_count": 53,
   "id": "27153f84",
   "metadata": {},
   "outputs": [],
   "source": [
    "# I set model creation up as a function in order to easily test different combinations of layers\n",
    "def create_new_model(num_neurons, num_inputs):\n",
    "    \n",
    "    model = Sequential()\n",
    "    for i in range(0, len(num_neurons)):\n",
    "        if i == 0:\n",
    "            model.add(Dense(num_neurons[i], input_dim=num_inputs, kernel_initializer='normal', activation=\"relu\"))\n",
    "        else:\n",
    "            model.add(Dense(num_neurons[i], kernel_initializer='normal', activation=\"relu\"))\n",
    "    model.add(Dense(1, activation=\"linear\"))\n",
    "    model.compile(loss=\"mse\", optimizer=tf.keras.optimizers.RMSprop(0.0025))\n",
    "    \n",
    "    return model"
   ]
  },
  {
   "cell_type": "code",
   "execution_count": 54,
   "id": "22312536",
   "metadata": {},
   "outputs": [],
   "source": [
    "# this function just encapsulates the whole process of running through the number of dataset splits,\n",
    "# model creation, training, prediction and storing of results.\n",
    "# returns the model with its weights\n",
    "def run_train_model(num_neurons, num_epochs, num_splits, test_size):\n",
    "\n",
    "    ss = ShuffleSplit(n_splits=num_splits, test_size=test_size, random_state=0)\n",
    "    n_samples = len(train_norm)\n",
    "    fold_var = 1\n",
    "\n",
    "    for train_index, val_index in ss.split(train_X_norm):\n",
    "\n",
    "        # split in training and testing sets\n",
    "        X_train = train_X_norm.iloc[train_index]\n",
    "        y_train = train_y_norm.iloc[train_index]\n",
    "        X_test = train_X_norm.iloc[val_index]\n",
    "        y_test = train_y_norm.iloc[val_index]\n",
    "\n",
    "        print(\"fold_var:\", fold_var, \", train_index: \", train_index[0:5], \", val_index: \", val_index[0:5])\n",
    "        print(\"X_train:\", X_train.shape, \", y_train:\", y_train.shape, \", X_test:\", X_test.shape, \"y_test:\", y_test.shape)\n",
    "\n",
    "        # create model\n",
    "        model = create_new_model(num_neurons, test_X_norm.shape[1])\n",
    "\n",
    "        # build model\n",
    "        history = model.fit(x=X_train, y=y_train, validation_data=(X_test, y_test), epochs=num_epochs)\n",
    "\n",
    "        # generate predictions\n",
    "        preds = model.predict(X_test)\n",
    "        R2_SCORES.append(r2_score(y_test, preds))\n",
    "        MAE.append(mean_absolute_error(y_test, preds))\n",
    "\n",
    "        # store data for plotting\n",
    "        LOSS.append(history.history['loss'])\n",
    "        VALIDATION_LOSS.append(history.history['val_loss'])\n",
    "\n",
    "        fold_var += 1\n",
    "        \n",
    "    return model"
   ]
  },
  {
   "cell_type": "markdown",
   "id": "a539a785",
   "metadata": {},
   "source": [
    "Here I configure some base options before starting the training process."
   ]
  },
  {
   "cell_type": "code",
   "execution_count": 55,
   "id": "068a40f0",
   "metadata": {},
   "outputs": [
    {
     "name": "stdout",
     "output_type": "stream",
     "text": [
      "fold_var: 1 , train_index:  [4154 4820 1202 3759  622] , val_index:  [ 398 3833 4836 4572  636]\n",
      "X_train: (3750, 42) , y_train: (3750,) , X_test: (1250, 42) y_test: (1250,)\n",
      "Epoch 1/200\n",
      "118/118 [==============================] - 0s 3ms/step - loss: 7571428.5000 - val_loss: 7687586.0000\n",
      "Epoch 2/200\n",
      "118/118 [==============================] - 0s 1ms/step - loss: 7146175.0000 - val_loss: 6965805.0000\n",
      "Epoch 3/200\n",
      "118/118 [==============================] - 0s 1ms/step - loss: 6112570.0000 - val_loss: 5630370.0000\n",
      "Epoch 4/200\n",
      "118/118 [==============================] - 0s 1ms/step - loss: 4550529.5000 - val_loss: 3932489.7500\n",
      "Epoch 5/200\n",
      "118/118 [==============================] - 0s 1ms/step - loss: 3026327.2500 - val_loss: 2797909.0000\n",
      "Epoch 6/200\n",
      "118/118 [==============================] - 0s 950us/step - loss: 2384833.5000 - val_loss: 2572928.0000\n",
      "Epoch 7/200\n",
      "118/118 [==============================] - 0s 1ms/step - loss: 2262064.2500 - val_loss: 2467525.7500\n",
      "Epoch 8/200\n",
      "118/118 [==============================] - 0s 1ms/step - loss: 2175743.0000 - val_loss: 2375940.0000\n",
      "Epoch 9/200\n",
      "118/118 [==============================] - 0s 1ms/step - loss: 2095611.3750 - val_loss: 2287731.5000\n",
      "Epoch 10/200\n",
      "118/118 [==============================] - 0s 1ms/step - loss: 2019547.8750 - val_loss: 2202865.2500\n",
      "Epoch 11/200\n",
      "118/118 [==============================] - 0s 1ms/step - loss: 1947326.3750 - val_loss: 2132738.2500\n",
      "Epoch 12/200\n",
      "118/118 [==============================] - 0s 1ms/step - loss: 1884315.1250 - val_loss: 2058522.2500\n",
      "Epoch 13/200\n",
      "118/118 [==============================] - 0s 1ms/step - loss: 1821029.1250 - val_loss: 1991405.3750\n",
      "Epoch 14/200\n",
      "118/118 [==============================] - 0s 2ms/step - loss: 1766706.1250 - val_loss: 1938961.6250\n",
      "Epoch 15/200\n",
      "118/118 [==============================] - 0s 1ms/step - loss: 1718937.2500 - val_loss: 1886519.8750\n",
      "Epoch 16/200\n",
      "118/118 [==============================] - 0s 984us/step - loss: 1674726.0000 - val_loss: 1843710.3750\n",
      "Epoch 17/200\n",
      "118/118 [==============================] - 0s 1ms/step - loss: 1631836.7500 - val_loss: 1795859.0000\n",
      "Epoch 18/200\n",
      "118/118 [==============================] - 0s 1ms/step - loss: 1588635.8750 - val_loss: 1751032.0000\n",
      "Epoch 19/200\n",
      "118/118 [==============================] - 0s 1ms/step - loss: 1547558.6250 - val_loss: 1707648.8750\n",
      "Epoch 20/200\n",
      "118/118 [==============================] - 0s 1ms/step - loss: 1509069.8750 - val_loss: 1668461.5000\n",
      "Epoch 21/200\n",
      "118/118 [==============================] - 0s 1ms/step - loss: 1477627.1250 - val_loss: 1635605.7500\n",
      "Epoch 22/200\n",
      "118/118 [==============================] - 0s 1ms/step - loss: 1442986.2500 - val_loss: 1599944.2500\n",
      "Epoch 23/200\n",
      "118/118 [==============================] - 0s 1ms/step - loss: 1410749.8750 - val_loss: 1564075.5000\n",
      "Epoch 24/200\n",
      "118/118 [==============================] - 0s 1ms/step - loss: 1379930.2500 - val_loss: 1534168.0000\n",
      "Epoch 25/200\n",
      "118/118 [==============================] - 0s 1ms/step - loss: 1349083.5000 - val_loss: 1499997.5000\n",
      "Epoch 26/200\n",
      "118/118 [==============================] - 0s 1ms/step - loss: 1321127.3750 - val_loss: 1468248.6250\n",
      "Epoch 27/200\n",
      "118/118 [==============================] - 0s 1ms/step - loss: 1294713.0000 - val_loss: 1440415.1250\n",
      "Epoch 28/200\n",
      "118/118 [==============================] - 0s 1ms/step - loss: 1272694.5000 - val_loss: 1416000.7500\n",
      "Epoch 29/200\n",
      "118/118 [==============================] - 0s 1ms/step - loss: 1252778.2500 - val_loss: 1397876.0000\n",
      "Epoch 30/200\n",
      "118/118 [==============================] - 0s 1ms/step - loss: 1235806.8750 - val_loss: 1376404.1250\n",
      "Epoch 31/200\n",
      "118/118 [==============================] - 0s 2ms/step - loss: 1220573.5000 - val_loss: 1355496.3750\n",
      "Epoch 32/200\n",
      "118/118 [==============================] - 0s 1ms/step - loss: 1206706.8750 - val_loss: 1352867.7500\n",
      "Epoch 33/200\n",
      "118/118 [==============================] - 0s 1ms/step - loss: 1199512.1250 - val_loss: 1330093.6250\n",
      "Epoch 34/200\n",
      "118/118 [==============================] - 0s 1ms/step - loss: 1191032.0000 - val_loss: 1322841.1250\n",
      "Epoch 35/200\n",
      "118/118 [==============================] - 0s 1ms/step - loss: 1184587.7500 - val_loss: 1314250.7500\n",
      "Epoch 36/200\n",
      "118/118 [==============================] - 0s 1ms/step - loss: 1180489.0000 - val_loss: 1307426.1250\n",
      "Epoch 37/200\n",
      "118/118 [==============================] - 0s 1ms/step - loss: 1176762.5000 - val_loss: 1301514.3750\n",
      "Epoch 38/200\n",
      "118/118 [==============================] - 0s 1ms/step - loss: 1174200.0000 - val_loss: 1296673.7500\n",
      "Epoch 39/200\n",
      "118/118 [==============================] - 0s 1ms/step - loss: 1170645.7500 - val_loss: 1291815.5000\n",
      "Epoch 40/200\n",
      "118/118 [==============================] - 0s 1ms/step - loss: 1168931.3750 - val_loss: 1290356.8750\n",
      "Epoch 41/200\n",
      "118/118 [==============================] - 0s 1ms/step - loss: 1167178.5000 - val_loss: 1289164.2500\n",
      "Epoch 42/200\n",
      "118/118 [==============================] - 0s 1ms/step - loss: 1165905.8750 - val_loss: 1284064.5000\n",
      "Epoch 43/200\n",
      "118/118 [==============================] - 0s 1ms/step - loss: 1164895.6250 - val_loss: 1285987.5000\n",
      "Epoch 44/200\n",
      "118/118 [==============================] - 0s 1ms/step - loss: 1164128.0000 - val_loss: 1284893.2500\n",
      "Epoch 45/200\n",
      "118/118 [==============================] - 0s 1ms/step - loss: 1162449.6250 - val_loss: 1282074.8750\n",
      "Epoch 46/200\n",
      "118/118 [==============================] - 0s 1ms/step - loss: 1162671.1250 - val_loss: 1284144.2500\n",
      "Epoch 47/200\n",
      "118/118 [==============================] - 0s 1ms/step - loss: 1161972.7500 - val_loss: 1279831.8750\n",
      "Epoch 48/200\n",
      "118/118 [==============================] - 0s 1ms/step - loss: 1161456.2500 - val_loss: 1278960.8750\n",
      "Epoch 49/200\n",
      "118/118 [==============================] - 0s 1ms/step - loss: 1161111.1250 - val_loss: 1277374.7500\n",
      "Epoch 50/200\n",
      "118/118 [==============================] - 0s 1ms/step - loss: 1160451.2500 - val_loss: 1277903.2500\n",
      "Epoch 51/200\n",
      "118/118 [==============================] - 0s 1ms/step - loss: 1159673.6250 - val_loss: 1282341.6250\n",
      "Epoch 52/200\n",
      "118/118 [==============================] - 0s 1ms/step - loss: 1159878.6250 - val_loss: 1280961.0000\n",
      "Epoch 53/200\n",
      "118/118 [==============================] - 0s 1ms/step - loss: 1159459.5000 - val_loss: 1276529.5000\n",
      "Epoch 54/200\n",
      "118/118 [==============================] - 0s 1ms/step - loss: 1157526.1250 - val_loss: 1286318.7500\n",
      "Epoch 55/200\n",
      "118/118 [==============================] - 0s 1ms/step - loss: 1157335.8750 - val_loss: 1274038.8750\n",
      "Epoch 56/200\n",
      "118/118 [==============================] - 0s 1ms/step - loss: 1158308.1250 - val_loss: 1273874.6250\n",
      "Epoch 57/200\n",
      "118/118 [==============================] - 0s 2ms/step - loss: 1158406.1250 - val_loss: 1273924.2500\n",
      "Epoch 58/200\n",
      "118/118 [==============================] - 0s 1ms/step - loss: 1157512.1250 - val_loss: 1273484.3750\n",
      "Epoch 59/200\n",
      "118/118 [==============================] - 0s 2ms/step - loss: 1157425.8750 - val_loss: 1272268.1250\n",
      "Epoch 60/200\n",
      "118/118 [==============================] - 0s 2ms/step - loss: 1156638.0000 - val_loss: 1275386.8750\n",
      "Epoch 61/200\n",
      "118/118 [==============================] - 0s 2ms/step - loss: 1156374.2500 - val_loss: 1274797.3750\n",
      "Epoch 62/200\n",
      "118/118 [==============================] - 0s 2ms/step - loss: 1156413.8750 - val_loss: 1273005.6250\n",
      "Epoch 63/200\n",
      "118/118 [==============================] - 0s 2ms/step - loss: 1154516.7500 - val_loss: 1281100.7500\n",
      "Epoch 64/200\n",
      "118/118 [==============================] - 0s 2ms/step - loss: 1154885.2500 - val_loss: 1273279.5000\n",
      "Epoch 65/200\n",
      "118/118 [==============================] - 0s 1ms/step - loss: 1155372.6250 - val_loss: 1282980.7500\n",
      "Epoch 66/200\n",
      "118/118 [==============================] - 0s 1ms/step - loss: 1155290.5000 - val_loss: 1272302.8750\n",
      "Epoch 67/200\n",
      "118/118 [==============================] - 0s 1ms/step - loss: 1154021.0000 - val_loss: 1270167.5000\n",
      "Epoch 68/200\n",
      "118/118 [==============================] - 0s 1ms/step - loss: 1153647.5000 - val_loss: 1270806.5000\n",
      "Epoch 69/200\n",
      "118/118 [==============================] - 0s 1ms/step - loss: 1154524.1250 - val_loss: 1270722.6250\n",
      "Epoch 70/200\n",
      "118/118 [==============================] - 0s 1ms/step - loss: 1153552.2500 - val_loss: 1274576.6250\n",
      "Epoch 71/200\n"
     ]
    },
    {
     "name": "stdout",
     "output_type": "stream",
     "text": [
      "118/118 [==============================] - 0s 1ms/step - loss: 1153623.8750 - val_loss: 1270742.0000\n",
      "Epoch 72/200\n",
      "118/118 [==============================] - 0s 1ms/step - loss: 1152654.2500 - val_loss: 1270423.2500\n",
      "Epoch 73/200\n",
      "118/118 [==============================] - 0s 2ms/step - loss: 1153569.5000 - val_loss: 1269406.8750\n",
      "Epoch 74/200\n",
      "118/118 [==============================] - 0s 1ms/step - loss: 1152529.3750 - val_loss: 1275194.1250\n",
      "Epoch 75/200\n",
      "118/118 [==============================] - 0s 1ms/step - loss: 1152902.1250 - val_loss: 1269437.8750\n",
      "Epoch 76/200\n",
      "118/118 [==============================] - 0s 1ms/step - loss: 1152360.0000 - val_loss: 1273324.5000\n",
      "Epoch 77/200\n",
      "118/118 [==============================] - 0s 1ms/step - loss: 1152279.2500 - val_loss: 1270489.5000\n",
      "Epoch 78/200\n",
      "118/118 [==============================] - 0s 1ms/step - loss: 1150739.0000 - val_loss: 1274799.1250\n",
      "Epoch 79/200\n",
      "118/118 [==============================] - 0s 1ms/step - loss: 1152231.3750 - val_loss: 1267899.7500\n",
      "Epoch 80/200\n",
      "118/118 [==============================] - 0s 1ms/step - loss: 1152242.5000 - val_loss: 1269383.8750\n",
      "Epoch 81/200\n",
      "118/118 [==============================] - 0s 1ms/step - loss: 1151503.7500 - val_loss: 1267959.7500\n",
      "Epoch 82/200\n",
      "118/118 [==============================] - 0s 1ms/step - loss: 1150747.7500 - val_loss: 1271976.7500\n",
      "Epoch 83/200\n",
      "118/118 [==============================] - 0s 1ms/step - loss: 1150594.2500 - val_loss: 1267214.3750\n",
      "Epoch 84/200\n",
      "118/118 [==============================] - 0s 1ms/step - loss: 1150587.7500 - val_loss: 1267786.7500\n",
      "Epoch 85/200\n",
      "118/118 [==============================] - 0s 1ms/step - loss: 1150126.1250 - val_loss: 1265755.6250\n",
      "Epoch 86/200\n",
      "118/118 [==============================] - 0s 1ms/step - loss: 1150117.2500 - val_loss: 1266074.3750\n",
      "Epoch 87/200\n",
      "118/118 [==============================] - 0s 1ms/step - loss: 1149003.6250 - val_loss: 1274602.7500\n",
      "Epoch 88/200\n",
      "118/118 [==============================] - 0s 1ms/step - loss: 1149139.3750 - val_loss: 1268668.0000\n",
      "Epoch 89/200\n",
      "118/118 [==============================] - 0s 1ms/step - loss: 1149710.6250 - val_loss: 1265946.5000\n",
      "Epoch 90/200\n",
      "118/118 [==============================] - 0s 1ms/step - loss: 1149613.3750 - val_loss: 1264965.3750\n",
      "Epoch 91/200\n",
      "118/118 [==============================] - 0s 1ms/step - loss: 1149475.2500 - val_loss: 1263973.8750\n",
      "Epoch 92/200\n",
      "118/118 [==============================] - 0s 1ms/step - loss: 1148814.3750 - val_loss: 1263848.1250\n",
      "Epoch 93/200\n",
      "118/118 [==============================] - 0s 1ms/step - loss: 1147040.1250 - val_loss: 1271722.8750\n",
      "Epoch 94/200\n",
      "118/118 [==============================] - 0s 1ms/step - loss: 1149182.2500 - val_loss: 1263662.1250\n",
      "Epoch 95/200\n",
      "118/118 [==============================] - 0s 1ms/step - loss: 1147766.1250 - val_loss: 1263201.7500\n",
      "Epoch 96/200\n",
      "118/118 [==============================] - 0s 1ms/step - loss: 1148140.8750 - val_loss: 1263741.2500\n",
      "Epoch 97/200\n",
      "118/118 [==============================] - 0s 1ms/step - loss: 1146965.7500 - val_loss: 1272170.8750\n",
      "Epoch 98/200\n",
      "118/118 [==============================] - 0s 1ms/step - loss: 1147646.2500 - val_loss: 1261474.8750\n",
      "Epoch 99/200\n",
      "118/118 [==============================] - 0s 1ms/step - loss: 1147111.5000 - val_loss: 1260996.3750\n",
      "Epoch 100/200\n",
      "118/118 [==============================] - 0s 1ms/step - loss: 1146157.5000 - val_loss: 1271267.7500\n",
      "Epoch 101/200\n",
      "118/118 [==============================] - 0s 1ms/step - loss: 1146781.8750 - val_loss: 1272578.1250\n",
      "Epoch 102/200\n",
      "118/118 [==============================] - 0s 1ms/step - loss: 1147037.7500 - val_loss: 1264668.8750\n",
      "Epoch 103/200\n",
      "118/118 [==============================] - 0s 968us/step - loss: 1145992.0000 - val_loss: 1261307.1250\n",
      "Epoch 104/200\n",
      "118/118 [==============================] - 0s 2ms/step - loss: 1145251.1250 - val_loss: 1259421.2500\n",
      "Epoch 105/200\n",
      "118/118 [==============================] - 0s 1ms/step - loss: 1145116.1250 - val_loss: 1265205.3750\n",
      "Epoch 106/200\n",
      "118/118 [==============================] - 0s 1ms/step - loss: 1144831.5000 - val_loss: 1261817.8750\n",
      "Epoch 107/200\n",
      "118/118 [==============================] - 0s 1ms/step - loss: 1143840.3750 - val_loss: 1263663.2500\n",
      "Epoch 108/200\n",
      "118/118 [==============================] - 0s 998us/step - loss: 1143716.1250 - val_loss: 1260364.5000\n",
      "Epoch 109/200\n",
      "118/118 [==============================] - 0s 1ms/step - loss: 1144118.5000 - val_loss: 1264575.7500\n",
      "Epoch 110/200\n",
      "118/118 [==============================] - 0s 1ms/step - loss: 1143898.1250 - val_loss: 1258241.3750\n",
      "Epoch 111/200\n",
      "118/118 [==============================] - 0s 1ms/step - loss: 1144283.3750 - val_loss: 1263039.8750\n",
      "Epoch 112/200\n",
      "118/118 [==============================] - 0s 1ms/step - loss: 1143718.0000 - val_loss: 1260684.5000\n",
      "Epoch 113/200\n",
      "118/118 [==============================] - 0s 1ms/step - loss: 1143013.1250 - val_loss: 1257715.1250\n",
      "Epoch 114/200\n",
      "118/118 [==============================] - 0s 1ms/step - loss: 1142783.6250 - val_loss: 1260843.0000\n",
      "Epoch 115/200\n",
      "118/118 [==============================] - 0s 1ms/step - loss: 1141223.7500 - val_loss: 1257964.2500\n",
      "Epoch 116/200\n",
      "118/118 [==============================] - 0s 1ms/step - loss: 1142155.5000 - val_loss: 1257032.8750\n",
      "Epoch 117/200\n",
      "118/118 [==============================] - 0s 1ms/step - loss: 1142106.8750 - val_loss: 1258546.1250\n",
      "Epoch 118/200\n",
      "118/118 [==============================] - 0s 1ms/step - loss: 1140892.2500 - val_loss: 1257833.8750\n",
      "Epoch 119/200\n",
      "118/118 [==============================] - 0s 1ms/step - loss: 1142977.5000 - val_loss: 1255791.2500\n",
      "Epoch 120/200\n",
      "118/118 [==============================] - 0s 1ms/step - loss: 1141191.0000 - val_loss: 1262438.7500\n",
      "Epoch 121/200\n",
      "118/118 [==============================] - 0s 1ms/step - loss: 1140945.5000 - val_loss: 1257489.5000\n",
      "Epoch 122/200\n",
      "118/118 [==============================] - 0s 1ms/step - loss: 1140908.8750 - val_loss: 1263231.0000\n",
      "Epoch 123/200\n",
      "118/118 [==============================] - 0s 1ms/step - loss: 1140502.7500 - val_loss: 1261336.1250\n",
      "Epoch 124/200\n",
      "118/118 [==============================] - 0s 1ms/step - loss: 1141178.1250 - val_loss: 1259761.2500\n",
      "Epoch 125/200\n",
      "118/118 [==============================] - 0s 1ms/step - loss: 1139244.6250 - val_loss: 1257639.7500\n",
      "Epoch 126/200\n",
      "118/118 [==============================] - 0s 1ms/step - loss: 1139887.0000 - val_loss: 1256254.1250\n",
      "Epoch 127/200\n",
      "118/118 [==============================] - 0s 1ms/step - loss: 1138773.6250 - val_loss: 1254919.6250\n",
      "Epoch 128/200\n",
      "118/118 [==============================] - 0s 1ms/step - loss: 1138995.5000 - val_loss: 1255748.6250\n",
      "Epoch 129/200\n",
      "118/118 [==============================] - 0s 1ms/step - loss: 1137841.3750 - val_loss: 1255788.2500\n",
      "Epoch 130/200\n",
      "118/118 [==============================] - 0s 1ms/step - loss: 1137067.7500 - val_loss: 1264178.7500\n",
      "Epoch 131/200\n",
      "118/118 [==============================] - 0s 1ms/step - loss: 1138253.5000 - val_loss: 1255937.1250\n",
      "Epoch 132/200\n",
      "118/118 [==============================] - 0s 1ms/step - loss: 1138614.6250 - val_loss: 1254104.8750\n",
      "Epoch 133/200\n",
      "118/118 [==============================] - 0s 2ms/step - loss: 1137297.8750 - val_loss: 1255381.6250\n",
      "Epoch 134/200\n",
      "118/118 [==============================] - 0s 1ms/step - loss: 1137463.2500 - val_loss: 1262103.1250\n",
      "Epoch 135/200\n",
      "118/118 [==============================] - 0s 1ms/step - loss: 1137828.8750 - val_loss: 1253455.3750\n",
      "Epoch 136/200\n",
      "118/118 [==============================] - 0s 1ms/step - loss: 1137131.1250 - val_loss: 1258910.1250\n",
      "Epoch 137/200\n",
      "118/118 [==============================] - 0s 1ms/step - loss: 1136502.7500 - val_loss: 1256803.2500\n",
      "Epoch 138/200\n",
      "118/118 [==============================] - 0s 2ms/step - loss: 1136315.0000 - val_loss: 1256272.3750\n",
      "Epoch 139/200\n",
      "118/118 [==============================] - 0s 1ms/step - loss: 1136866.5000 - val_loss: 1251931.6250\n",
      "Epoch 140/200\n",
      "118/118 [==============================] - 0s 1ms/step - loss: 1135658.6250 - val_loss: 1254316.0000\n",
      "Epoch 141/200\n",
      "118/118 [==============================] - 0s 1ms/step - loss: 1135597.3750 - val_loss: 1261173.5000\n",
      "Epoch 142/200\n"
     ]
    },
    {
     "name": "stdout",
     "output_type": "stream",
     "text": [
      "118/118 [==============================] - 0s 1ms/step - loss: 1136517.7500 - val_loss: 1257156.8750\n",
      "Epoch 143/200\n",
      "118/118 [==============================] - 0s 1ms/step - loss: 1135630.5000 - val_loss: 1256194.2500\n",
      "Epoch 144/200\n",
      "118/118 [==============================] - 0s 1ms/step - loss: 1135043.6250 - val_loss: 1256621.7500\n",
      "Epoch 145/200\n",
      "118/118 [==============================] - 0s 1ms/step - loss: 1134448.8750 - val_loss: 1250695.0000\n",
      "Epoch 146/200\n",
      "118/118 [==============================] - 0s 1ms/step - loss: 1133099.5000 - val_loss: 1255478.7500\n",
      "Epoch 147/200\n",
      "118/118 [==============================] - 0s 1ms/step - loss: 1134555.8750 - val_loss: 1252461.6250\n",
      "Epoch 148/200\n",
      "118/118 [==============================] - 0s 2ms/step - loss: 1134932.7500 - val_loss: 1252205.3750\n",
      "Epoch 149/200\n",
      "118/118 [==============================] - 0s 2ms/step - loss: 1134293.6250 - val_loss: 1257785.7500\n",
      "Epoch 150/200\n",
      "118/118 [==============================] - 0s 1ms/step - loss: 1133906.6250 - val_loss: 1263367.3750\n",
      "Epoch 151/200\n",
      "118/118 [==============================] - 0s 1ms/step - loss: 1134104.5000 - val_loss: 1250567.6250\n",
      "Epoch 152/200\n",
      "118/118 [==============================] - 0s 2ms/step - loss: 1133599.0000 - val_loss: 1250000.1250\n",
      "Epoch 153/200\n",
      "118/118 [==============================] - 0s 1ms/step - loss: 1134200.3750 - val_loss: 1252277.3750\n",
      "Epoch 154/200\n",
      "118/118 [==============================] - 0s 1ms/step - loss: 1132426.8750 - val_loss: 1254819.6250\n",
      "Epoch 155/200\n",
      "118/118 [==============================] - 0s 1ms/step - loss: 1132713.7500 - val_loss: 1251395.7500\n",
      "Epoch 156/200\n",
      "118/118 [==============================] - 0s 1ms/step - loss: 1133374.3750 - val_loss: 1258312.6250\n",
      "Epoch 157/200\n",
      "118/118 [==============================] - 0s 1ms/step - loss: 1134154.0000 - val_loss: 1252773.2500\n",
      "Epoch 158/200\n",
      "118/118 [==============================] - 0s 1ms/step - loss: 1133300.6250 - val_loss: 1254959.3750\n",
      "Epoch 159/200\n",
      "118/118 [==============================] - 0s 1ms/step - loss: 1133098.6250 - val_loss: 1250564.6250\n",
      "Epoch 160/200\n",
      "118/118 [==============================] - 0s 1ms/step - loss: 1132349.7500 - val_loss: 1251295.6250\n",
      "Epoch 161/200\n",
      "118/118 [==============================] - 0s 1ms/step - loss: 1132269.1250 - val_loss: 1250459.5000\n",
      "Epoch 162/200\n",
      "118/118 [==============================] - 0s 1ms/step - loss: 1131752.3750 - val_loss: 1249890.8750\n",
      "Epoch 163/200\n",
      "118/118 [==============================] - 0s 1ms/step - loss: 1132198.3750 - val_loss: 1249993.5000\n",
      "Epoch 164/200\n",
      "118/118 [==============================] - 0s 1ms/step - loss: 1131035.2500 - val_loss: 1253863.6250\n",
      "Epoch 165/200\n",
      "118/118 [==============================] - 0s 2ms/step - loss: 1130954.3750 - val_loss: 1248996.0000\n",
      "Epoch 166/200\n",
      "118/118 [==============================] - 0s 1ms/step - loss: 1131431.5000 - val_loss: 1250328.0000\n",
      "Epoch 167/200\n",
      "118/118 [==============================] - 0s 1ms/step - loss: 1129873.1250 - val_loss: 1254269.7500\n",
      "Epoch 168/200\n",
      "118/118 [==============================] - 0s 995us/step - loss: 1130551.8750 - val_loss: 1249826.2500\n",
      "Epoch 169/200\n",
      "118/118 [==============================] - 0s 1ms/step - loss: 1129399.0000 - val_loss: 1250942.5000\n",
      "Epoch 170/200\n",
      "118/118 [==============================] - 0s 1ms/step - loss: 1130788.5000 - val_loss: 1249654.1250\n",
      "Epoch 171/200\n",
      "118/118 [==============================] - 0s 1ms/step - loss: 1129600.2500 - val_loss: 1251587.1250\n",
      "Epoch 172/200\n",
      "118/118 [==============================] - 0s 1ms/step - loss: 1129371.8750 - val_loss: 1250654.8750\n",
      "Epoch 173/200\n",
      "118/118 [==============================] - 0s 1ms/step - loss: 1129592.5000 - val_loss: 1252709.5000\n",
      "Epoch 174/200\n",
      "118/118 [==============================] - 0s 1ms/step - loss: 1126492.8750 - val_loss: 1252373.5000\n",
      "Epoch 175/200\n",
      "118/118 [==============================] - 0s 1ms/step - loss: 1130771.5000 - val_loss: 1247978.1250\n",
      "Epoch 176/200\n",
      "118/118 [==============================] - 0s 1ms/step - loss: 1129303.8750 - val_loss: 1253407.1250\n",
      "Epoch 177/200\n",
      "118/118 [==============================] - 0s 1ms/step - loss: 1128890.8750 - val_loss: 1253551.3750\n",
      "Epoch 178/200\n",
      "118/118 [==============================] - 0s 1ms/step - loss: 1129160.7500 - val_loss: 1251007.7500\n",
      "Epoch 179/200\n",
      "118/118 [==============================] - 0s 1ms/step - loss: 1126689.3750 - val_loss: 1248676.5000\n",
      "Epoch 180/200\n",
      "118/118 [==============================] - 0s 1ms/step - loss: 1127882.5000 - val_loss: 1249639.2500\n",
      "Epoch 181/200\n",
      "118/118 [==============================] - 0s 2ms/step - loss: 1128080.6250 - val_loss: 1247285.5000\n",
      "Epoch 182/200\n",
      "118/118 [==============================] - 0s 1ms/step - loss: 1127102.1250 - val_loss: 1256135.1250\n",
      "Epoch 183/200\n",
      "118/118 [==============================] - 0s 1ms/step - loss: 1128022.8750 - val_loss: 1253310.1250\n",
      "Epoch 184/200\n",
      "118/118 [==============================] - 0s 1ms/step - loss: 1128283.0000 - val_loss: 1249786.3750\n",
      "Epoch 185/200\n",
      "118/118 [==============================] - 0s 1ms/step - loss: 1127773.1250 - val_loss: 1246756.8750\n",
      "Epoch 186/200\n",
      "118/118 [==============================] - 0s 1ms/step - loss: 1127542.0000 - val_loss: 1249516.2500\n",
      "Epoch 187/200\n",
      "118/118 [==============================] - 0s 1ms/step - loss: 1127218.3750 - val_loss: 1248924.3750\n",
      "Epoch 188/200\n",
      "118/118 [==============================] - 0s 1ms/step - loss: 1125517.1250 - val_loss: 1253442.0000\n",
      "Epoch 189/200\n",
      "118/118 [==============================] - 0s 1ms/step - loss: 1126828.7500 - val_loss: 1247823.2500\n",
      "Epoch 190/200\n",
      "118/118 [==============================] - 0s 1ms/step - loss: 1126839.8750 - val_loss: 1248922.0000\n",
      "Epoch 191/200\n",
      "118/118 [==============================] - 0s 1ms/step - loss: 1125815.3750 - val_loss: 1246276.8750\n",
      "Epoch 192/200\n",
      "118/118 [==============================] - 0s 1ms/step - loss: 1125675.8750 - val_loss: 1254107.0000\n",
      "Epoch 193/200\n",
      "118/118 [==============================] - 0s 1ms/step - loss: 1123702.0000 - val_loss: 1247280.3750\n",
      "Epoch 194/200\n",
      "118/118 [==============================] - 0s 1ms/step - loss: 1126804.6250 - val_loss: 1247050.5000\n",
      "Epoch 195/200\n",
      "118/118 [==============================] - 0s 1ms/step - loss: 1126719.8750 - val_loss: 1249167.0000\n",
      "Epoch 196/200\n",
      "118/118 [==============================] - 0s 1ms/step - loss: 1125806.7500 - val_loss: 1244787.8750\n",
      "Epoch 197/200\n",
      "118/118 [==============================] - 0s 1ms/step - loss: 1125815.0000 - val_loss: 1248431.8750\n",
      "Epoch 198/200\n",
      "118/118 [==============================] - 0s 1ms/step - loss: 1124932.5000 - val_loss: 1248379.7500\n",
      "Epoch 199/200\n",
      "118/118 [==============================] - 0s 1ms/step - loss: 1124745.3750 - val_loss: 1250066.3750\n",
      "Epoch 200/200\n",
      "118/118 [==============================] - 0s 1ms/step - loss: 1125215.7500 - val_loss: 1245538.3750\n",
      "fold_var: 2 , train_index:  [3435 3339 3344  146 2282] , val_index:  [ 597  332  521 3935 4800]\n",
      "X_train: (3750, 42) , y_train: (3750,) , X_test: (1250, 42) y_test: (1250,)\n",
      "Epoch 1/200\n",
      "  1/118 [..............................] - ETA: 0s - loss: 8965838.0000WARNING:tensorflow:Callbacks method `on_train_batch_end` is slow compared to the batch time (batch time: 0.0000s vs `on_train_batch_end` time: 0.0156s). Check your callbacks.\n",
      "118/118 [==============================] - 0s 2ms/step - loss: 7332776.0000 - val_loss: 8178473.5000\n",
      "Epoch 2/200\n",
      "118/118 [==============================] - 0s 1ms/step - loss: 6757103.5000 - val_loss: 7192396.5000\n",
      "Epoch 3/200\n",
      "118/118 [==============================] - 0s 1ms/step - loss: 5507378.5000 - val_loss: 5500957.5000\n",
      "Epoch 4/200\n",
      "118/118 [==============================] - 0s 1ms/step - loss: 3874635.7500 - val_loss: 3674590.5000\n",
      "Epoch 5/200\n",
      "118/118 [==============================] - 0s 1ms/step - loss: 2636023.7500 - val_loss: 2710745.2500\n",
      "Epoch 6/200\n",
      "118/118 [==============================] - 0s 1ms/step - loss: 2288416.0000 - val_loss: 2535141.2500\n",
      "Epoch 7/200\n",
      "118/118 [==============================] - 0s 1ms/step - loss: 2183207.0000 - val_loss: 2417737.7500\n",
      "Epoch 8/200\n",
      "118/118 [==============================] - 0s 1ms/step - loss: 2093241.2500 - val_loss: 2326355.2500\n",
      "Epoch 9/200\n",
      "118/118 [==============================] - 0s 1ms/step - loss: 2009908.8750 - val_loss: 2250178.0000\n"
     ]
    },
    {
     "name": "stdout",
     "output_type": "stream",
     "text": [
      "Epoch 10/200\n",
      "118/118 [==============================] - 0s 1ms/step - loss: 1935453.8750 - val_loss: 2176019.2500\n",
      "Epoch 11/200\n",
      "118/118 [==============================] - 0s 1ms/step - loss: 1868521.6250 - val_loss: 2100232.5000\n",
      "Epoch 12/200\n",
      "118/118 [==============================] - 0s 1ms/step - loss: 1806812.8750 - val_loss: 2039012.5000\n",
      "Epoch 13/200\n",
      "118/118 [==============================] - 0s 1ms/step - loss: 1752615.7500 - val_loss: 1981639.5000\n",
      "Epoch 14/200\n",
      "118/118 [==============================] - 0s 1ms/step - loss: 1703841.5000 - val_loss: 1920096.0000\n",
      "Epoch 15/200\n",
      "118/118 [==============================] - 0s 1ms/step - loss: 1657739.6250 - val_loss: 1878712.1250\n",
      "Epoch 16/200\n",
      "118/118 [==============================] - 0s 1ms/step - loss: 1613278.3750 - val_loss: 1833840.0000\n",
      "Epoch 17/200\n",
      "118/118 [==============================] - 0s 1ms/step - loss: 1570156.8750 - val_loss: 1780413.0000\n",
      "Epoch 18/200\n",
      "118/118 [==============================] - 0s 1ms/step - loss: 1529726.7500 - val_loss: 1739698.3750\n",
      "Epoch 19/200\n",
      "118/118 [==============================] - 0s 1ms/step - loss: 1489942.5000 - val_loss: 1692424.2500\n",
      "Epoch 20/200\n",
      "118/118 [==============================] - 0s 1ms/step - loss: 1449623.2500 - val_loss: 1655014.7500\n",
      "Epoch 21/200\n",
      "118/118 [==============================] - 0s 1ms/step - loss: 1416068.7500 - val_loss: 1618511.8750\n",
      "Epoch 22/200\n",
      "118/118 [==============================] - 0s 1ms/step - loss: 1384882.7500 - val_loss: 1586424.7500\n",
      "Epoch 23/200\n",
      "118/118 [==============================] - 0s 1ms/step - loss: 1353278.2500 - val_loss: 1556304.6250\n",
      "Epoch 24/200\n",
      "118/118 [==============================] - 0s 1ms/step - loss: 1323540.6250 - val_loss: 1521862.7500\n",
      "Epoch 25/200\n",
      "118/118 [==============================] - 0s 1ms/step - loss: 1294665.6250 - val_loss: 1487588.2500\n",
      "Epoch 26/200\n",
      "118/118 [==============================] - 0s 1ms/step - loss: 1270352.7500 - val_loss: 1475166.5000\n",
      "Epoch 27/200\n",
      "118/118 [==============================] - 0s 1ms/step - loss: 1249490.2500 - val_loss: 1442940.3750\n",
      "Epoch 28/200\n",
      "118/118 [==============================] - 0s 1ms/step - loss: 1230952.2500 - val_loss: 1406520.7500\n",
      "Epoch 29/200\n",
      "118/118 [==============================] - 0s 1ms/step - loss: 1214931.6250 - val_loss: 1395189.5000\n",
      "Epoch 30/200\n",
      "118/118 [==============================] - 0s 1ms/step - loss: 1201543.7500 - val_loss: 1385675.1250\n",
      "Epoch 31/200\n",
      "118/118 [==============================] - 0s 1ms/step - loss: 1192493.3750 - val_loss: 1362444.8750\n",
      "Epoch 32/200\n",
      "118/118 [==============================] - 0s 1ms/step - loss: 1183232.6250 - val_loss: 1363921.6250\n",
      "Epoch 33/200\n",
      "118/118 [==============================] - 0s 1ms/step - loss: 1177018.1250 - val_loss: 1349706.5000\n",
      "Epoch 34/200\n",
      "118/118 [==============================] - 0s 1ms/step - loss: 1170764.5000 - val_loss: 1347193.7500\n",
      "Epoch 35/200\n",
      "118/118 [==============================] - 0s 1ms/step - loss: 1166936.3750 - val_loss: 1337834.3750\n",
      "Epoch 36/200\n",
      "118/118 [==============================] - 0s 1ms/step - loss: 1162788.8750 - val_loss: 1329865.3750\n",
      "Epoch 37/200\n",
      "118/118 [==============================] - 0s 1ms/step - loss: 1159388.6250 - val_loss: 1317776.1250\n",
      "Epoch 38/200\n",
      "118/118 [==============================] - 0s 1ms/step - loss: 1157861.3750 - val_loss: 1336487.3750\n",
      "Epoch 39/200\n",
      "118/118 [==============================] - 0s 1ms/step - loss: 1155914.3750 - val_loss: 1325872.3750\n",
      "Epoch 40/200\n",
      "118/118 [==============================] - 0s 1ms/step - loss: 1155523.5000 - val_loss: 1319430.1250\n",
      "Epoch 41/200\n",
      "118/118 [==============================] - 0s 1ms/step - loss: 1153564.1250 - val_loss: 1314839.5000\n",
      "Epoch 42/200\n",
      "118/118 [==============================] - 0s 1ms/step - loss: 1152623.0000 - val_loss: 1310454.0000\n",
      "Epoch 43/200\n",
      "118/118 [==============================] - 0s 1ms/step - loss: 1151701.6250 - val_loss: 1313578.1250\n",
      "Epoch 44/200\n",
      "118/118 [==============================] - 0s 1ms/step - loss: 1151424.0000 - val_loss: 1318075.7500\n",
      "Epoch 45/200\n",
      "118/118 [==============================] - 0s 1ms/step - loss: 1150443.1250 - val_loss: 1309244.6250\n",
      "Epoch 46/200\n",
      "118/118 [==============================] - 0s 1ms/step - loss: 1150091.7500 - val_loss: 1315218.1250\n",
      "Epoch 47/200\n",
      "118/118 [==============================] - 0s 1ms/step - loss: 1149295.8750 - val_loss: 1304914.3750\n",
      "Epoch 48/200\n",
      "118/118 [==============================] - 0s 1ms/step - loss: 1149076.1250 - val_loss: 1319080.8750\n",
      "Epoch 49/200\n",
      "118/118 [==============================] - 0s 1ms/step - loss: 1148738.0000 - val_loss: 1310088.7500\n",
      "Epoch 50/200\n",
      "118/118 [==============================] - 0s 1ms/step - loss: 1147667.0000 - val_loss: 1307123.8750\n",
      "Epoch 51/200\n",
      "118/118 [==============================] - 0s 1ms/step - loss: 1147674.8750 - val_loss: 1309134.8750\n",
      "Epoch 52/200\n",
      "118/118 [==============================] - 0s 1ms/step - loss: 1147527.2500 - val_loss: 1306661.7500\n",
      "Epoch 53/200\n",
      "118/118 [==============================] - 0s 1ms/step - loss: 1147968.8750 - val_loss: 1305385.0000\n",
      "Epoch 54/200\n",
      "118/118 [==============================] - 0s 1ms/step - loss: 1146360.7500 - val_loss: 1299720.5000\n",
      "Epoch 55/200\n",
      "118/118 [==============================] - 0s 1ms/step - loss: 1147124.2500 - val_loss: 1309439.1250\n",
      "Epoch 56/200\n",
      "118/118 [==============================] - 0s 1ms/step - loss: 1145651.1250 - val_loss: 1305310.8750\n",
      "Epoch 57/200\n",
      "118/118 [==============================] - 0s 1ms/step - loss: 1145836.5000 - val_loss: 1316147.3750\n",
      "Epoch 58/200\n",
      "118/118 [==============================] - 0s 1ms/step - loss: 1144958.8750 - val_loss: 1295838.7500\n",
      "Epoch 59/200\n",
      "118/118 [==============================] - 0s 1ms/step - loss: 1145668.8750 - val_loss: 1318095.2500\n",
      "Epoch 60/200\n",
      "118/118 [==============================] - 0s 1ms/step - loss: 1145053.6250 - val_loss: 1308729.3750\n",
      "Epoch 61/200\n",
      "118/118 [==============================] - 0s 1ms/step - loss: 1144959.1250 - val_loss: 1300523.0000\n",
      "Epoch 62/200\n",
      "118/118 [==============================] - 0s 1ms/step - loss: 1144461.0000 - val_loss: 1314776.0000\n",
      "Epoch 63/200\n",
      "118/118 [==============================] - 0s 1ms/step - loss: 1144910.0000 - val_loss: 1299792.7500\n",
      "Epoch 64/200\n",
      "118/118 [==============================] - 0s 1ms/step - loss: 1144610.6250 - val_loss: 1308488.2500\n",
      "Epoch 65/200\n",
      "118/118 [==============================] - 0s 1ms/step - loss: 1143431.7500 - val_loss: 1310727.0000\n",
      "Epoch 66/200\n",
      "118/118 [==============================] - 0s 1ms/step - loss: 1143000.7500 - val_loss: 1309881.6250\n",
      "Epoch 67/200\n",
      "118/118 [==============================] - 0s 1ms/step - loss: 1143168.6250 - val_loss: 1298002.6250\n",
      "Epoch 68/200\n",
      "118/118 [==============================] - 0s 1ms/step - loss: 1142737.8750 - val_loss: 1305485.0000\n",
      "Epoch 69/200\n",
      "118/118 [==============================] - 0s 1ms/step - loss: 1142262.2500 - val_loss: 1297216.5000\n",
      "Epoch 70/200\n",
      "118/118 [==============================] - 0s 1ms/step - loss: 1140099.5000 - val_loss: 1326549.2500\n",
      "Epoch 71/200\n",
      "118/118 [==============================] - 0s 1ms/step - loss: 1142476.7500 - val_loss: 1311239.5000\n",
      "Epoch 72/200\n",
      "118/118 [==============================] - 0s 1ms/step - loss: 1141079.6250 - val_loss: 1315291.5000\n",
      "Epoch 73/200\n",
      "118/118 [==============================] - 0s 1ms/step - loss: 1139829.6250 - val_loss: 1291229.6250\n",
      "Epoch 74/200\n",
      "118/118 [==============================] - 0s 1ms/step - loss: 1141118.1250 - val_loss: 1298487.2500\n",
      "Epoch 75/200\n",
      "118/118 [==============================] - 0s 1ms/step - loss: 1140367.3750 - val_loss: 1300810.3750\n",
      "Epoch 76/200\n",
      "118/118 [==============================] - 0s 1ms/step - loss: 1139400.7500 - val_loss: 1298165.3750\n",
      "Epoch 77/200\n",
      "118/118 [==============================] - 0s 1ms/step - loss: 1137930.6250 - val_loss: 1328703.8750\n",
      "Epoch 78/200\n",
      "118/118 [==============================] - 0s 1ms/step - loss: 1139935.8750 - val_loss: 1301218.2500\n",
      "Epoch 79/200\n",
      "118/118 [==============================] - 0s 1ms/step - loss: 1138622.5000 - val_loss: 1298212.1250\n",
      "Epoch 80/200\n",
      "118/118 [==============================] - 0s 1ms/step - loss: 1137927.7500 - val_loss: 1309285.3750\n",
      "Epoch 81/200\n",
      "118/118 [==============================] - 0s 1ms/step - loss: 1138567.8750 - val_loss: 1308870.1250\n"
     ]
    },
    {
     "name": "stdout",
     "output_type": "stream",
     "text": [
      "Epoch 82/200\n",
      "118/118 [==============================] - 0s 1ms/step - loss: 1137478.0000 - val_loss: 1294570.7500\n",
      "Epoch 83/200\n",
      "118/118 [==============================] - 0s 1ms/step - loss: 1136766.1250 - val_loss: 1323680.8750\n",
      "Epoch 84/200\n",
      "118/118 [==============================] - 0s 1ms/step - loss: 1136938.3750 - val_loss: 1295711.2500\n",
      "Epoch 85/200\n",
      "118/118 [==============================] - 0s 1ms/step - loss: 1136305.1250 - val_loss: 1297599.7500\n",
      "Epoch 86/200\n",
      "118/118 [==============================] - 0s 1ms/step - loss: 1136082.6250 - val_loss: 1295258.3750\n",
      "Epoch 87/200\n",
      "118/118 [==============================] - 0s 1ms/step - loss: 1135415.1250 - val_loss: 1310677.6250\n",
      "Epoch 88/200\n",
      "118/118 [==============================] - 0s 1ms/step - loss: 1135568.0000 - val_loss: 1293742.7500\n",
      "Epoch 89/200\n",
      "118/118 [==============================] - 0s 1ms/step - loss: 1134772.0000 - val_loss: 1297451.6250\n",
      "Epoch 90/200\n",
      "118/118 [==============================] - 0s 1ms/step - loss: 1134698.0000 - val_loss: 1305127.5000\n",
      "Epoch 91/200\n",
      "118/118 [==============================] - 0s 1ms/step - loss: 1134234.8750 - val_loss: 1308732.1250\n",
      "Epoch 92/200\n",
      "118/118 [==============================] - ETA: 0s - loss: 1128636.250 - 0s 1ms/step - loss: 1133885.1250 - val_loss: 1292255.7500\n",
      "Epoch 93/200\n",
      "118/118 [==============================] - 0s 1ms/step - loss: 1133356.0000 - val_loss: 1293581.6250\n",
      "Epoch 94/200\n",
      "118/118 [==============================] - 0s 1ms/step - loss: 1132855.7500 - val_loss: 1318189.6250\n",
      "Epoch 95/200\n",
      "118/118 [==============================] - 0s 1ms/step - loss: 1132368.0000 - val_loss: 1314560.5000\n",
      "Epoch 96/200\n",
      "118/118 [==============================] - 0s 1ms/step - loss: 1132609.6250 - val_loss: 1299227.1250\n",
      "Epoch 97/200\n",
      "118/118 [==============================] - 0s 1ms/step - loss: 1131946.2500 - val_loss: 1292540.2500\n",
      "Epoch 98/200\n",
      "118/118 [==============================] - 0s 1ms/step - loss: 1132194.8750 - val_loss: 1293285.6250\n",
      "Epoch 99/200\n",
      "118/118 [==============================] - 0s 1ms/step - loss: 1131209.6250 - val_loss: 1296020.7500\n",
      "Epoch 100/200\n",
      "118/118 [==============================] - 0s 1ms/step - loss: 1131159.0000 - val_loss: 1295428.3750\n",
      "Epoch 101/200\n",
      "118/118 [==============================] - 0s 1ms/step - loss: 1130854.0000 - val_loss: 1295950.5000\n",
      "Epoch 102/200\n",
      "118/118 [==============================] - 0s 1ms/step - loss: 1130062.8750 - val_loss: 1299650.6250\n",
      "Epoch 103/200\n",
      "118/118 [==============================] - 0s 1ms/step - loss: 1128843.2500 - val_loss: 1287921.5000\n",
      "Epoch 104/200\n",
      "118/118 [==============================] - 0s 1ms/step - loss: 1129708.1250 - val_loss: 1304405.8750\n",
      "Epoch 105/200\n",
      "118/118 [==============================] - 0s 1ms/step - loss: 1128306.2500 - val_loss: 1287370.5000\n",
      "Epoch 106/200\n",
      "118/118 [==============================] - 0s 1ms/step - loss: 1128710.6250 - val_loss: 1291761.5000\n",
      "Epoch 107/200\n",
      "118/118 [==============================] - 0s 1ms/step - loss: 1127850.0000 - val_loss: 1298434.8750\n",
      "Epoch 108/200\n",
      "118/118 [==============================] - 0s 1ms/step - loss: 1126549.3750 - val_loss: 1288786.7500\n",
      "Epoch 109/200\n",
      "118/118 [==============================] - 0s 1ms/step - loss: 1127620.2500 - val_loss: 1295850.0000\n",
      "Epoch 110/200\n",
      "118/118 [==============================] - 0s 1ms/step - loss: 1127060.6250 - val_loss: 1296374.1250\n",
      "Epoch 111/200\n",
      "118/118 [==============================] - 0s 1ms/step - loss: 1125534.3750 - val_loss: 1289193.6250\n",
      "Epoch 112/200\n",
      "118/118 [==============================] - 0s 1ms/step - loss: 1125948.1250 - val_loss: 1309350.3750\n",
      "Epoch 113/200\n",
      "118/118 [==============================] - 0s 1ms/step - loss: 1125508.3750 - val_loss: 1297783.6250\n",
      "Epoch 114/200\n",
      "118/118 [==============================] - 0s 1ms/step - loss: 1125557.6250 - val_loss: 1300436.8750\n",
      "Epoch 115/200\n",
      "118/118 [==============================] - 0s 1ms/step - loss: 1125023.6250 - val_loss: 1294037.7500\n",
      "Epoch 116/200\n",
      "118/118 [==============================] - 0s 1ms/step - loss: 1124475.6250 - val_loss: 1295835.5000\n",
      "Epoch 117/200\n",
      "118/118 [==============================] - 0s 1ms/step - loss: 1123860.2500 - val_loss: 1285287.7500\n",
      "Epoch 118/200\n",
      "118/118 [==============================] - 0s 1ms/step - loss: 1124210.3750 - val_loss: 1295561.6250\n",
      "Epoch 119/200\n",
      "118/118 [==============================] - 0s 1ms/step - loss: 1122758.3750 - val_loss: 1309083.1250\n",
      "Epoch 120/200\n",
      "118/118 [==============================] - 0s 1ms/step - loss: 1123906.0000 - val_loss: 1300554.8750\n",
      "Epoch 121/200\n",
      "118/118 [==============================] - 0s 1ms/step - loss: 1122963.8750 - val_loss: 1299302.2500\n",
      "Epoch 122/200\n",
      "118/118 [==============================] - 0s 1ms/step - loss: 1123054.5000 - val_loss: 1305441.2500\n",
      "Epoch 123/200\n",
      "118/118 [==============================] - 0s 1ms/step - loss: 1122278.1250 - val_loss: 1291631.1250\n",
      "Epoch 124/200\n",
      "118/118 [==============================] - 0s 1ms/step - loss: 1122316.5000 - val_loss: 1293606.0000\n",
      "Epoch 125/200\n",
      "118/118 [==============================] - 0s 1ms/step - loss: 1121400.5000 - val_loss: 1301905.2500\n",
      "Epoch 126/200\n",
      "118/118 [==============================] - 0s 1ms/step - loss: 1121770.6250 - val_loss: 1296988.8750\n",
      "Epoch 127/200\n",
      "118/118 [==============================] - 0s 1ms/step - loss: 1120295.3750 - val_loss: 1313897.5000\n",
      "Epoch 128/200\n",
      "118/118 [==============================] - 0s 1ms/step - loss: 1120990.5000 - val_loss: 1294508.2500\n",
      "Epoch 129/200\n",
      "118/118 [==============================] - 0s 1ms/step - loss: 1117882.5000 - val_loss: 1284134.7500\n",
      "Epoch 130/200\n",
      "118/118 [==============================] - 0s 1ms/step - loss: 1119165.1250 - val_loss: 1293174.3750\n",
      "Epoch 131/200\n",
      "118/118 [==============================] - 0s 1ms/step - loss: 1119653.6250 - val_loss: 1289675.8750\n",
      "Epoch 132/200\n",
      "118/118 [==============================] - 0s 1ms/step - loss: 1118046.0000 - val_loss: 1293456.0000\n",
      "Epoch 133/200\n",
      "118/118 [==============================] - 0s 1ms/step - loss: 1118989.1250 - val_loss: 1296899.3750\n",
      "Epoch 134/200\n",
      "118/118 [==============================] - 0s 1ms/step - loss: 1117734.7500 - val_loss: 1295560.8750\n",
      "Epoch 135/200\n",
      "118/118 [==============================] - 0s 1ms/step - loss: 1117830.0000 - val_loss: 1301017.1250\n",
      "Epoch 136/200\n",
      "118/118 [==============================] - 0s 1ms/step - loss: 1116879.1250 - val_loss: 1296383.1250\n",
      "Epoch 137/200\n",
      "118/118 [==============================] - 0s 1ms/step - loss: 1117151.8750 - val_loss: 1308218.8750\n",
      "Epoch 138/200\n",
      "118/118 [==============================] - 0s 1ms/step - loss: 1116483.5000 - val_loss: 1299436.7500\n",
      "Epoch 139/200\n",
      "118/118 [==============================] - 0s 1ms/step - loss: 1115043.2500 - val_loss: 1283826.2500\n",
      "Epoch 140/200\n",
      "118/118 [==============================] - 0s 1ms/step - loss: 1117201.8750 - val_loss: 1301632.8750\n",
      "Epoch 141/200\n",
      "118/118 [==============================] - 0s 1ms/step - loss: 1115574.5000 - val_loss: 1288164.1250\n",
      "Epoch 142/200\n",
      "118/118 [==============================] - 0s 1ms/step - loss: 1116255.8750 - val_loss: 1295672.2500\n",
      "Epoch 143/200\n",
      "118/118 [==============================] - 0s 1ms/step - loss: 1115546.2500 - val_loss: 1287120.7500\n",
      "Epoch 144/200\n",
      "118/118 [==============================] - 0s 1ms/step - loss: 1115441.2500 - val_loss: 1291120.1250\n",
      "Epoch 145/200\n",
      "118/118 [==============================] - 0s 1ms/step - loss: 1114723.5000 - val_loss: 1296718.5000\n",
      "Epoch 146/200\n",
      "118/118 [==============================] - 0s 1ms/step - loss: 1114423.6250 - val_loss: 1298648.6250\n",
      "Epoch 147/200\n",
      "118/118 [==============================] - 0s 1ms/step - loss: 1114253.7500 - val_loss: 1303810.0000\n",
      "Epoch 148/200\n",
      "118/118 [==============================] - 0s 1ms/step - loss: 1111768.8750 - val_loss: 1287696.6250\n",
      "Epoch 149/200\n",
      "118/118 [==============================] - 0s 1ms/step - loss: 1114321.3750 - val_loss: 1298104.5000\n",
      "Epoch 150/200\n",
      "118/118 [==============================] - 0s 1ms/step - loss: 1113184.6250 - val_loss: 1305530.2500\n",
      "Epoch 151/200\n",
      "118/118 [==============================] - 0s 1ms/step - loss: 1112872.5000 - val_loss: 1290239.6250\n",
      "Epoch 152/200\n",
      "118/118 [==============================] - 0s 1ms/step - loss: 1112168.1250 - val_loss: 1293251.8750\n",
      "Epoch 153/200\n"
     ]
    },
    {
     "name": "stdout",
     "output_type": "stream",
     "text": [
      "118/118 [==============================] - 0s 1ms/step - loss: 1111779.2500 - val_loss: 1302702.5000\n",
      "Epoch 154/200\n",
      "118/118 [==============================] - 0s 1ms/step - loss: 1110951.1250 - val_loss: 1302243.3750\n",
      "Epoch 155/200\n",
      "118/118 [==============================] - 0s 1ms/step - loss: 1111896.3750 - val_loss: 1298718.7500\n",
      "Epoch 156/200\n",
      "118/118 [==============================] - 0s 2ms/step - loss: 1111032.1250 - val_loss: 1293624.3750\n",
      "Epoch 157/200\n",
      "118/118 [==============================] - 0s 1ms/step - loss: 1110293.7500 - val_loss: 1297566.0000\n",
      "Epoch 158/200\n",
      "118/118 [==============================] - 0s 1ms/step - loss: 1110804.0000 - val_loss: 1293107.6250\n",
      "Epoch 159/200\n",
      "118/118 [==============================] - 0s 1ms/step - loss: 1109666.6250 - val_loss: 1304874.6250\n",
      "Epoch 160/200\n",
      "118/118 [==============================] - 0s 1ms/step - loss: 1108255.8750 - val_loss: 1303934.2500\n",
      "Epoch 161/200\n",
      "118/118 [==============================] - 0s 1ms/step - loss: 1109428.3750 - val_loss: 1297133.0000\n",
      "Epoch 162/200\n",
      "118/118 [==============================] - 0s 1ms/step - loss: 1109117.5000 - val_loss: 1299120.1250\n",
      "Epoch 163/200\n",
      "118/118 [==============================] - 0s 1ms/step - loss: 1109038.0000 - val_loss: 1290348.5000\n",
      "Epoch 164/200\n",
      "118/118 [==============================] - 0s 1ms/step - loss: 1108658.0000 - val_loss: 1293767.1250\n",
      "Epoch 165/200\n",
      "118/118 [==============================] - 0s 1ms/step - loss: 1108267.7500 - val_loss: 1304664.1250\n",
      "Epoch 166/200\n",
      "118/118 [==============================] - 0s 1ms/step - loss: 1107467.1250 - val_loss: 1300882.6250\n",
      "Epoch 167/200\n",
      "118/118 [==============================] - 0s 1ms/step - loss: 1106995.0000 - val_loss: 1289565.7500\n",
      "Epoch 168/200\n",
      "118/118 [==============================] - 0s 1ms/step - loss: 1107089.0000 - val_loss: 1291532.7500\n",
      "Epoch 169/200\n",
      "118/118 [==============================] - 0s 1ms/step - loss: 1106493.0000 - val_loss: 1303347.7500\n",
      "Epoch 170/200\n",
      "118/118 [==============================] - 0s 1ms/step - loss: 1104747.2500 - val_loss: 1294357.1250\n",
      "Epoch 171/200\n",
      "118/118 [==============================] - 0s 1ms/step - loss: 1105675.8750 - val_loss: 1299209.5000\n",
      "Epoch 172/200\n",
      "118/118 [==============================] - 0s 1ms/step - loss: 1105966.5000 - val_loss: 1290499.3750\n",
      "Epoch 173/200\n",
      "118/118 [==============================] - 0s 1ms/step - loss: 1105514.3750 - val_loss: 1303648.0000\n",
      "Epoch 174/200\n",
      "118/118 [==============================] - 0s 1ms/step - loss: 1105524.1250 - val_loss: 1306080.3750\n",
      "Epoch 175/200\n",
      "118/118 [==============================] - 0s 1ms/step - loss: 1104336.1250 - val_loss: 1291095.5000\n",
      "Epoch 176/200\n",
      "118/118 [==============================] - 0s 956us/step - loss: 1104645.3750 - val_loss: 1291928.1250\n",
      "Epoch 177/200\n",
      "118/118 [==============================] - 0s 1ms/step - loss: 1103006.7500 - val_loss: 1296025.2500\n",
      "Epoch 178/200\n",
      "118/118 [==============================] - 0s 1ms/step - loss: 1104228.5000 - val_loss: 1294042.0000\n",
      "Epoch 179/200\n",
      "118/118 [==============================] - 0s 1ms/step - loss: 1103715.7500 - val_loss: 1292275.0000\n",
      "Epoch 180/200\n",
      "118/118 [==============================] - 0s 1ms/step - loss: 1102976.6250 - val_loss: 1304643.6250\n",
      "Epoch 181/200\n",
      "118/118 [==============================] - 0s 2ms/step - loss: 1103865.2500 - val_loss: 1292569.3750\n",
      "Epoch 182/200\n",
      "118/118 [==============================] - 0s 1ms/step - loss: 1103388.8750 - val_loss: 1304215.3750\n",
      "Epoch 183/200\n",
      "118/118 [==============================] - 0s 1ms/step - loss: 1102573.0000 - val_loss: 1306839.7500\n",
      "Epoch 184/200\n",
      "118/118 [==============================] - 0s 2ms/step - loss: 1102583.2500 - val_loss: 1307600.3750\n",
      "Epoch 185/200\n",
      "118/118 [==============================] - 0s 1ms/step - loss: 1102218.2500 - val_loss: 1305330.2500\n",
      "Epoch 186/200\n",
      "118/118 [==============================] - 0s 1ms/step - loss: 1101540.7500 - val_loss: 1305859.1250\n",
      "Epoch 187/200\n",
      "118/118 [==============================] - 0s 2ms/step - loss: 1101444.0000 - val_loss: 1292226.6250\n",
      "Epoch 188/200\n",
      "118/118 [==============================] - 0s 1ms/step - loss: 1102156.7500 - val_loss: 1296888.2500\n",
      "Epoch 189/200\n",
      "118/118 [==============================] - 0s 2ms/step - loss: 1100653.6250 - val_loss: 1288599.5000\n",
      "Epoch 190/200\n",
      "118/118 [==============================] - 0s 1ms/step - loss: 1099588.0000 - val_loss: 1287799.2500\n",
      "Epoch 191/200\n",
      "118/118 [==============================] - 0s 1ms/step - loss: 1100726.1250 - val_loss: 1310483.5000\n",
      "Epoch 192/200\n",
      "118/118 [==============================] - 0s 1ms/step - loss: 1101035.0000 - val_loss: 1302506.1250\n",
      "Epoch 193/200\n",
      "118/118 [==============================] - 0s 1ms/step - loss: 1100583.3750 - val_loss: 1291365.5000\n",
      "Epoch 194/200\n",
      "118/118 [==============================] - 0s 1ms/step - loss: 1100047.5000 - val_loss: 1296364.5000\n",
      "Epoch 195/200\n",
      "118/118 [==============================] - 0s 1ms/step - loss: 1099728.8750 - val_loss: 1304944.8750\n",
      "Epoch 196/200\n",
      "118/118 [==============================] - 0s 1ms/step - loss: 1099658.6250 - val_loss: 1302516.3750\n",
      "Epoch 197/200\n",
      "118/118 [==============================] - 0s 2ms/step - loss: 1099162.8750 - val_loss: 1288977.7500\n",
      "Epoch 198/200\n",
      "118/118 [==============================] - 0s 1ms/step - loss: 1099472.7500 - val_loss: 1301034.7500\n",
      "Epoch 199/200\n",
      "118/118 [==============================] - 0s 2ms/step - loss: 1099360.7500 - val_loss: 1305184.1250\n",
      "Epoch 200/200\n",
      "118/118 [==============================] - 0s 1ms/step - loss: 1098591.2500 - val_loss: 1298400.1250\n"
     ]
    }
   ],
   "source": [
    "num_neurons = [21,10] # two hidden layers, first with 21 and second woth 10 neurons\n",
    "num_epochs = 200\n",
    "num_splits = 2\n",
    "test_size = 0.25\n",
    "\n",
    "R2_SCORES = []\n",
    "MAE = []\n",
    "LOSS = []\n",
    "VALIDATION_LOSS = []\n",
    "\n",
    "model = run_train_model(num_neurons, num_epochs, num_splits, test_size)"
   ]
  },
  {
   "cell_type": "markdown",
   "id": "01534004",
   "metadata": {},
   "source": [
    "## Evaluation\n",
    "The R2 score should end up at around 0.58-0.59 consistently."
   ]
  },
  {
   "cell_type": "code",
   "execution_count": 56,
   "id": "d7b366f6",
   "metadata": {},
   "outputs": [
    {
     "name": "stdout",
     "output_type": "stream",
     "text": [
      "r2 score: 0.59 [0.5978170722155459, 0.5921577681136146]\n",
      "mae:  [780.6254615150585, 798.0037490867774]\n",
      "test loss: [1245538.375 1298400.125]\n"
     ]
    }
   ],
   "source": [
    "r2_avg = sum(R2_SCORES)/len(R2_SCORES)\n",
    "print(\"r2 score: %.2f\" % r2_avg, R2_SCORES)\n",
    "print(\"mae: \", MAE)\n",
    "print(\"test loss:\", np.array(VALIDATION_LOSS)[:,-1])"
   ]
  },
  {
   "cell_type": "markdown",
   "id": "a7c729e7",
   "metadata": {},
   "source": [
    "Plot learning curves"
   ]
  },
  {
   "cell_type": "code",
   "execution_count": 57,
   "id": "39c0ec7a",
   "metadata": {},
   "outputs": [
    {
     "data": {
      "image/png": "[encoded data removed]",
      "text/plain": [
       "<Figure size 432x288 with 1 Axes>"
      ]
     },
     "metadata": {
      "needs_background": "light"
     },
     "output_type": "display_data"
    },
    {
     "data": {
      "image/png": "[encoded data removed]",
      "text/plain": [
       "<Figure size 432x288 with 1 Axes>"
      ]
     },
     "metadata": {
      "needs_background": "light"
     },
     "output_type": "display_data"
    }
   ],
   "source": [
    "for i in range(len(LOSS)):\n",
    "    plt.plot(LOSS[i])\n",
    "    plt.plot(VALIDATION_LOSS[i])\n",
    "    plt.title('model loss')\n",
    "    plt.ylabel('loss')\n",
    "    plt.xlabel('epoch')\n",
    "    plt.legend(['train', 'validation'], loc='upper left')\n",
    "    plt.show()"
   ]
  },
  {
   "cell_type": "code",
   "execution_count": 58,
   "id": "37c82d4b",
   "metadata": {},
   "outputs": [],
   "source": [
    "# get predictions for the test data\n",
    "test_preds = model.predict(test_X_norm)"
   ]
  },
  {
   "cell_type": "code",
   "execution_count": 61,
   "id": "0d9c7b0b",
   "metadata": {},
   "outputs": [],
   "source": [
    "# write the predicted prices to file\n",
    "res1 = test_df[['Item_Identifier', 'Outlet_Identifier']]\n",
    "res2 = pd.DataFrame(test_preds)\n",
    "final_result = pd.concat([res1, res2], axis=1)\n",
    "final_result.rename(columns={'0':'Item_Outlet_Sales'}, inplace=True)\n",
    "final_result.to_csv('problem_3_predictions.csv', index=False)"
   ]
  }
 ],
 "metadata": {
  "kernelspec": {
   "display_name": "Python 3",
   "language": "python",
   "name": "python3"
  },
  "language_info": {
   "codemirror_mode": {
    "name": "ipython",
    "version": 3
   },
   "file_extension": ".py",
   "mimetype": "text/x-python",
   "name": "python",
   "nbconvert_exporter": "python",
   "pygments_lexer": "ipython3",
   "version": "3.8.8"
  }
 },
 "nbformat": 4,
 "nbformat_minor": 5
}
