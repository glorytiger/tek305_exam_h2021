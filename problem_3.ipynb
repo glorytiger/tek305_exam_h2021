{
 "cells": [
  {
   "cell_type": "code",
   "execution_count": 1,
   "id": "296d8e9e",
   "metadata": {},
   "outputs": [],
   "source": [
    "import pandas as pd\n",
    "import numpy as np\n",
    "import matplotlib.pyplot as plt\n",
    "import seaborn as sns\n",
    "from sklearn.preprocessing import MinMaxScaler\n",
    "from sklearn.model_selection import ShuffleSplit\n",
    "from sklearn.preprocessing import OneHotEncoder\n",
    "from sklearn.metrics import r2_score\n",
    "from sklearn.metrics import mean_absolute_error\n",
    "import tensorflow as tf\n",
    "from keras.models import Sequential\n",
    "from keras.layers import Dense"
   ]
  },
  {
   "cell_type": "code",
   "execution_count": 2,
   "id": "897e7ded",
   "metadata": {},
   "outputs": [],
   "source": [
    "df = pd.read_csv(\"datasets/Deep_Learning_task_train_dataset.csv\", sep=',')\n",
    "train = df\n",
    "test_df = pd.read_csv(\"datasets/Deep_Learning_task_test_dataset.csv\", sep=',')\n",
    "test = test_df.copy()"
   ]
  },
  {
   "cell_type": "markdown",
   "id": "2cbc98e5",
   "metadata": {},
   "source": [
    "## Inspection"
   ]
  },
  {
   "cell_type": "code",
   "execution_count": 3,
   "id": "19643b61",
   "metadata": {},
   "outputs": [
    {
     "data": {
      "text/html": [
       "<div>\n",
       "<style scoped>\n",
       "    .dataframe tbody tr th:only-of-type {\n",
       "        vertical-align: middle;\n",
       "    }\n",
       "\n",
       "    .dataframe tbody tr th {\n",
       "        vertical-align: top;\n",
       "    }\n",
       "\n",
       "    .dataframe thead th {\n",
       "        text-align: right;\n",
       "    }\n",
       "</style>\n",
       "<table border=\"1\" class=\"dataframe\">\n",
       "  <thead>\n",
       "    <tr style=\"text-align: right;\">\n",
       "      <th></th>\n",
       "      <th>Item_Identifier</th>\n",
       "      <th>Item_Weight</th>\n",
       "      <th>Item_Fat_Content</th>\n",
       "      <th>Item_Visibility</th>\n",
       "      <th>Item_Type</th>\n",
       "      <th>Item_MRP</th>\n",
       "      <th>Outlet_Identifier</th>\n",
       "      <th>Outlet_Establishment_Year</th>\n",
       "      <th>Outlet_Size</th>\n",
       "      <th>Outlet_Location_Type</th>\n",
       "      <th>Outlet_Type</th>\n",
       "      <th>Item_Outlet_Sales</th>\n",
       "    </tr>\n",
       "  </thead>\n",
       "  <tbody>\n",
       "    <tr>\n",
       "      <th>0</th>\n",
       "      <td>FDA15</td>\n",
       "      <td>9.30</td>\n",
       "      <td>Low Fat</td>\n",
       "      <td>0.016047</td>\n",
       "      <td>Dairy</td>\n",
       "      <td>249.8092</td>\n",
       "      <td>OUT049</td>\n",
       "      <td>1999</td>\n",
       "      <td>Medium</td>\n",
       "      <td>Tier 1</td>\n",
       "      <td>Supermarket Type1</td>\n",
       "      <td>3735.1380</td>\n",
       "    </tr>\n",
       "    <tr>\n",
       "      <th>1</th>\n",
       "      <td>DRC01</td>\n",
       "      <td>5.92</td>\n",
       "      <td>Regular</td>\n",
       "      <td>0.019278</td>\n",
       "      <td>Soft Drinks</td>\n",
       "      <td>48.2692</td>\n",
       "      <td>OUT018</td>\n",
       "      <td>2009</td>\n",
       "      <td>Medium</td>\n",
       "      <td>Tier 3</td>\n",
       "      <td>Supermarket Type2</td>\n",
       "      <td>443.4228</td>\n",
       "    </tr>\n",
       "    <tr>\n",
       "      <th>2</th>\n",
       "      <td>FDN15</td>\n",
       "      <td>17.50</td>\n",
       "      <td>Low Fat</td>\n",
       "      <td>0.016760</td>\n",
       "      <td>Meat</td>\n",
       "      <td>141.6180</td>\n",
       "      <td>OUT049</td>\n",
       "      <td>1999</td>\n",
       "      <td>Medium</td>\n",
       "      <td>Tier 1</td>\n",
       "      <td>Supermarket Type1</td>\n",
       "      <td>2097.2700</td>\n",
       "    </tr>\n",
       "    <tr>\n",
       "      <th>3</th>\n",
       "      <td>FDX07</td>\n",
       "      <td>19.20</td>\n",
       "      <td>Regular</td>\n",
       "      <td>0.000000</td>\n",
       "      <td>Fruits and Vegetables</td>\n",
       "      <td>182.0950</td>\n",
       "      <td>OUT010</td>\n",
       "      <td>1998</td>\n",
       "      <td>NaN</td>\n",
       "      <td>Tier 3</td>\n",
       "      <td>Grocery Store</td>\n",
       "      <td>732.3800</td>\n",
       "    </tr>\n",
       "    <tr>\n",
       "      <th>4</th>\n",
       "      <td>NCD19</td>\n",
       "      <td>8.93</td>\n",
       "      <td>Low Fat</td>\n",
       "      <td>0.000000</td>\n",
       "      <td>Household</td>\n",
       "      <td>53.8614</td>\n",
       "      <td>OUT013</td>\n",
       "      <td>1987</td>\n",
       "      <td>High</td>\n",
       "      <td>Tier 3</td>\n",
       "      <td>Supermarket Type1</td>\n",
       "      <td>994.7052</td>\n",
       "    </tr>\n",
       "  </tbody>\n",
       "</table>\n",
       "</div>"
      ],
      "text/plain": [
       "  Item_Identifier  Item_Weight Item_Fat_Content  Item_Visibility  \\\n",
       "0           FDA15         9.30          Low Fat         0.016047   \n",
       "1           DRC01         5.92          Regular         0.019278   \n",
       "2           FDN15        17.50          Low Fat         0.016760   \n",
       "3           FDX07        19.20          Regular         0.000000   \n",
       "4           NCD19         8.93          Low Fat         0.000000   \n",
       "\n",
       "               Item_Type  Item_MRP Outlet_Identifier  \\\n",
       "0                  Dairy  249.8092            OUT049   \n",
       "1            Soft Drinks   48.2692            OUT018   \n",
       "2                   Meat  141.6180            OUT049   \n",
       "3  Fruits and Vegetables  182.0950            OUT010   \n",
       "4              Household   53.8614            OUT013   \n",
       "\n",
       "   Outlet_Establishment_Year Outlet_Size Outlet_Location_Type  \\\n",
       "0                       1999      Medium               Tier 1   \n",
       "1                       2009      Medium               Tier 3   \n",
       "2                       1999      Medium               Tier 1   \n",
       "3                       1998         NaN               Tier 3   \n",
       "4                       1987        High               Tier 3   \n",
       "\n",
       "         Outlet_Type  Item_Outlet_Sales  \n",
       "0  Supermarket Type1          3735.1380  \n",
       "1  Supermarket Type2           443.4228  \n",
       "2  Supermarket Type1          2097.2700  \n",
       "3      Grocery Store           732.3800  \n",
       "4  Supermarket Type1           994.7052  "
      ]
     },
     "execution_count": 3,
     "metadata": {},
     "output_type": "execute_result"
    }
   ],
   "source": [
    "train.head()"
   ]
  },
  {
   "cell_type": "code",
   "execution_count": 4,
   "id": "6a0176f5",
   "metadata": {},
   "outputs": [
    {
     "data": {
      "text/html": [
       "<div>\n",
       "<style scoped>\n",
       "    .dataframe tbody tr th:only-of-type {\n",
       "        vertical-align: middle;\n",
       "    }\n",
       "\n",
       "    .dataframe tbody tr th {\n",
       "        vertical-align: top;\n",
       "    }\n",
       "\n",
       "    .dataframe thead th {\n",
       "        text-align: right;\n",
       "    }\n",
       "</style>\n",
       "<table border=\"1\" class=\"dataframe\">\n",
       "  <thead>\n",
       "    <tr style=\"text-align: right;\">\n",
       "      <th></th>\n",
       "      <th>Item_Identifier</th>\n",
       "      <th>Item_Weight</th>\n",
       "      <th>Item_Fat_Content</th>\n",
       "      <th>Item_Visibility</th>\n",
       "      <th>Item_Type</th>\n",
       "      <th>Item_MRP</th>\n",
       "      <th>Outlet_Identifier</th>\n",
       "      <th>Outlet_Establishment_Year</th>\n",
       "      <th>Outlet_Size</th>\n",
       "      <th>Outlet_Location_Type</th>\n",
       "      <th>Outlet_Type</th>\n",
       "      <th>Item_Outlet_Sales</th>\n",
       "    </tr>\n",
       "  </thead>\n",
       "  <tbody>\n",
       "    <tr>\n",
       "      <th>0</th>\n",
       "      <td>NCF31</td>\n",
       "      <td>9.130</td>\n",
       "      <td>Low Fat</td>\n",
       "      <td>0.051928</td>\n",
       "      <td>Household</td>\n",
       "      <td>151.4024</td>\n",
       "      <td>OUT049</td>\n",
       "      <td>1999</td>\n",
       "      <td>Medium</td>\n",
       "      <td>Tier 1</td>\n",
       "      <td>Supermarket Type1</td>\n",
       "      <td>NaN</td>\n",
       "    </tr>\n",
       "    <tr>\n",
       "      <th>1</th>\n",
       "      <td>FDD59</td>\n",
       "      <td>10.500</td>\n",
       "      <td>Regular</td>\n",
       "      <td>0.000000</td>\n",
       "      <td>Starchy Foods</td>\n",
       "      <td>78.2960</td>\n",
       "      <td>OUT046</td>\n",
       "      <td>1997</td>\n",
       "      <td>Small</td>\n",
       "      <td>Tier 1</td>\n",
       "      <td>Supermarket Type1</td>\n",
       "      <td>NaN</td>\n",
       "    </tr>\n",
       "    <tr>\n",
       "      <th>2</th>\n",
       "      <td>FDQ52</td>\n",
       "      <td>17.000</td>\n",
       "      <td>Low Fat</td>\n",
       "      <td>0.119571</td>\n",
       "      <td>Frozen Foods</td>\n",
       "      <td>249.7434</td>\n",
       "      <td>OUT049</td>\n",
       "      <td>1999</td>\n",
       "      <td>Medium</td>\n",
       "      <td>Tier 1</td>\n",
       "      <td>Supermarket Type1</td>\n",
       "      <td>NaN</td>\n",
       "    </tr>\n",
       "    <tr>\n",
       "      <th>3</th>\n",
       "      <td>FDP09</td>\n",
       "      <td>NaN</td>\n",
       "      <td>Low Fat</td>\n",
       "      <td>0.033726</td>\n",
       "      <td>Snack Foods</td>\n",
       "      <td>211.6902</td>\n",
       "      <td>OUT027</td>\n",
       "      <td>1985</td>\n",
       "      <td>Medium</td>\n",
       "      <td>Tier 3</td>\n",
       "      <td>Supermarket Type3</td>\n",
       "      <td>NaN</td>\n",
       "    </tr>\n",
       "    <tr>\n",
       "      <th>4</th>\n",
       "      <td>FDK24</td>\n",
       "      <td>9.195</td>\n",
       "      <td>Low Fat</td>\n",
       "      <td>0.101276</td>\n",
       "      <td>Baking Goods</td>\n",
       "      <td>46.4744</td>\n",
       "      <td>OUT035</td>\n",
       "      <td>2004</td>\n",
       "      <td>Small</td>\n",
       "      <td>Tier 2</td>\n",
       "      <td>Supermarket Type1</td>\n",
       "      <td>NaN</td>\n",
       "    </tr>\n",
       "  </tbody>\n",
       "</table>\n",
       "</div>"
      ],
      "text/plain": [
       "  Item_Identifier  Item_Weight Item_Fat_Content  Item_Visibility  \\\n",
       "0           NCF31        9.130          Low Fat         0.051928   \n",
       "1           FDD59       10.500          Regular         0.000000   \n",
       "2           FDQ52       17.000          Low Fat         0.119571   \n",
       "3           FDP09          NaN          Low Fat         0.033726   \n",
       "4           FDK24        9.195          Low Fat         0.101276   \n",
       "\n",
       "       Item_Type  Item_MRP Outlet_Identifier  Outlet_Establishment_Year  \\\n",
       "0      Household  151.4024            OUT049                       1999   \n",
       "1  Starchy Foods   78.2960            OUT046                       1997   \n",
       "2   Frozen Foods  249.7434            OUT049                       1999   \n",
       "3    Snack Foods  211.6902            OUT027                       1985   \n",
       "4   Baking Goods   46.4744            OUT035                       2004   \n",
       "\n",
       "  Outlet_Size Outlet_Location_Type        Outlet_Type  Item_Outlet_Sales  \n",
       "0      Medium               Tier 1  Supermarket Type1                NaN  \n",
       "1       Small               Tier 1  Supermarket Type1                NaN  \n",
       "2      Medium               Tier 1  Supermarket Type1                NaN  \n",
       "3      Medium               Tier 3  Supermarket Type3                NaN  \n",
       "4       Small               Tier 2  Supermarket Type1                NaN  "
      ]
     },
     "execution_count": 4,
     "metadata": {},
     "output_type": "execute_result"
    }
   ],
   "source": [
    "test.head()"
   ]
  },
  {
   "cell_type": "markdown",
   "id": "d7e53593",
   "metadata": {},
   "source": [
    "The value range difference tells us that the dataset should be normalized.<br>\n",
    "I'd also like to investigate more the minimum values of <b>Item_Visibility</b>"
   ]
  },
  {
   "cell_type": "code",
   "execution_count": 5,
   "id": "1f6f21a8",
   "metadata": {},
   "outputs": [
    {
     "data": {
      "text/html": [
       "<div>\n",
       "<style scoped>\n",
       "    .dataframe tbody tr th:only-of-type {\n",
       "        vertical-align: middle;\n",
       "    }\n",
       "\n",
       "    .dataframe tbody tr th {\n",
       "        vertical-align: top;\n",
       "    }\n",
       "\n",
       "    .dataframe thead th {\n",
       "        text-align: right;\n",
       "    }\n",
       "</style>\n",
       "<table border=\"1\" class=\"dataframe\">\n",
       "  <thead>\n",
       "    <tr style=\"text-align: right;\">\n",
       "      <th></th>\n",
       "      <th>Item_Weight</th>\n",
       "      <th>Item_Visibility</th>\n",
       "      <th>Item_MRP</th>\n",
       "      <th>Outlet_Establishment_Year</th>\n",
       "      <th>Item_Outlet_Sales</th>\n",
       "    </tr>\n",
       "  </thead>\n",
       "  <tbody>\n",
       "    <tr>\n",
       "      <th>count</th>\n",
       "      <td>4182.000000</td>\n",
       "      <td>5000.000000</td>\n",
       "      <td>5000.000000</td>\n",
       "      <td>5000.000000</td>\n",
       "      <td>5000.000000</td>\n",
       "    </tr>\n",
       "    <tr>\n",
       "      <th>mean</th>\n",
       "      <td>12.959605</td>\n",
       "      <td>0.065671</td>\n",
       "      <td>141.344520</td>\n",
       "      <td>1997.900800</td>\n",
       "      <td>2188.381667</td>\n",
       "    </tr>\n",
       "    <tr>\n",
       "      <th>std</th>\n",
       "      <td>4.661704</td>\n",
       "      <td>0.051206</td>\n",
       "      <td>62.401514</td>\n",
       "      <td>8.290423</td>\n",
       "      <td>1703.131187</td>\n",
       "    </tr>\n",
       "    <tr>\n",
       "      <th>min</th>\n",
       "      <td>4.555000</td>\n",
       "      <td>0.000000</td>\n",
       "      <td>31.290000</td>\n",
       "      <td>1985.000000</td>\n",
       "      <td>33.290000</td>\n",
       "    </tr>\n",
       "    <tr>\n",
       "      <th>25%</th>\n",
       "      <td>8.890000</td>\n",
       "      <td>0.026839</td>\n",
       "      <td>94.119250</td>\n",
       "      <td>1987.000000</td>\n",
       "      <td>846.231800</td>\n",
       "    </tr>\n",
       "    <tr>\n",
       "      <th>50%</th>\n",
       "      <td>12.800000</td>\n",
       "      <td>0.054251</td>\n",
       "      <td>143.315400</td>\n",
       "      <td>1999.000000</td>\n",
       "      <td>1808.312800</td>\n",
       "    </tr>\n",
       "    <tr>\n",
       "      <th>75%</th>\n",
       "      <td>17.100000</td>\n",
       "      <td>0.093850</td>\n",
       "      <td>186.472700</td>\n",
       "      <td>2004.000000</td>\n",
       "      <td>3091.975200</td>\n",
       "    </tr>\n",
       "    <tr>\n",
       "      <th>max</th>\n",
       "      <td>21.350000</td>\n",
       "      <td>0.328391</td>\n",
       "      <td>266.888400</td>\n",
       "      <td>2009.000000</td>\n",
       "      <td>11445.102000</td>\n",
       "    </tr>\n",
       "  </tbody>\n",
       "</table>\n",
       "</div>"
      ],
      "text/plain": [
       "       Item_Weight  Item_Visibility     Item_MRP  Outlet_Establishment_Year  \\\n",
       "count  4182.000000      5000.000000  5000.000000                5000.000000   \n",
       "mean     12.959605         0.065671   141.344520                1997.900800   \n",
       "std       4.661704         0.051206    62.401514                   8.290423   \n",
       "min       4.555000         0.000000    31.290000                1985.000000   \n",
       "25%       8.890000         0.026839    94.119250                1987.000000   \n",
       "50%      12.800000         0.054251   143.315400                1999.000000   \n",
       "75%      17.100000         0.093850   186.472700                2004.000000   \n",
       "max      21.350000         0.328391   266.888400                2009.000000   \n",
       "\n",
       "       Item_Outlet_Sales  \n",
       "count        5000.000000  \n",
       "mean         2188.381667  \n",
       "std          1703.131187  \n",
       "min            33.290000  \n",
       "25%           846.231800  \n",
       "50%          1808.312800  \n",
       "75%          3091.975200  \n",
       "max         11445.102000  "
      ]
     },
     "execution_count": 5,
     "metadata": {},
     "output_type": "execute_result"
    }
   ],
   "source": [
    "train.describe()"
   ]
  },
  {
   "cell_type": "code",
   "execution_count": 6,
   "id": "d5fa839a",
   "metadata": {},
   "outputs": [
    {
     "data": {
      "text/html": [
       "<div>\n",
       "<style scoped>\n",
       "    .dataframe tbody tr th:only-of-type {\n",
       "        vertical-align: middle;\n",
       "    }\n",
       "\n",
       "    .dataframe tbody tr th {\n",
       "        vertical-align: top;\n",
       "    }\n",
       "\n",
       "    .dataframe thead th {\n",
       "        text-align: right;\n",
       "    }\n",
       "</style>\n",
       "<table border=\"1\" class=\"dataframe\">\n",
       "  <thead>\n",
       "    <tr style=\"text-align: right;\">\n",
       "      <th></th>\n",
       "      <th>Item_Weight</th>\n",
       "      <th>Item_Visibility</th>\n",
       "      <th>Item_MRP</th>\n",
       "      <th>Outlet_Establishment_Year</th>\n",
       "      <th>Item_Outlet_Sales</th>\n",
       "    </tr>\n",
       "  </thead>\n",
       "  <tbody>\n",
       "    <tr>\n",
       "      <th>count</th>\n",
       "      <td>2878.000000</td>\n",
       "      <td>3523.000000</td>\n",
       "      <td>3523.000000</td>\n",
       "      <td>3523.000000</td>\n",
       "      <td>0.0</td>\n",
       "    </tr>\n",
       "    <tr>\n",
       "      <th>mean</th>\n",
       "      <td>12.709487</td>\n",
       "      <td>0.066786</td>\n",
       "      <td>140.493580</td>\n",
       "      <td>1997.734033</td>\n",
       "      <td>NaN</td>\n",
       "    </tr>\n",
       "    <tr>\n",
       "      <th>std</th>\n",
       "      <td>4.613606</td>\n",
       "      <td>0.052149</td>\n",
       "      <td>62.100594</td>\n",
       "      <td>8.486081</td>\n",
       "      <td>NaN</td>\n",
       "    </tr>\n",
       "    <tr>\n",
       "      <th>min</th>\n",
       "      <td>4.555000</td>\n",
       "      <td>0.000000</td>\n",
       "      <td>31.490000</td>\n",
       "      <td>1985.000000</td>\n",
       "      <td>NaN</td>\n",
       "    </tr>\n",
       "    <tr>\n",
       "      <th>25%</th>\n",
       "      <td>8.630000</td>\n",
       "      <td>0.027577</td>\n",
       "      <td>93.496200</td>\n",
       "      <td>1987.000000</td>\n",
       "      <td>NaN</td>\n",
       "    </tr>\n",
       "    <tr>\n",
       "      <th>50%</th>\n",
       "      <td>12.500000</td>\n",
       "      <td>0.053482</td>\n",
       "      <td>142.481200</td>\n",
       "      <td>1999.000000</td>\n",
       "      <td>NaN</td>\n",
       "    </tr>\n",
       "    <tr>\n",
       "      <th>75%</th>\n",
       "      <td>16.700000</td>\n",
       "      <td>0.095462</td>\n",
       "      <td>184.658200</td>\n",
       "      <td>2004.000000</td>\n",
       "      <td>NaN</td>\n",
       "    </tr>\n",
       "    <tr>\n",
       "      <th>max</th>\n",
       "      <td>21.350000</td>\n",
       "      <td>0.311090</td>\n",
       "      <td>266.888400</td>\n",
       "      <td>2009.000000</td>\n",
       "      <td>NaN</td>\n",
       "    </tr>\n",
       "  </tbody>\n",
       "</table>\n",
       "</div>"
      ],
      "text/plain": [
       "       Item_Weight  Item_Visibility     Item_MRP  Outlet_Establishment_Year  \\\n",
       "count  2878.000000      3523.000000  3523.000000                3523.000000   \n",
       "mean     12.709487         0.066786   140.493580                1997.734033   \n",
       "std       4.613606         0.052149    62.100594                   8.486081   \n",
       "min       4.555000         0.000000    31.490000                1985.000000   \n",
       "25%       8.630000         0.027577    93.496200                1987.000000   \n",
       "50%      12.500000         0.053482   142.481200                1999.000000   \n",
       "75%      16.700000         0.095462   184.658200                2004.000000   \n",
       "max      21.350000         0.311090   266.888400                2009.000000   \n",
       "\n",
       "       Item_Outlet_Sales  \n",
       "count                0.0  \n",
       "mean                 NaN  \n",
       "std                  NaN  \n",
       "min                  NaN  \n",
       "25%                  NaN  \n",
       "50%                  NaN  \n",
       "75%                  NaN  \n",
       "max                  NaN  "
      ]
     },
     "execution_count": 6,
     "metadata": {},
     "output_type": "execute_result"
    }
   ],
   "source": [
    "test.describe()"
   ]
  },
  {
   "cell_type": "markdown",
   "id": "0cea8bdc",
   "metadata": {},
   "source": [
    "Checking the data type"
   ]
  },
  {
   "cell_type": "code",
   "execution_count": 7,
   "id": "38ebbcac",
   "metadata": {},
   "outputs": [
    {
     "data": {
      "text/plain": [
       "Item_Identifier               object\n",
       "Item_Weight                  float64\n",
       "Item_Fat_Content              object\n",
       "Item_Visibility              float64\n",
       "Item_Type                     object\n",
       "Item_MRP                     float64\n",
       "Outlet_Identifier             object\n",
       "Outlet_Establishment_Year      int64\n",
       "Outlet_Size                   object\n",
       "Outlet_Location_Type          object\n",
       "Outlet_Type                   object\n",
       "Item_Outlet_Sales            float64\n",
       "dtype: object"
      ]
     },
     "execution_count": 7,
     "metadata": {},
     "output_type": "execute_result"
    }
   ],
   "source": [
    "train.dtypes"
   ]
  },
  {
   "cell_type": "code",
   "execution_count": 8,
   "id": "f84f977e",
   "metadata": {},
   "outputs": [
    {
     "data": {
      "text/plain": [
       "Item_Identifier               object\n",
       "Item_Weight                  float64\n",
       "Item_Fat_Content              object\n",
       "Item_Visibility              float64\n",
       "Item_Type                     object\n",
       "Item_MRP                     float64\n",
       "Outlet_Identifier             object\n",
       "Outlet_Establishment_Year      int64\n",
       "Outlet_Size                   object\n",
       "Outlet_Location_Type          object\n",
       "Outlet_Type                   object\n",
       "Item_Outlet_Sales            float64\n",
       "dtype: object"
      ]
     },
     "execution_count": 8,
     "metadata": {},
     "output_type": "execute_result"
    }
   ],
   "source": [
    "test.dtypes"
   ]
  },
  {
   "cell_type": "markdown",
   "id": "4722d977",
   "metadata": {},
   "source": [
    "Checking for null-values"
   ]
  },
  {
   "cell_type": "code",
   "execution_count": 9,
   "id": "7d8428c0",
   "metadata": {},
   "outputs": [
    {
     "data": {
      "text/plain": [
       "Item_Identifier                 0\n",
       "Item_Weight                   818\n",
       "Item_Fat_Content                0\n",
       "Item_Visibility                 0\n",
       "Item_Type                       0\n",
       "Item_MRP                        0\n",
       "Outlet_Identifier               0\n",
       "Outlet_Establishment_Year       0\n",
       "Outlet_Size                  1439\n",
       "Outlet_Location_Type            0\n",
       "Outlet_Type                     0\n",
       "Item_Outlet_Sales               0\n",
       "dtype: int64"
      ]
     },
     "execution_count": 9,
     "metadata": {},
     "output_type": "execute_result"
    }
   ],
   "source": [
    "train.isnull().sum()"
   ]
  },
  {
   "cell_type": "code",
   "execution_count": 10,
   "id": "f22f3ea1",
   "metadata": {},
   "outputs": [
    {
     "data": {
      "text/plain": [
       "Item_Identifier                 0\n",
       "Item_Weight                   645\n",
       "Item_Fat_Content                0\n",
       "Item_Visibility                 0\n",
       "Item_Type                       0\n",
       "Item_MRP                        0\n",
       "Outlet_Identifier               0\n",
       "Outlet_Establishment_Year       0\n",
       "Outlet_Size                   971\n",
       "Outlet_Location_Type            0\n",
       "Outlet_Type                     0\n",
       "Item_Outlet_Sales            3523\n",
       "dtype: int64"
      ]
     },
     "execution_count": 10,
     "metadata": {},
     "output_type": "execute_result"
    }
   ],
   "source": [
    "test.isnull().sum()"
   ]
  },
  {
   "cell_type": "code",
   "execution_count": 11,
   "id": "5c92ac84",
   "metadata": {},
   "outputs": [
    {
     "data": {
      "text/plain": [
       "5000"
      ]
     },
     "execution_count": 11,
     "metadata": {},
     "output_type": "execute_result"
    }
   ],
   "source": [
    "train.shape[0]"
   ]
  },
  {
   "cell_type": "markdown",
   "id": "b8e6a6c6",
   "metadata": {},
   "source": [
    "Listing categorical values."
   ]
  },
  {
   "cell_type": "code",
   "execution_count": 12,
   "id": "b64a5465",
   "metadata": {},
   "outputs": [
    {
     "data": {
      "text/plain": [
       "['Low Fat', 'Regular', 'low fat', 'LF', 'reg']"
      ]
     },
     "execution_count": 12,
     "metadata": {},
     "output_type": "execute_result"
    }
   ],
   "source": [
    "train['Item_Fat_Content'].unique().tolist()"
   ]
  },
  {
   "cell_type": "code",
   "execution_count": 13,
   "id": "2cb94970",
   "metadata": {},
   "outputs": [
    {
     "data": {
      "text/plain": [
       "['Low Fat', 'Regular', 'reg', 'LF', 'low fat']"
      ]
     },
     "execution_count": 13,
     "metadata": {},
     "output_type": "execute_result"
    }
   ],
   "source": [
    "test['Item_Fat_Content'].unique().tolist()"
   ]
  },
  {
   "cell_type": "code",
   "execution_count": 14,
   "id": "28e48081",
   "metadata": {},
   "outputs": [
    {
     "data": {
      "text/plain": [
       "['Dairy',\n",
       " 'Soft Drinks',\n",
       " 'Meat',\n",
       " 'Fruits and Vegetables',\n",
       " 'Household',\n",
       " 'Baking Goods',\n",
       " 'Snack Foods',\n",
       " 'Frozen Foods',\n",
       " 'Breakfast',\n",
       " 'Health and Hygiene',\n",
       " 'Hard Drinks',\n",
       " 'Canned',\n",
       " 'Breads',\n",
       " 'Starchy Foods',\n",
       " 'Others',\n",
       " 'Seafood']"
      ]
     },
     "execution_count": 14,
     "metadata": {},
     "output_type": "execute_result"
    }
   ],
   "source": [
    "train['Item_Type'].unique().tolist()"
   ]
  },
  {
   "cell_type": "code",
   "execution_count": 15,
   "id": "5526db86",
   "metadata": {},
   "outputs": [
    {
     "data": {
      "text/plain": [
       "['Household',\n",
       " 'Starchy Foods',\n",
       " 'Frozen Foods',\n",
       " 'Snack Foods',\n",
       " 'Baking Goods',\n",
       " 'Fruits and Vegetables',\n",
       " 'Canned',\n",
       " 'Soft Drinks',\n",
       " 'Health and Hygiene',\n",
       " 'Dairy',\n",
       " 'Meat',\n",
       " 'Seafood',\n",
       " 'Hard Drinks',\n",
       " 'Breads',\n",
       " 'Others',\n",
       " 'Breakfast']"
      ]
     },
     "execution_count": 15,
     "metadata": {},
     "output_type": "execute_result"
    }
   ],
   "source": [
    "test['Item_Type'].unique().tolist()"
   ]
  },
  {
   "cell_type": "code",
   "execution_count": 16,
   "id": "28b548d0",
   "metadata": {},
   "outputs": [
    {
     "data": {
      "text/plain": [
       "['Medium', nan, 'High', 'Small']"
      ]
     },
     "execution_count": 16,
     "metadata": {},
     "output_type": "execute_result"
    }
   ],
   "source": [
    "train['Outlet_Size'].unique().tolist()"
   ]
  },
  {
   "cell_type": "code",
   "execution_count": 17,
   "id": "d11a5e02",
   "metadata": {},
   "outputs": [
    {
     "data": {
      "text/plain": [
       "['Medium', 'Small', nan, 'High']"
      ]
     },
     "execution_count": 17,
     "metadata": {},
     "output_type": "execute_result"
    }
   ],
   "source": [
    "test['Outlet_Size'].unique().tolist()"
   ]
  },
  {
   "cell_type": "code",
   "execution_count": 18,
   "id": "3395882f",
   "metadata": {},
   "outputs": [
    {
     "data": {
      "text/plain": [
       "['Tier 1', 'Tier 3', 'Tier 2']"
      ]
     },
     "execution_count": 18,
     "metadata": {},
     "output_type": "execute_result"
    }
   ],
   "source": [
    "train['Outlet_Location_Type'].unique().tolist()"
   ]
  },
  {
   "cell_type": "code",
   "execution_count": 19,
   "id": "d44274c0",
   "metadata": {},
   "outputs": [
    {
     "data": {
      "text/plain": [
       "['Tier 1', 'Tier 3', 'Tier 2']"
      ]
     },
     "execution_count": 19,
     "metadata": {},
     "output_type": "execute_result"
    }
   ],
   "source": [
    "test['Outlet_Location_Type'].unique().tolist()"
   ]
  },
  {
   "cell_type": "code",
   "execution_count": 20,
   "id": "5f999ff5",
   "metadata": {},
   "outputs": [
    {
     "data": {
      "text/plain": [
       "['Supermarket Type1',\n",
       " 'Supermarket Type2',\n",
       " 'Grocery Store',\n",
       " 'Supermarket Type3']"
      ]
     },
     "execution_count": 20,
     "metadata": {},
     "output_type": "execute_result"
    }
   ],
   "source": [
    "train['Outlet_Type'].unique().tolist()"
   ]
  },
  {
   "cell_type": "code",
   "execution_count": 21,
   "id": "d8de8ff6",
   "metadata": {},
   "outputs": [
    {
     "data": {
      "text/plain": [
       "['Supermarket Type1',\n",
       " 'Supermarket Type3',\n",
       " 'Grocery Store',\n",
       " 'Supermarket Type2']"
      ]
     },
     "execution_count": 21,
     "metadata": {},
     "output_type": "execute_result"
    }
   ],
   "source": [
    "test['Outlet_Type'].unique().tolist()"
   ]
  },
  {
   "cell_type": "markdown",
   "id": "377d0796",
   "metadata": {},
   "source": [
    "# Pre-processing\n",
    "Reference source<br>\n",
    "https://towardsdatascience.com/preprocessing-with-sklearn-a-complete-and-comprehensive-guide-670cb98fcfb9\n",
    "## Null-values\n",
    "Replacing null values with the mean value for <b>Item_Weight</b> and the middle value <i>Medium</i> for <b>Outlet_Size</b>."
   ]
  },
  {
   "cell_type": "code",
   "execution_count": 22,
   "id": "05bf0424",
   "metadata": {},
   "outputs": [
    {
     "data": {
      "text/plain": [
       "0"
      ]
     },
     "execution_count": 22,
     "metadata": {},
     "output_type": "execute_result"
    }
   ],
   "source": [
    "train['Item_Weight'] = train['Item_Weight'].fillna(train['Item_Weight'].mean())\n",
    "train['Outlet_Size'] = train['Outlet_Size'].fillna('Medium')\n",
    "train.isnull().any().sum()"
   ]
  },
  {
   "cell_type": "code",
   "execution_count": 23,
   "id": "95be3d18",
   "metadata": {},
   "outputs": [
    {
     "data": {
      "text/plain": [
       "0"
      ]
     },
     "execution_count": 23,
     "metadata": {},
     "output_type": "execute_result"
    }
   ],
   "source": [
    "test['Item_Weight'] = train['Item_Weight'].fillna(test['Item_Weight'].mean())\n",
    "test['Outlet_Size'] = train['Outlet_Size'].fillna('Medium')\n",
    "test.drop(['Item_Outlet_Sales'], axis=1).isnull().any().sum()"
   ]
  },
  {
   "cell_type": "markdown",
   "id": "2af70d55",
   "metadata": {},
   "source": [
    "## Unique values\n",
    "Removing item identifier values."
   ]
  },
  {
   "cell_type": "code",
   "execution_count": 24,
   "id": "9e9eecbc",
   "metadata": {},
   "outputs": [],
   "source": [
    "train.drop(['Item_Identifier'], axis=1, inplace=True)\n",
    "test.drop(['Item_Identifier'], axis=1, inplace=True)"
   ]
  },
  {
   "cell_type": "markdown",
   "id": "b5b44d14",
   "metadata": {},
   "source": [
    "## Category features\n",
    "These must be <b>cleaned</b>, <b>screened</b> and <b>converted</b>.<br>\n",
    "How they are converted is based on the type they are, <b>ordinal</b> or <b>nominal</b>.<br>\n",
    "An ordinal feature has natural, ordered categories and the distance between each is not known.<br>"
   ]
  },
  {
   "cell_type": "markdown",
   "id": "ee199d1c",
   "metadata": {},
   "source": [
    "### Category cleaning\n",
    "Before converting, I'll merge category variants of the same type."
   ]
  },
  {
   "cell_type": "code",
   "execution_count": 25,
   "id": "6b43d63b",
   "metadata": {},
   "outputs": [
    {
     "name": "stdout",
     "output_type": "stream",
     "text": [
      "['Low Fat', 'Regular', 'low fat', 'LF', 'reg']\n",
      "['Low Fat', 'Regular']\n"
     ]
    }
   ],
   "source": [
    "print(train['Item_Fat_Content'].unique().tolist())\n",
    "train['Item_Fat_Content'] = train['Item_Fat_Content'].replace('low fat', 'Low Fat')\n",
    "train['Item_Fat_Content'] = train['Item_Fat_Content'].replace('LF', 'Low Fat')\n",
    "train['Item_Fat_Content'] = train['Item_Fat_Content'].replace('reg', 'Regular')\n",
    "print(train['Item_Fat_Content'].unique().tolist())"
   ]
  },
  {
   "cell_type": "code",
   "execution_count": 26,
   "id": "2bbcf69d",
   "metadata": {},
   "outputs": [
    {
     "name": "stdout",
     "output_type": "stream",
     "text": [
      "['Low Fat', 'Regular', 'reg', 'LF', 'low fat']\n",
      "['Low Fat', 'Regular']\n"
     ]
    }
   ],
   "source": [
    "print(test['Item_Fat_Content'].unique().tolist())\n",
    "test['Item_Fat_Content'] = test['Item_Fat_Content'].replace('low fat', 'Low Fat')\n",
    "test['Item_Fat_Content'] = test['Item_Fat_Content'].replace('LF', 'Low Fat')\n",
    "test['Item_Fat_Content'] = test['Item_Fat_Content'].replace('reg', 'Regular')\n",
    "print(test['Item_Fat_Content'].unique().tolist())"
   ]
  },
  {
   "cell_type": "markdown",
   "id": "62d20954",
   "metadata": {},
   "source": [
    "### Category screening\n",
    "Get a list of unique category types and list the number of values for each one.<br>\n",
    "If a category has too few values, it might make it harder to predict accurate prices."
   ]
  },
  {
   "cell_type": "code",
   "execution_count": 27,
   "id": "f553d51a",
   "metadata": {},
   "outputs": [
    {
     "name": "stdout",
     "output_type": "stream",
     "text": [
      "['Low Fat', 'Regular']\n",
      "[3253, 1747]\n"
     ]
    }
   ],
   "source": [
    "categories = train[\"Item_Fat_Content\"].value_counts().keys().tolist()\n",
    "counts = train[\"Item_Fat_Content\"].value_counts().tolist()\n",
    "print(categories)\n",
    "print(counts)"
   ]
  },
  {
   "cell_type": "code",
   "execution_count": 28,
   "id": "8e0ed5e0",
   "metadata": {},
   "outputs": [
    {
     "name": "stdout",
     "output_type": "stream",
     "text": [
      "['Low Fat', 'Regular']\n",
      "[2264, 1259]\n"
     ]
    }
   ],
   "source": [
    "categories = test[\"Item_Fat_Content\"].value_counts().keys().tolist()\n",
    "counts = test[\"Item_Fat_Content\"].value_counts().tolist()\n",
    "print(categories)\n",
    "print(counts)"
   ]
  },
  {
   "cell_type": "code",
   "execution_count": 29,
   "id": "9cf922e5",
   "metadata": {},
   "outputs": [
    {
     "name": "stdout",
     "output_type": "stream",
     "text": [
      "['Fruits and Vegetables', 'Snack Foods', 'Household', 'Frozen Foods', 'Dairy', 'Canned', 'Baking Goods', 'Health and Hygiene', 'Soft Drinks', 'Meat', 'Breads', 'Hard Drinks', 'Others', 'Starchy Foods', 'Breakfast', 'Seafood']\n",
      "[733, 702, 532, 515, 401, 389, 370, 274, 265, 251, 153, 128, 96, 86, 66, 39]\n"
     ]
    }
   ],
   "source": [
    "categories = train['Item_Type'].value_counts().keys().tolist()\n",
    "counts = train['Item_Type'].value_counts().tolist()\n",
    "print(categories)\n",
    "print(counts)"
   ]
  },
  {
   "cell_type": "markdown",
   "id": "79b178b3",
   "metadata": {},
   "source": [
    "The results from Item_Types in the train dataset shows that this column contains the categories with few values.<br>\n",
    "Consider removal of some of the categories to see if it makes a noticable difference in predictions."
   ]
  },
  {
   "cell_type": "code",
   "execution_count": 30,
   "id": "7e6a1e49",
   "metadata": {},
   "outputs": [
    {
     "name": "stdout",
     "output_type": "stream",
     "text": [
      "['Fruits and Vegetables', 'Snack Foods', 'Household', 'Frozen Foods', 'Dairy', 'Baking Goods', 'Canned', 'Health and Hygiene', 'Soft Drinks', 'Meat', 'Breads', 'Hard Drinks', 'Others', 'Starchy Foods', 'Breakfast', 'Seafood']\n",
      "[499, 498, 378, 341, 281, 278, 260, 246, 180, 174, 98, 86, 73, 62, 44, 25]\n"
     ]
    }
   ],
   "source": [
    "categories = test['Item_Type'].value_counts().keys().tolist()\n",
    "counts = test['Item_Type'].value_counts().tolist()\n",
    "print(categories)\n",
    "print(counts)"
   ]
  },
  {
   "cell_type": "code",
   "execution_count": 31,
   "id": "808a26da",
   "metadata": {},
   "outputs": [
    {
     "name": "stdout",
     "output_type": "stream",
     "text": [
      "[1985, 2002, 1997, 2004, 1987, 2007, 1999, 2009, 1998]\n",
      "[818, 569, 559, 559, 558, 542, 541, 526, 328]\n"
     ]
    }
   ],
   "source": [
    "categories = train['Outlet_Establishment_Year'].value_counts().keys().tolist()\n",
    "counts = train['Outlet_Establishment_Year'].value_counts().tolist()\n",
    "print(categories)\n",
    "print(counts)"
   ]
  },
  {
   "cell_type": "code",
   "execution_count": 32,
   "id": "4b332853",
   "metadata": {},
   "outputs": [
    {
     "name": "stdout",
     "output_type": "stream",
     "text": [
      "[1985, 2009, 1999, 2007, 1987, 1997, 2004, 2002, 1998]\n",
      "[645, 402, 389, 384, 374, 371, 371, 360, 227]\n"
     ]
    }
   ],
   "source": [
    "categories = test['Outlet_Establishment_Year'].value_counts().keys().tolist()\n",
    "counts = test['Outlet_Establishment_Year'].value_counts().tolist()\n",
    "print(categories)\n",
    "print(counts)"
   ]
  },
  {
   "cell_type": "code",
   "execution_count": 33,
   "id": "8abe56d4",
   "metadata": {},
   "outputs": [
    {
     "name": "stdout",
     "output_type": "stream",
     "text": [
      "['Medium', 'Small', 'High']\n",
      "[3044, 1398, 558]\n"
     ]
    }
   ],
   "source": [
    "categories = train['Outlet_Size'].value_counts().keys().tolist()\n",
    "counts = train['Outlet_Size'].value_counts().tolist()\n",
    "print(categories)\n",
    "print(counts)"
   ]
  },
  {
   "cell_type": "code",
   "execution_count": 34,
   "id": "8333904b",
   "metadata": {},
   "outputs": [
    {
     "name": "stdout",
     "output_type": "stream",
     "text": [
      "['Medium', 'Small', 'High']\n",
      "[2125, 1009, 389]\n"
     ]
    }
   ],
   "source": [
    "categories = test['Outlet_Size'].value_counts().keys().tolist()\n",
    "counts = test['Outlet_Size'].value_counts().tolist()\n",
    "print(categories)\n",
    "print(counts)"
   ]
  },
  {
   "cell_type": "code",
   "execution_count": 35,
   "id": "23a4b8ec",
   "metadata": {},
   "outputs": [
    {
     "name": "stdout",
     "output_type": "stream",
     "text": [
      "['Tier 3', 'Tier 2', 'Tier 1']\n",
      "[1950, 1670, 1380]\n"
     ]
    }
   ],
   "source": [
    "categories = train['Outlet_Location_Type'].value_counts().keys().tolist()\n",
    "counts = train['Outlet_Location_Type'].value_counts().tolist()\n",
    "print(categories)\n",
    "print(counts)"
   ]
  },
  {
   "cell_type": "code",
   "execution_count": 36,
   "id": "1323d04d",
   "metadata": {},
   "outputs": [
    {
     "name": "stdout",
     "output_type": "stream",
     "text": [
      "['Tier 3', 'Tier 2', 'Tier 1']\n",
      "[1400, 1115, 1008]\n"
     ]
    }
   ],
   "source": [
    "categories = test['Outlet_Location_Type'].value_counts().keys().tolist()\n",
    "counts = test['Outlet_Location_Type'].value_counts().tolist()\n",
    "print(categories)\n",
    "print(counts)"
   ]
  },
  {
   "cell_type": "code",
   "execution_count": 37,
   "id": "0e167e4b",
   "metadata": {},
   "outputs": [
    {
     "name": "stdout",
     "output_type": "stream",
     "text": [
      "['Supermarket Type1', 'Grocery Store', 'Supermarket Type3', 'Supermarket Type2']\n",
      "[3328, 608, 538, 526]\n"
     ]
    }
   ],
   "source": [
    "categories = train['Outlet_Type'].value_counts().keys().tolist()\n",
    "counts = train['Outlet_Type'].value_counts().tolist()\n",
    "print(categories)\n",
    "print(counts)"
   ]
  },
  {
   "cell_type": "code",
   "execution_count": 38,
   "id": "9a9fddaf",
   "metadata": {},
   "outputs": [
    {
     "name": "stdout",
     "output_type": "stream",
     "text": [
      "['Supermarket Type1', 'Grocery Store', 'Supermarket Type2', 'Supermarket Type3']\n",
      "[2249, 475, 402, 397]\n"
     ]
    }
   ],
   "source": [
    "categories = test['Outlet_Type'].value_counts().keys().tolist()\n",
    "counts = test['Outlet_Type'].value_counts().tolist()\n",
    "print(categories)\n",
    "print(counts)"
   ]
  },
  {
   "cell_type": "markdown",
   "id": "4a32f6f5",
   "metadata": {},
   "source": [
    "### Ordinal conversion\n",
    "Convertion of ordinal category types."
   ]
  },
  {
   "cell_type": "code",
   "execution_count": 39,
   "id": "5611a242",
   "metadata": {},
   "outputs": [
    {
     "name": "stdout",
     "output_type": "stream",
     "text": [
      "['Low Fat', 'Regular']\n",
      "[0, 1]\n"
     ]
    }
   ],
   "source": [
    "print(train['Item_Fat_Content'].unique().tolist())\n",
    "train['Item_Fat_Content'] = pd.factorize(train['Item_Fat_Content'])[0]\n",
    "print(train['Item_Fat_Content'].unique().tolist())"
   ]
  },
  {
   "cell_type": "code",
   "execution_count": 40,
   "id": "febc6bff",
   "metadata": {},
   "outputs": [
    {
     "name": "stdout",
     "output_type": "stream",
     "text": [
      "['Low Fat', 'Regular']\n",
      "[0, 1]\n"
     ]
    }
   ],
   "source": [
    "print(test['Item_Fat_Content'].unique().tolist())\n",
    "test['Item_Fat_Content'] = pd.factorize(test['Item_Fat_Content'])[0]\n",
    "print(test['Item_Fat_Content'].unique().tolist())"
   ]
  },
  {
   "cell_type": "code",
   "execution_count": 41,
   "id": "08f6299c",
   "metadata": {},
   "outputs": [
    {
     "name": "stdout",
     "output_type": "stream",
     "text": [
      "['Small', 'Medium', 'High']\n",
      "[0, 1, 2]\n"
     ]
    }
   ],
   "source": [
    "train = train.sort_values('Outlet_Size', ascending=False) # Sorting to get the right order\n",
    "print(train['Outlet_Size'].unique().tolist())\n",
    "train['Outlet_Size'] = pd.factorize(train['Outlet_Size'])[0]\n",
    "print(train['Outlet_Size'].unique().tolist())"
   ]
  },
  {
   "cell_type": "code",
   "execution_count": 42,
   "id": "d0d68f05",
   "metadata": {},
   "outputs": [
    {
     "name": "stdout",
     "output_type": "stream",
     "text": [
      "['Small', 'Medium', 'High']\n",
      "[0, 1, 2]\n"
     ]
    }
   ],
   "source": [
    "test = test.sort_values('Outlet_Size', ascending=False)\n",
    "print(test['Outlet_Size'].unique().tolist())\n",
    "test['Outlet_Size'] = pd.factorize(test['Outlet_Size'])[0]\n",
    "print(test['Outlet_Size'].unique().tolist())"
   ]
  },
  {
   "cell_type": "code",
   "execution_count": 43,
   "id": "e0b0c7cf",
   "metadata": {},
   "outputs": [
    {
     "name": "stdout",
     "output_type": "stream",
     "text": [
      "['Tier 1', 'Tier 2', 'Tier 3']\n",
      "[0, 1, 2]\n"
     ]
    }
   ],
   "source": [
    "train = train.sort_values('Outlet_Location_Type', ascending=True)\n",
    "print(train['Outlet_Location_Type'].unique().tolist())\n",
    "train['Outlet_Location_Type'] = pd.factorize(train['Outlet_Location_Type'])[0]\n",
    "print(train['Outlet_Location_Type'].unique().tolist())"
   ]
  },
  {
   "cell_type": "code",
   "execution_count": 44,
   "id": "23e6b575",
   "metadata": {},
   "outputs": [
    {
     "name": "stdout",
     "output_type": "stream",
     "text": [
      "['Tier 1', 'Tier 2', 'Tier 3']\n",
      "[0, 1, 2]\n"
     ]
    }
   ],
   "source": [
    "test = test.sort_values('Outlet_Location_Type', ascending=True)\n",
    "print(test['Outlet_Location_Type'].unique().tolist())\n",
    "test['Outlet_Location_Type'] = pd.factorize(test['Outlet_Location_Type'])[0]\n",
    "print(test['Outlet_Location_Type'].unique().tolist())"
   ]
  },
  {
   "cell_type": "code",
   "execution_count": 45,
   "id": "8a6a25c1",
   "metadata": {},
   "outputs": [
    {
     "name": "stdout",
     "output_type": "stream",
     "text": [
      "['Grocery Store', 'Supermarket Type1', 'Supermarket Type2', 'Supermarket Type3']\n",
      "[0, 1, 2, 3]\n"
     ]
    }
   ],
   "source": [
    "train = train.sort_values('Outlet_Type', ascending=True)\n",
    "print(train['Outlet_Type'].unique().tolist())\n",
    "train['Outlet_Type'] = pd.factorize(train['Outlet_Type'])[0]\n",
    "print(train['Outlet_Type'].unique().tolist())"
   ]
  },
  {
   "cell_type": "code",
   "execution_count": 46,
   "id": "029252be",
   "metadata": {},
   "outputs": [
    {
     "name": "stdout",
     "output_type": "stream",
     "text": [
      "['Grocery Store', 'Supermarket Type1', 'Supermarket Type2', 'Supermarket Type3']\n",
      "[0, 1, 2, 3]\n"
     ]
    }
   ],
   "source": [
    "test = test.sort_values('Outlet_Type', ascending=True)\n",
    "print(test['Outlet_Type'].unique().tolist())\n",
    "test['Outlet_Type'] = pd.factorize(test['Outlet_Type'])[0]\n",
    "print(test['Outlet_Type'].unique().tolist())"
   ]
  },
  {
   "cell_type": "code",
   "execution_count": 47,
   "id": "748652e7",
   "metadata": {},
   "outputs": [
    {
     "name": "stdout",
     "output_type": "stream",
     "text": [
      "0\n"
     ]
    }
   ],
   "source": [
    "train = train.sort_index()\n",
    "test = test.sort_index()\n",
    "train.head()\n",
    "print(train['Item_Visibility'].isnull().sum())"
   ]
  },
  {
   "cell_type": "markdown",
   "id": "661eb431",
   "metadata": {},
   "source": [
    "### Nominal conversion\n",
    "Because both datasets contain the same nominal categories, we can process them at the same time.\n",
    "\n",
    "OneHotEncoder reference<br>\n",
    "https://towardsdatascience.com/preprocessing-with-sklearn-a-complete-and-comprehensive-guide-670cb98fcfb9"
   ]
  },
  {
   "cell_type": "code",
   "execution_count": 48,
   "id": "5710462f",
   "metadata": {},
   "outputs": [
    {
     "data": {
      "text/html": [
       "<div>\n",
       "<style scoped>\n",
       "    .dataframe tbody tr th:only-of-type {\n",
       "        vertical-align: middle;\n",
       "    }\n",
       "\n",
       "    .dataframe tbody tr th {\n",
       "        vertical-align: top;\n",
       "    }\n",
       "\n",
       "    .dataframe thead th {\n",
       "        text-align: right;\n",
       "    }\n",
       "</style>\n",
       "<table border=\"1\" class=\"dataframe\">\n",
       "  <thead>\n",
       "    <tr style=\"text-align: right;\">\n",
       "      <th></th>\n",
       "      <th>Baking Goods</th>\n",
       "      <th>Breads</th>\n",
       "      <th>Breakfast</th>\n",
       "      <th>Canned</th>\n",
       "      <th>Dairy</th>\n",
       "      <th>Frozen Foods</th>\n",
       "      <th>Fruits and Vegetables</th>\n",
       "      <th>Hard Drinks</th>\n",
       "      <th>Health and Hygiene</th>\n",
       "      <th>Household</th>\n",
       "      <th>...</th>\n",
       "      <th>OUT010</th>\n",
       "      <th>OUT013</th>\n",
       "      <th>OUT017</th>\n",
       "      <th>OUT018</th>\n",
       "      <th>OUT019</th>\n",
       "      <th>OUT027</th>\n",
       "      <th>OUT035</th>\n",
       "      <th>OUT045</th>\n",
       "      <th>OUT046</th>\n",
       "      <th>OUT049</th>\n",
       "    </tr>\n",
       "  </thead>\n",
       "  <tbody>\n",
       "    <tr>\n",
       "      <th>0</th>\n",
       "      <td>0</td>\n",
       "      <td>0</td>\n",
       "      <td>0</td>\n",
       "      <td>0</td>\n",
       "      <td>1</td>\n",
       "      <td>0</td>\n",
       "      <td>0</td>\n",
       "      <td>0</td>\n",
       "      <td>0</td>\n",
       "      <td>0</td>\n",
       "      <td>...</td>\n",
       "      <td>0</td>\n",
       "      <td>0</td>\n",
       "      <td>0</td>\n",
       "      <td>0</td>\n",
       "      <td>0</td>\n",
       "      <td>0</td>\n",
       "      <td>0</td>\n",
       "      <td>0</td>\n",
       "      <td>0</td>\n",
       "      <td>1</td>\n",
       "    </tr>\n",
       "    <tr>\n",
       "      <th>1</th>\n",
       "      <td>0</td>\n",
       "      <td>0</td>\n",
       "      <td>0</td>\n",
       "      <td>0</td>\n",
       "      <td>0</td>\n",
       "      <td>0</td>\n",
       "      <td>0</td>\n",
       "      <td>0</td>\n",
       "      <td>0</td>\n",
       "      <td>0</td>\n",
       "      <td>...</td>\n",
       "      <td>0</td>\n",
       "      <td>0</td>\n",
       "      <td>0</td>\n",
       "      <td>1</td>\n",
       "      <td>0</td>\n",
       "      <td>0</td>\n",
       "      <td>0</td>\n",
       "      <td>0</td>\n",
       "      <td>0</td>\n",
       "      <td>0</td>\n",
       "    </tr>\n",
       "    <tr>\n",
       "      <th>2</th>\n",
       "      <td>0</td>\n",
       "      <td>0</td>\n",
       "      <td>0</td>\n",
       "      <td>0</td>\n",
       "      <td>0</td>\n",
       "      <td>0</td>\n",
       "      <td>0</td>\n",
       "      <td>0</td>\n",
       "      <td>0</td>\n",
       "      <td>0</td>\n",
       "      <td>...</td>\n",
       "      <td>0</td>\n",
       "      <td>0</td>\n",
       "      <td>0</td>\n",
       "      <td>0</td>\n",
       "      <td>0</td>\n",
       "      <td>0</td>\n",
       "      <td>0</td>\n",
       "      <td>0</td>\n",
       "      <td>0</td>\n",
       "      <td>1</td>\n",
       "    </tr>\n",
       "    <tr>\n",
       "      <th>3</th>\n",
       "      <td>0</td>\n",
       "      <td>0</td>\n",
       "      <td>0</td>\n",
       "      <td>0</td>\n",
       "      <td>0</td>\n",
       "      <td>0</td>\n",
       "      <td>1</td>\n",
       "      <td>0</td>\n",
       "      <td>0</td>\n",
       "      <td>0</td>\n",
       "      <td>...</td>\n",
       "      <td>1</td>\n",
       "      <td>0</td>\n",
       "      <td>0</td>\n",
       "      <td>0</td>\n",
       "      <td>0</td>\n",
       "      <td>0</td>\n",
       "      <td>0</td>\n",
       "      <td>0</td>\n",
       "      <td>0</td>\n",
       "      <td>0</td>\n",
       "    </tr>\n",
       "    <tr>\n",
       "      <th>4</th>\n",
       "      <td>0</td>\n",
       "      <td>0</td>\n",
       "      <td>0</td>\n",
       "      <td>0</td>\n",
       "      <td>0</td>\n",
       "      <td>0</td>\n",
       "      <td>0</td>\n",
       "      <td>0</td>\n",
       "      <td>0</td>\n",
       "      <td>1</td>\n",
       "      <td>...</td>\n",
       "      <td>0</td>\n",
       "      <td>1</td>\n",
       "      <td>0</td>\n",
       "      <td>0</td>\n",
       "      <td>0</td>\n",
       "      <td>0</td>\n",
       "      <td>0</td>\n",
       "      <td>0</td>\n",
       "      <td>0</td>\n",
       "      <td>0</td>\n",
       "    </tr>\n",
       "  </tbody>\n",
       "</table>\n",
       "<p>5 rows × 35 columns</p>\n",
       "</div>"
      ],
      "text/plain": [
       "   Baking Goods  Breads  Breakfast  Canned  Dairy  Frozen Foods  \\\n",
       "0             0       0          0       0      1             0   \n",
       "1             0       0          0       0      0             0   \n",
       "2             0       0          0       0      0             0   \n",
       "3             0       0          0       0      0             0   \n",
       "4             0       0          0       0      0             0   \n",
       "\n",
       "   Fruits and Vegetables  Hard Drinks  Health and Hygiene  Household  ...  \\\n",
       "0                      0            0                   0          0  ...   \n",
       "1                      0            0                   0          0  ...   \n",
       "2                      0            0                   0          0  ...   \n",
       "3                      1            0                   0          0  ...   \n",
       "4                      0            0                   0          1  ...   \n",
       "\n",
       "   OUT010  OUT013  OUT017  OUT018  OUT019  OUT027  OUT035  OUT045  OUT046  \\\n",
       "0       0       0       0       0       0       0       0       0       0   \n",
       "1       0       0       0       1       0       0       0       0       0   \n",
       "2       0       0       0       0       0       0       0       0       0   \n",
       "3       1       0       0       0       0       0       0       0       0   \n",
       "4       0       1       0       0       0       0       0       0       0   \n",
       "\n",
       "   OUT049  \n",
       "0       1  \n",
       "1       0  \n",
       "2       1  \n",
       "3       0  \n",
       "4       0  \n",
       "\n",
       "[5 rows x 35 columns]"
      ]
     },
     "execution_count": 48,
     "metadata": {},
     "output_type": "execute_result"
    }
   ],
   "source": [
    "onehot = OneHotEncoder(dtype=np.int64, sparse=True)\n",
    "\n",
    "cols = ['Item_Type', 'Outlet_Establishment_Year', 'Outlet_Identifier']\n",
    "\n",
    "# Both datasets share the same categories, so we can use the same lists\n",
    "item_types = train['Item_Type'].value_counts().keys().sort_values(ascending=True).tolist()\n",
    "year_numbers = train['Outlet_Establishment_Year'].value_counts().keys().sort_values(ascending=True).tolist()\n",
    "outlet_ids = train['Outlet_Identifier'].value_counts().keys().sort_values(ascending=True).tolist()\n",
    "\n",
    "train_nominals = pd.DataFrame(onehot.fit_transform(train[cols]).toarray(),\n",
    "                              columns=item_types + year_numbers + outlet_ids)\n",
    "test_nominals = pd.DataFrame(onehot.fit_transform(test[cols]).toarray(),\n",
    "                              columns=item_types + year_numbers + outlet_ids)\n",
    "\n",
    "train_nominals.head()"
   ]
  },
  {
   "cell_type": "code",
   "execution_count": 49,
   "id": "36dee32f",
   "metadata": {},
   "outputs": [
    {
     "data": {
      "text/html": [
       "<div>\n",
       "<style scoped>\n",
       "    .dataframe tbody tr th:only-of-type {\n",
       "        vertical-align: middle;\n",
       "    }\n",
       "\n",
       "    .dataframe tbody tr th {\n",
       "        vertical-align: top;\n",
       "    }\n",
       "\n",
       "    .dataframe thead th {\n",
       "        text-align: right;\n",
       "    }\n",
       "</style>\n",
       "<table border=\"1\" class=\"dataframe\">\n",
       "  <thead>\n",
       "    <tr style=\"text-align: right;\">\n",
       "      <th></th>\n",
       "      <th>Item_Weight</th>\n",
       "      <th>Item_Fat_Content</th>\n",
       "      <th>Item_Visibility</th>\n",
       "      <th>Item_MRP</th>\n",
       "      <th>Outlet_Size</th>\n",
       "      <th>Outlet_Location_Type</th>\n",
       "      <th>Outlet_Type</th>\n",
       "      <th>Item_Outlet_Sales</th>\n",
       "      <th>Baking Goods</th>\n",
       "      <th>Breads</th>\n",
       "      <th>...</th>\n",
       "      <th>OUT010</th>\n",
       "      <th>OUT013</th>\n",
       "      <th>OUT017</th>\n",
       "      <th>OUT018</th>\n",
       "      <th>OUT019</th>\n",
       "      <th>OUT027</th>\n",
       "      <th>OUT035</th>\n",
       "      <th>OUT045</th>\n",
       "      <th>OUT046</th>\n",
       "      <th>OUT049</th>\n",
       "    </tr>\n",
       "  </thead>\n",
       "  <tbody>\n",
       "    <tr>\n",
       "      <th>0</th>\n",
       "      <td>9.30</td>\n",
       "      <td>0</td>\n",
       "      <td>0.016047</td>\n",
       "      <td>249.8092</td>\n",
       "      <td>1</td>\n",
       "      <td>0</td>\n",
       "      <td>1</td>\n",
       "      <td>3735.1380</td>\n",
       "      <td>0</td>\n",
       "      <td>0</td>\n",
       "      <td>...</td>\n",
       "      <td>0</td>\n",
       "      <td>0</td>\n",
       "      <td>0</td>\n",
       "      <td>0</td>\n",
       "      <td>0</td>\n",
       "      <td>0</td>\n",
       "      <td>0</td>\n",
       "      <td>0</td>\n",
       "      <td>0</td>\n",
       "      <td>1</td>\n",
       "    </tr>\n",
       "    <tr>\n",
       "      <th>1</th>\n",
       "      <td>5.92</td>\n",
       "      <td>1</td>\n",
       "      <td>0.019278</td>\n",
       "      <td>48.2692</td>\n",
       "      <td>1</td>\n",
       "      <td>2</td>\n",
       "      <td>2</td>\n",
       "      <td>443.4228</td>\n",
       "      <td>0</td>\n",
       "      <td>0</td>\n",
       "      <td>...</td>\n",
       "      <td>0</td>\n",
       "      <td>0</td>\n",
       "      <td>0</td>\n",
       "      <td>1</td>\n",
       "      <td>0</td>\n",
       "      <td>0</td>\n",
       "      <td>0</td>\n",
       "      <td>0</td>\n",
       "      <td>0</td>\n",
       "      <td>0</td>\n",
       "    </tr>\n",
       "    <tr>\n",
       "      <th>2</th>\n",
       "      <td>17.50</td>\n",
       "      <td>0</td>\n",
       "      <td>0.016760</td>\n",
       "      <td>141.6180</td>\n",
       "      <td>1</td>\n",
       "      <td>0</td>\n",
       "      <td>1</td>\n",
       "      <td>2097.2700</td>\n",
       "      <td>0</td>\n",
       "      <td>0</td>\n",
       "      <td>...</td>\n",
       "      <td>0</td>\n",
       "      <td>0</td>\n",
       "      <td>0</td>\n",
       "      <td>0</td>\n",
       "      <td>0</td>\n",
       "      <td>0</td>\n",
       "      <td>0</td>\n",
       "      <td>0</td>\n",
       "      <td>0</td>\n",
       "      <td>1</td>\n",
       "    </tr>\n",
       "    <tr>\n",
       "      <th>3</th>\n",
       "      <td>19.20</td>\n",
       "      <td>1</td>\n",
       "      <td>0.000000</td>\n",
       "      <td>182.0950</td>\n",
       "      <td>1</td>\n",
       "      <td>2</td>\n",
       "      <td>0</td>\n",
       "      <td>732.3800</td>\n",
       "      <td>0</td>\n",
       "      <td>0</td>\n",
       "      <td>...</td>\n",
       "      <td>1</td>\n",
       "      <td>0</td>\n",
       "      <td>0</td>\n",
       "      <td>0</td>\n",
       "      <td>0</td>\n",
       "      <td>0</td>\n",
       "      <td>0</td>\n",
       "      <td>0</td>\n",
       "      <td>0</td>\n",
       "      <td>0</td>\n",
       "    </tr>\n",
       "    <tr>\n",
       "      <th>4</th>\n",
       "      <td>8.93</td>\n",
       "      <td>0</td>\n",
       "      <td>0.000000</td>\n",
       "      <td>53.8614</td>\n",
       "      <td>2</td>\n",
       "      <td>2</td>\n",
       "      <td>1</td>\n",
       "      <td>994.7052</td>\n",
       "      <td>0</td>\n",
       "      <td>0</td>\n",
       "      <td>...</td>\n",
       "      <td>0</td>\n",
       "      <td>1</td>\n",
       "      <td>0</td>\n",
       "      <td>0</td>\n",
       "      <td>0</td>\n",
       "      <td>0</td>\n",
       "      <td>0</td>\n",
       "      <td>0</td>\n",
       "      <td>0</td>\n",
       "      <td>0</td>\n",
       "    </tr>\n",
       "  </tbody>\n",
       "</table>\n",
       "<p>5 rows × 43 columns</p>\n",
       "</div>"
      ],
      "text/plain": [
       "   Item_Weight  Item_Fat_Content  Item_Visibility  Item_MRP  Outlet_Size  \\\n",
       "0         9.30                 0         0.016047  249.8092            1   \n",
       "1         5.92                 1         0.019278   48.2692            1   \n",
       "2        17.50                 0         0.016760  141.6180            1   \n",
       "3        19.20                 1         0.000000  182.0950            1   \n",
       "4         8.93                 0         0.000000   53.8614            2   \n",
       "\n",
       "   Outlet_Location_Type  Outlet_Type  Item_Outlet_Sales  Baking Goods  Breads  \\\n",
       "0                     0            1          3735.1380             0       0   \n",
       "1                     2            2           443.4228             0       0   \n",
       "2                     0            1          2097.2700             0       0   \n",
       "3                     2            0           732.3800             0       0   \n",
       "4                     2            1           994.7052             0       0   \n",
       "\n",
       "   ...  OUT010  OUT013  OUT017  OUT018  OUT019  OUT027  OUT035  OUT045  \\\n",
       "0  ...       0       0       0       0       0       0       0       0   \n",
       "1  ...       0       0       0       1       0       0       0       0   \n",
       "2  ...       0       0       0       0       0       0       0       0   \n",
       "3  ...       1       0       0       0       0       0       0       0   \n",
       "4  ...       0       1       0       0       0       0       0       0   \n",
       "\n",
       "   OUT046  OUT049  \n",
       "0       0       1  \n",
       "1       0       0  \n",
       "2       0       1  \n",
       "3       0       0  \n",
       "4       0       0  \n",
       "\n",
       "[5 rows x 43 columns]"
      ]
     },
     "execution_count": 49,
     "metadata": {},
     "output_type": "execute_result"
    }
   ],
   "source": [
    "# Join the nominal types with the existing dataset.\n",
    "train = pd.concat([train, train_nominals], axis=1)\n",
    "test = pd.concat([test, test_nominals], axis=1)\n",
    "\n",
    "# Remove the columns that have been converted\n",
    "train.drop(cols, axis=1, inplace=True)\n",
    "test.drop(cols, axis=1, inplace=True)\n",
    "\n",
    "train.head()"
   ]
  },
  {
   "cell_type": "markdown",
   "id": "86755408",
   "metadata": {},
   "source": [
    "## Normalization\n",
    "Apply individual scaling to features in the range 0 to 1."
   ]
  },
  {
   "cell_type": "code",
   "execution_count": 50,
   "id": "95a1cd5c",
   "metadata": {},
   "outputs": [],
   "source": [
    "def normalizeMinMax(data):\n",
    "    \n",
    "    # fit scaler on training data\n",
    "    scale = MinMaxScaler().fit(data)\n",
    "\n",
    "    # transform data\n",
    "    data_scale = pd.DataFrame(scale.transform(data), columns=data.columns)\n",
    "    \n",
    "    return data_scale, scale"
   ]
  },
  {
   "cell_type": "code",
   "execution_count": 51,
   "id": "8ff8baef",
   "metadata": {},
   "outputs": [],
   "source": [
    "# colums that should be scaled\n",
    "norm_cols = ['Item_Weight', 'Item_Visibility', 'Item_MRP', 'Outlet_Size', 'Outlet_Location_Type', 'Outlet_Type']\n",
    "\n",
    "# separate non-scalable and scalable features\n",
    "train_non_norm_df = train.drop(norm_cols, axis=1)\n",
    "train_norm_df, train_scale = normalizeMinMax(train[norm_cols]) # apply scaling\n",
    "\n",
    "test_non_norm_df = test.drop(norm_cols, axis=1)\n",
    "test_norm_df, test_scale = normalizeMinMax(test[norm_cols])\n",
    "\n",
    "# join the two dataframes together again\n",
    "train_norm = pd.concat([train_non_norm_df, train_norm_df], axis=1)\n",
    "test_norm = pd.concat([test_non_norm_df, test_norm_df], axis=1)\n",
    "\n",
    "# exclude Item_Outlet_Sales from the input data\n",
    "train_X_norm = train_norm.drop('Item_Outlet_Sales', axis=1)\n",
    "test_X_norm = test_norm.drop('Item_Outlet_Sales', axis=1)\n",
    "\n",
    "# isolate Item_Outlet_Sales as target variable\n",
    "train_y_norm = train['Item_Outlet_Sales']\n",
    "test_y_norm = train['Item_Outlet_Sales']"
   ]
  },
  {
   "cell_type": "code",
   "execution_count": 52,
   "id": "437a0a16",
   "metadata": {},
   "outputs": [
    {
     "data": {
      "image/png": "[encoded data removed]",
      "text/plain": [
       "<Figure size 432x288 with 1 Axes>"
      ]
     },
     "metadata": {
      "needs_background": "light"
     },
     "output_type": "display_data"
    }
   ],
   "source": [
    "# display a plot for the input data distribution\n",
    "sns.kdeplot(data=test_X_norm, legend=False)\n",
    "plt.show()"
   ]
  },
  {
   "cell_type": "markdown",
   "id": "6d2d3e25",
   "metadata": {},
   "source": [
    "# Architecture\n",
    "My deep learning model is a Multilayer Perceptron (MLP).<br>\n",
    "It uses the Sequential class with 2 hidden layers and the <i>RMSprop</i> algorithm as optimizer.<br>\n",
    "\n",
    "I choose to use the <i>ShuffleSplit</i> class to perform cross-validation.<br>\n",
    "This was especially usefull for training when trying out different parameters and algorithms due to the low amount of data in the dataset."
   ]
  },
  {
   "cell_type": "code",
   "execution_count": 53,
   "id": "27153f84",
   "metadata": {},
   "outputs": [],
   "source": [
    "# I set model creation up as a function in order to easily test different combinations of layers\n",
    "def create_new_model(num_neurons, num_inputs):\n",
    "    \n",
    "    model = Sequential()\n",
    "    for i in range(0, len(num_neurons)):\n",
    "        if i == 0:\n",
    "            model.add(Dense(num_neurons[i], input_dim=num_inputs, kernel_initializer='normal', activation=\"relu\"))\n",
    "        else:\n",
    "            model.add(Dense(num_neurons[i], kernel_initializer='normal', activation=\"relu\"))\n",
    "    model.add(Dense(1, activation=\"linear\"))\n",
    "    model.compile(loss=\"mse\", optimizer=tf.keras.optimizers.RMSprop(0.0025))\n",
    "    \n",
    "    return model"
   ]
  },
  {
   "cell_type": "code",
   "execution_count": 54,
   "id": "22312536",
   "metadata": {},
   "outputs": [],
   "source": [
    "# this function just encapsulates the whole process of running through the number of dataset splits,\n",
    "# model creation, training, prediction and storing of results.\n",
    "# returns the model with its weights\n",
    "def run_train_model(num_neurons, num_epochs, num_splits, test_size):\n",
    "\n",
    "    ss = ShuffleSplit(n_splits=num_splits, test_size=test_size, random_state=0)\n",
    "    n_samples = len(train_norm)\n",
    "    fold_var = 1\n",
    "\n",
    "    for train_index, val_index in ss.split(train_X_norm):\n",
    "\n",
    "        # split in training and testing sets\n",
    "        X_train = train_X_norm.iloc[train_index]\n",
    "        y_train = train_y_norm.iloc[train_index]\n",
    "        X_test = train_X_norm.iloc[val_index]\n",
    "        y_test = train_y_norm.iloc[val_index]\n",
    "\n",
    "        print(\"fold_var:\", fold_var, \", train_index: \", train_index[0:5], \", val_index: \", val_index[0:5])\n",
    "        print(\"X_train:\", X_train.shape, \", y_train:\", y_train.shape, \", X_test:\", X_test.shape, \"y_test:\", y_test.shape)\n",
    "\n",
    "        # create model\n",
    "        model = create_new_model(num_neurons, test_X_norm.shape[1])\n",
    "\n",
    "        # build model\n",
    "        history = model.fit(x=X_train, y=y_train, validation_data=(X_test, y_test), epochs=num_epochs)\n",
    "\n",
    "        # generate predictions\n",
    "        preds = model.predict(X_test)\n",
    "        R2_SCORES.append(r2_score(y_test, preds))\n",
    "        MAE.append(mean_absolute_error(y_test, preds))\n",
    "\n",
    "        # store data for plotting\n",
    "        LOSS.append(history.history['loss'])\n",
    "        VALIDATION_LOSS.append(history.history['val_loss'])\n",
    "\n",
    "        fold_var += 1\n",
    "        \n",
    "    return model"
   ]
  },
  {
   "cell_type": "markdown",
   "id": "a539a785",
   "metadata": {},
   "source": [
    "Here I configure some base options before starting the training process."
   ]
  },
  {
   "cell_type": "code",
   "execution_count": 55,
   "id": "068a40f0",
   "metadata": {},
   "outputs": [
    {
     "name": "stdout",
     "output_type": "stream",
     "text": [
      "fold_var: 1 , train_index:  [4154 4820 1202 3759  622] , val_index:  [ 398 3833 4836 4572  636]\n",
      "X_train: (3750, 42) , y_train: (3750,) , X_test: (1250, 42) y_test: (1250,)\n",
      "Epoch 1/200\n",
      "118/118 [==============================] - 1s 3ms/step - loss: 7517763.5000 - val_loss: 7538104.0000\n",
      "Epoch 2/200\n",
      "118/118 [==============================] - 0s 2ms/step - loss: 6813906.5000 - val_loss: 6427503.5000\n",
      "Epoch 3/200\n",
      "118/118 [==============================] - 0s 2ms/step - loss: 5347984.5000 - val_loss: 4659520.5000\n",
      "Epoch 4/200\n",
      "118/118 [==============================] - 0s 2ms/step - loss: 3516739.0000 - val_loss: 3021730.0000\n",
      "Epoch 5/200\n",
      "118/118 [==============================] - 0s 2ms/step - loss: 2455687.5000 - val_loss: 2578456.5000\n",
      "Epoch 6/200\n",
      "118/118 [==============================] - 0s 2ms/step - loss: 2259574.7500 - val_loss: 2453872.2500\n",
      "Epoch 7/200\n",
      "118/118 [==============================] - 0s 2ms/step - loss: 2157453.0000 - val_loss: 2344786.5000\n",
      "Epoch 8/200\n",
      "118/118 [==============================] - 0s 2ms/step - loss: 2064023.0000 - val_loss: 2243017.0000\n",
      "Epoch 9/200\n",
      "118/118 [==============================] - 0s 2ms/step - loss: 1979100.7500 - val_loss: 2152245.2500\n",
      "Epoch 10/200\n",
      "118/118 [==============================] - 0s 2ms/step - loss: 1900165.3750 - val_loss: 2066810.0000\n",
      "Epoch 11/200\n",
      "118/118 [==============================] - 0s 2ms/step - loss: 1829533.8750 - val_loss: 1996246.2500\n",
      "Epoch 12/200\n",
      "118/118 [==============================] - 0s 2ms/step - loss: 1770480.8750 - val_loss: 1936783.3750\n",
      "Epoch 13/200\n",
      "118/118 [==============================] - 0s 2ms/step - loss: 1715517.0000 - val_loss: 1883180.2500\n",
      "Epoch 14/200\n",
      "118/118 [==============================] - 0s 2ms/step - loss: 1664445.2500 - val_loss: 1830880.2500\n",
      "Epoch 15/200\n",
      "118/118 [==============================] - 0s 2ms/step - loss: 1619257.7500 - val_loss: 1786461.0000\n",
      "Epoch 16/200\n",
      "118/118 [==============================] - 0s 2ms/step - loss: 1574021.1250 - val_loss: 1739355.1250\n",
      "Epoch 17/200\n",
      "118/118 [==============================] - 0s 2ms/step - loss: 1531344.8750 - val_loss: 1691509.0000\n",
      "Epoch 18/200\n",
      "118/118 [==============================] - 0s 2ms/step - loss: 1490271.0000 - val_loss: 1647212.8750\n",
      "Epoch 19/200\n",
      "118/118 [==============================] - 0s 2ms/step - loss: 1452521.6250 - val_loss: 1607110.0000\n",
      "Epoch 20/200\n",
      "118/118 [==============================] - 0s 2ms/step - loss: 1415336.7500 - val_loss: 1571592.0000\n",
      "Epoch 21/200\n",
      "118/118 [==============================] - 0s 2ms/step - loss: 1378980.1250 - val_loss: 1528718.1250\n",
      "Epoch 22/200\n",
      "118/118 [==============================] - 0s 2ms/step - loss: 1347038.5000 - val_loss: 1494626.2500\n",
      "Epoch 23/200\n",
      "118/118 [==============================] - 0s 2ms/step - loss: 1316820.8750 - val_loss: 1462541.2500\n",
      "Epoch 24/200\n",
      "118/118 [==============================] - 0s 2ms/step - loss: 1288653.1250 - val_loss: 1430069.6250\n",
      "Epoch 25/200\n",
      "118/118 [==============================] - 0s 2ms/step - loss: 1261345.8750 - val_loss: 1396211.8750\n",
      "Epoch 26/200\n",
      "118/118 [==============================] - 0s 2ms/step - loss: 1239920.0000 - val_loss: 1376174.8750\n",
      "Epoch 27/200\n",
      "118/118 [==============================] - 0s 2ms/step - loss: 1220910.5000 - val_loss: 1360521.2500\n",
      "Epoch 28/200\n",
      "118/118 [==============================] - 0s 2ms/step - loss: 1209513.0000 - val_loss: 1344646.3750\n",
      "Epoch 29/200\n",
      "118/118 [==============================] - 0s 2ms/step - loss: 1198971.3750 - val_loss: 1333480.1250\n",
      "Epoch 30/200\n",
      "118/118 [==============================] - 0s 2ms/step - loss: 1190288.8750 - val_loss: 1315991.2500\n",
      "Epoch 31/200\n",
      "118/118 [==============================] - 0s 2ms/step - loss: 1182912.7500 - val_loss: 1310514.5000\n",
      "Epoch 32/200\n",
      "118/118 [==============================] - 0s 2ms/step - loss: 1178174.2500 - val_loss: 1299735.5000\n",
      "Epoch 33/200\n",
      "118/118 [==============================] - 0s 2ms/step - loss: 1173163.1250 - val_loss: 1295245.7500\n",
      "Epoch 34/200\n",
      "118/118 [==============================] - 0s 2ms/step - loss: 1169939.7500 - val_loss: 1296609.7500\n",
      "Epoch 35/200\n",
      "118/118 [==============================] - 0s 2ms/step - loss: 1166993.8750 - val_loss: 1288059.7500\n",
      "Epoch 36/200\n",
      "118/118 [==============================] - 0s 2ms/step - loss: 1165591.7500 - val_loss: 1286825.6250\n",
      "Epoch 37/200\n",
      "118/118 [==============================] - 0s 2ms/step - loss: 1163849.8750 - val_loss: 1283096.5000\n",
      "Epoch 38/200\n",
      "118/118 [==============================] - 0s 2ms/step - loss: 1163858.3750 - val_loss: 1282672.7500\n",
      "Epoch 39/200\n",
      "118/118 [==============================] - 0s 2ms/step - loss: 1162522.5000 - val_loss: 1279995.2500\n",
      "Epoch 40/200\n",
      "118/118 [==============================] - 0s 2ms/step - loss: 1161736.6250 - val_loss: 1280127.7500\n",
      "Epoch 41/200\n",
      "118/118 [==============================] - 0s 2ms/step - loss: 1160830.1250 - val_loss: 1277639.6250\n",
      "Epoch 42/200\n",
      "118/118 [==============================] - 0s 2ms/step - loss: 1159119.1250 - val_loss: 1279892.8750\n",
      "Epoch 43/200\n",
      "118/118 [==============================] - 0s 2ms/step - loss: 1159349.7500 - val_loss: 1286743.5000\n",
      "Epoch 44/200\n",
      "118/118 [==============================] - 0s 2ms/step - loss: 1159557.3750 - val_loss: 1278407.2500\n",
      "Epoch 45/200\n",
      "118/118 [==============================] - 0s 2ms/step - loss: 1158315.8750 - val_loss: 1274424.6250\n",
      "Epoch 46/200\n",
      "118/118 [==============================] - 0s 2ms/step - loss: 1157862.5000 - val_loss: 1273270.0000\n",
      "Epoch 47/200\n",
      "118/118 [==============================] - 0s 2ms/step - loss: 1157442.6250 - val_loss: 1275088.3750\n",
      "Epoch 48/200\n",
      "118/118 [==============================] - 0s 2ms/step - loss: 1156774.6250 - val_loss: 1275816.5000\n",
      "Epoch 49/200\n",
      "118/118 [==============================] - 0s 2ms/step - loss: 1156514.7500 - val_loss: 1278269.3750\n",
      "Epoch 50/200\n",
      "118/118 [==============================] - 0s 2ms/step - loss: 1155895.7500 - val_loss: 1274399.7500\n",
      "Epoch 51/200\n",
      "118/118 [==============================] - 0s 2ms/step - loss: 1154389.5000 - val_loss: 1279183.5000\n",
      "Epoch 52/200\n",
      "118/118 [==============================] - 0s 2ms/step - loss: 1156164.6250 - val_loss: 1272070.0000\n",
      "Epoch 53/200\n",
      "118/118 [==============================] - 0s 2ms/step - loss: 1154364.5000 - val_loss: 1273696.0000\n",
      "Epoch 54/200\n",
      "118/118 [==============================] - 0s 2ms/step - loss: 1155106.2500 - val_loss: 1272026.3750\n",
      "Epoch 55/200\n",
      "118/118 [==============================] - 0s 2ms/step - loss: 1154476.6250 - val_loss: 1272665.5000\n",
      "Epoch 56/200\n",
      "118/118 [==============================] - 0s 2ms/step - loss: 1154674.7500 - val_loss: 1273272.0000\n",
      "Epoch 57/200\n",
      "118/118 [==============================] - 0s 2ms/step - loss: 1153505.1250 - val_loss: 1275690.5000\n",
      "Epoch 58/200\n",
      "118/118 [==============================] - 0s 2ms/step - loss: 1154109.7500 - val_loss: 1275756.0000\n",
      "Epoch 59/200\n",
      "118/118 [==============================] - 0s 2ms/step - loss: 1153976.5000 - val_loss: 1269578.5000\n",
      "Epoch 60/200\n",
      "118/118 [==============================] - 0s 2ms/step - loss: 1152088.2500 - val_loss: 1276594.3750\n",
      "Epoch 61/200\n",
      "118/118 [==============================] - 0s 2ms/step - loss: 1151866.3750 - val_loss: 1279286.6250\n",
      "Epoch 62/200\n",
      "118/118 [==============================] - 0s 2ms/step - loss: 1153155.2500 - val_loss: 1271387.7500\n",
      "Epoch 63/200\n",
      "118/118 [==============================] - 0s 2ms/step - loss: 1152187.1250 - val_loss: 1272078.1250\n",
      "Epoch 64/200\n",
      "118/118 [==============================] - 0s 2ms/step - loss: 1150763.2500 - val_loss: 1279287.3750\n",
      "Epoch 65/200\n",
      "118/118 [==============================] - 0s 2ms/step - loss: 1151928.5000 - val_loss: 1273984.5000\n",
      "Epoch 66/200\n",
      "118/118 [==============================] - 0s 2ms/step - loss: 1151613.6250 - val_loss: 1267918.3750\n",
      "Epoch 67/200\n",
      "118/118 [==============================] - 0s 2ms/step - loss: 1151212.8750 - val_loss: 1266833.5000\n",
      "Epoch 68/200\n",
      "118/118 [==============================] - 0s 2ms/step - loss: 1150546.5000 - val_loss: 1274893.1250\n",
      "Epoch 69/200\n",
      "118/118 [==============================] - 0s 2ms/step - loss: 1151442.6250 - val_loss: 1271514.6250\n",
      "Epoch 70/200\n",
      "118/118 [==============================] - 0s 2ms/step - loss: 1149617.8750 - val_loss: 1268778.7500\n",
      "Epoch 71/200\n",
      "118/118 [==============================] - 0s 2ms/step - loss: 1150190.3750 - val_loss: 1264643.0000\n",
      "Epoch 72/200\n",
      "118/118 [==============================] - 0s 2ms/step - loss: 1150501.5000 - val_loss: 1265101.7500\n",
      "Epoch 73/200\n",
      "118/118 [==============================] - 0s 2ms/step - loss: 1149699.6250 - val_loss: 1274279.2500\n",
      "Epoch 74/200\n",
      "118/118 [==============================] - 0s 2ms/step - loss: 1148781.7500 - val_loss: 1266853.8750\n",
      "Epoch 75/200\n",
      "118/118 [==============================] - 0s 2ms/step - loss: 1148211.6250 - val_loss: 1265450.7500\n",
      "Epoch 76/200\n",
      "118/118 [==============================] - 0s 2ms/step - loss: 1148843.1250 - val_loss: 1263828.6250\n",
      "Epoch 77/200\n",
      "118/118 [==============================] - 0s 2ms/step - loss: 1148226.5000 - val_loss: 1261981.5000\n",
      "Epoch 78/200\n",
      "118/118 [==============================] - 0s 2ms/step - loss: 1147691.0000 - val_loss: 1263525.2500\n",
      "Epoch 79/200\n",
      "118/118 [==============================] - 0s 2ms/step - loss: 1146297.2500 - val_loss: 1264781.2500\n",
      "Epoch 80/200\n",
      "118/118 [==============================] - 0s 2ms/step - loss: 1147378.1250 - val_loss: 1262701.7500\n",
      "Epoch 81/200\n",
      "118/118 [==============================] - 0s 2ms/step - loss: 1147136.6250 - val_loss: 1260654.7500\n",
      "Epoch 82/200\n",
      "118/118 [==============================] - 0s 2ms/step - loss: 1144247.0000 - val_loss: 1274380.3750\n",
      "Epoch 83/200\n",
      "118/118 [==============================] - 0s 2ms/step - loss: 1146566.6250 - val_loss: 1260962.8750\n",
      "Epoch 84/200\n",
      "118/118 [==============================] - 0s 2ms/step - loss: 1144795.7500 - val_loss: 1259480.8750\n",
      "Epoch 85/200\n",
      "118/118 [==============================] - 0s 2ms/step - loss: 1145374.1250 - val_loss: 1258244.0000\n",
      "Epoch 86/200\n",
      "118/118 [==============================] - 0s 2ms/step - loss: 1145577.3750 - val_loss: 1257216.8750\n",
      "Epoch 87/200\n",
      "118/118 [==============================] - 0s 2ms/step - loss: 1143493.6250 - val_loss: 1262834.7500\n",
      "Epoch 88/200\n",
      "118/118 [==============================] - 0s 2ms/step - loss: 1144152.3750 - val_loss: 1260770.6250\n",
      "Epoch 89/200\n",
      "118/118 [==============================] - 0s 2ms/step - loss: 1143002.7500 - val_loss: 1266997.1250\n",
      "Epoch 90/200\n",
      "118/118 [==============================] - 0s 2ms/step - loss: 1144111.6250 - val_loss: 1263364.0000\n",
      "Epoch 91/200\n",
      "118/118 [==============================] - 0s 2ms/step - loss: 1144024.1250 - val_loss: 1258575.6250\n",
      "Epoch 92/200\n",
      "118/118 [==============================] - 0s 2ms/step - loss: 1142363.0000 - val_loss: 1259745.1250\n",
      "Epoch 93/200\n",
      "118/118 [==============================] - 0s 2ms/step - loss: 1142661.5000 - val_loss: 1257040.5000\n",
      "Epoch 94/200\n",
      "118/118 [==============================] - 0s 2ms/step - loss: 1142851.0000 - val_loss: 1256533.2500\n",
      "Epoch 95/200\n",
      "118/118 [==============================] - 0s 2ms/step - loss: 1141453.2500 - val_loss: 1258429.0000\n",
      "Epoch 96/200\n",
      "118/118 [==============================] - 0s 2ms/step - loss: 1141932.6250 - val_loss: 1258527.7500\n",
      "Epoch 97/200\n",
      "118/118 [==============================] - 0s 2ms/step - loss: 1140730.1250 - val_loss: 1255110.7500\n",
      "Epoch 98/200\n",
      "118/118 [==============================] - 0s 2ms/step - loss: 1138500.0000 - val_loss: 1268521.0000\n",
      "Epoch 99/200\n",
      "118/118 [==============================] - 0s 2ms/step - loss: 1140609.0000 - val_loss: 1258091.5000\n",
      "Epoch 100/200\n",
      "118/118 [==============================] - 0s 2ms/step - loss: 1140462.2500 - val_loss: 1254565.1250\n",
      "Epoch 101/200\n",
      "118/118 [==============================] - 0s 2ms/step - loss: 1139668.7500 - val_loss: 1257643.5000\n",
      "Epoch 102/200\n",
      "118/118 [==============================] - 0s 2ms/step - loss: 1139141.1250 - val_loss: 1258542.6250\n",
      "Epoch 103/200\n",
      "118/118 [==============================] - 0s 2ms/step - loss: 1139203.3750 - val_loss: 1253887.3750\n",
      "Epoch 104/200\n",
      "118/118 [==============================] - 0s 2ms/step - loss: 1139201.2500 - val_loss: 1253424.3750\n",
      "Epoch 105/200\n",
      "118/118 [==============================] - 0s 2ms/step - loss: 1139483.8750 - val_loss: 1256252.2500\n",
      "Epoch 106/200\n",
      "118/118 [==============================] - 0s 2ms/step - loss: 1137933.5000 - val_loss: 1254414.7500\n",
      "Epoch 107/200\n",
      "118/118 [==============================] - 0s 2ms/step - loss: 1138155.2500 - val_loss: 1255988.1250\n",
      "Epoch 108/200\n",
      "118/118 [==============================] - 0s 2ms/step - loss: 1137700.5000 - val_loss: 1255608.7500\n",
      "Epoch 109/200\n",
      "118/118 [==============================] - 0s 2ms/step - loss: 1137047.5000 - val_loss: 1254112.6250\n",
      "Epoch 110/200\n",
      "118/118 [==============================] - 0s 2ms/step - loss: 1137166.3750 - val_loss: 1255233.2500\n",
      "Epoch 111/200\n",
      "118/118 [==============================] - 0s 2ms/step - loss: 1137124.2500 - val_loss: 1252409.8750\n",
      "Epoch 112/200\n",
      "118/118 [==============================] - 0s 2ms/step - loss: 1137094.3750 - val_loss: 1253547.7500\n",
      "Epoch 113/200\n",
      "118/118 [==============================] - 0s 2ms/step - loss: 1136681.8750 - val_loss: 1255075.8750\n",
      "Epoch 114/200\n",
      "118/118 [==============================] - 0s 2ms/step - loss: 1136224.0000 - val_loss: 1255448.2500\n",
      "Epoch 115/200\n",
      "118/118 [==============================] - 0s 2ms/step - loss: 1136375.7500 - val_loss: 1254244.6250\n",
      "Epoch 116/200\n",
      "118/118 [==============================] - 0s 2ms/step - loss: 1136550.2500 - val_loss: 1255958.5000\n",
      "Epoch 117/200\n",
      "118/118 [==============================] - 0s 2ms/step - loss: 1135555.0000 - val_loss: 1257829.2500\n",
      "Epoch 118/200\n",
      "118/118 [==============================] - 0s 2ms/step - loss: 1135745.3750 - val_loss: 1251661.1250\n",
      "Epoch 119/200\n",
      "118/118 [==============================] - 0s 2ms/step - loss: 1135010.5000 - val_loss: 1252227.8750\n",
      "Epoch 120/200\n",
      "118/118 [==============================] - 0s 2ms/step - loss: 1135064.3750 - val_loss: 1255176.7500\n",
      "Epoch 121/200\n",
      "118/118 [==============================] - 0s 2ms/step - loss: 1134622.0000 - val_loss: 1251681.5000\n",
      "Epoch 122/200\n",
      "118/118 [==============================] - 0s 2ms/step - loss: 1133746.6250 - val_loss: 1252078.7500\n",
      "Epoch 123/200\n",
      "118/118 [==============================] - 0s 2ms/step - loss: 1133455.2500 - val_loss: 1256969.6250\n",
      "Epoch 124/200\n",
      "118/118 [==============================] - 0s 2ms/step - loss: 1133891.6250 - val_loss: 1250232.8750\n",
      "Epoch 125/200\n",
      "118/118 [==============================] - 0s 2ms/step - loss: 1133703.7500 - val_loss: 1251275.7500\n",
      "Epoch 126/200\n",
      "118/118 [==============================] - 0s 2ms/step - loss: 1133398.0000 - val_loss: 1250262.5000\n",
      "Epoch 127/200\n",
      "118/118 [==============================] - 0s 2ms/step - loss: 1133262.0000 - val_loss: 1252053.1250\n",
      "Epoch 128/200\n",
      "118/118 [==============================] - 0s 2ms/step - loss: 1133384.2500 - val_loss: 1254632.1250\n",
      "Epoch 129/200\n",
      "118/118 [==============================] - 0s 2ms/step - loss: 1133297.6250 - val_loss: 1251458.7500\n",
      "Epoch 130/200\n",
      "118/118 [==============================] - 0s 2ms/step - loss: 1132298.5000 - val_loss: 1249318.7500\n",
      "Epoch 131/200\n",
      "118/118 [==============================] - 0s 2ms/step - loss: 1132670.3750 - val_loss: 1250609.1250\n",
      "Epoch 132/200\n",
      "118/118 [==============================] - 0s 2ms/step - loss: 1131869.8750 - val_loss: 1252258.8750\n",
      "Epoch 133/200\n",
      "118/118 [==============================] - 0s 2ms/step - loss: 1132327.6250 - val_loss: 1249233.7500\n",
      "Epoch 134/200\n",
      "118/118 [==============================] - 0s 2ms/step - loss: 1132208.7500 - val_loss: 1251635.1250\n",
      "Epoch 135/200\n",
      "118/118 [==============================] - 0s 2ms/step - loss: 1130779.8750 - val_loss: 1256735.3750\n",
      "Epoch 136/200\n",
      "118/118 [==============================] - 0s 2ms/step - loss: 1131666.8750 - val_loss: 1253268.8750\n",
      "Epoch 137/200\n",
      "118/118 [==============================] - 0s 2ms/step - loss: 1131333.3750 - val_loss: 1249120.3750\n",
      "Epoch 138/200\n",
      "118/118 [==============================] - 0s 2ms/step - loss: 1131214.1250 - val_loss: 1251692.5000\n",
      "Epoch 139/200\n",
      "118/118 [==============================] - 0s 2ms/step - loss: 1129584.3750 - val_loss: 1251183.7500\n",
      "Epoch 140/200\n",
      "118/118 [==============================] - 0s 2ms/step - loss: 1130186.6250 - val_loss: 1250157.0000\n",
      "Epoch 141/200\n",
      "118/118 [==============================] - 0s 2ms/step - loss: 1129985.2500 - val_loss: 1249369.0000\n",
      "Epoch 142/200\n",
      "118/118 [==============================] - 0s 2ms/step - loss: 1130003.5000 - val_loss: 1257207.3750\n",
      "Epoch 143/200\n",
      "118/118 [==============================] - 0s 2ms/step - loss: 1129234.1250 - val_loss: 1252661.5000\n",
      "Epoch 144/200\n",
      "118/118 [==============================] - 0s 2ms/step - loss: 1128257.3750 - val_loss: 1248779.0000\n",
      "Epoch 145/200\n",
      "118/118 [==============================] - 0s 2ms/step - loss: 1128138.6250 - val_loss: 1248356.1250\n",
      "Epoch 146/200\n",
      "118/118 [==============================] - 0s 2ms/step - loss: 1128994.2500 - val_loss: 1248414.1250\n",
      "Epoch 147/200\n",
      "118/118 [==============================] - 0s 3ms/step - loss: 1128599.5000 - val_loss: 1250033.5000\n",
      "Epoch 148/200\n",
      "118/118 [==============================] - 0s 2ms/step - loss: 1128392.7500 - val_loss: 1248229.8750\n",
      "Epoch 149/200\n",
      "118/118 [==============================] - 0s 2ms/step - loss: 1128315.5000 - val_loss: 1254029.8750\n",
      "Epoch 150/200\n",
      "118/118 [==============================] - 0s 2ms/step - loss: 1127010.0000 - val_loss: 1247210.0000\n",
      "Epoch 151/200\n",
      "118/118 [==============================] - 0s 2ms/step - loss: 1126235.1250 - val_loss: 1248258.2500\n",
      "Epoch 152/200\n",
      "118/118 [==============================] - 0s 2ms/step - loss: 1127854.0000 - val_loss: 1250136.0000\n",
      "Epoch 153/200\n",
      "118/118 [==============================] - 0s 2ms/step - loss: 1127053.6250 - val_loss: 1252523.7500\n",
      "Epoch 154/200\n",
      "118/118 [==============================] - 0s 2ms/step - loss: 1126108.5000 - val_loss: 1264579.1250\n",
      "Epoch 155/200\n",
      "118/118 [==============================] - 0s 2ms/step - loss: 1126934.6250 - val_loss: 1252906.0000\n",
      "Epoch 156/200\n",
      "118/118 [==============================] - 0s 2ms/step - loss: 1126971.3750 - val_loss: 1249290.6250\n",
      "Epoch 157/200\n",
      "118/118 [==============================] - 0s 2ms/step - loss: 1126966.8750 - val_loss: 1247823.7500\n",
      "Epoch 158/200\n",
      "118/118 [==============================] - 0s 2ms/step - loss: 1126793.0000 - val_loss: 1249139.8750\n",
      "Epoch 159/200\n",
      "118/118 [==============================] - 0s 2ms/step - loss: 1126331.0000 - val_loss: 1251147.3750\n",
      "Epoch 160/200\n",
      "118/118 [==============================] - 0s 2ms/step - loss: 1125295.0000 - val_loss: 1247896.8750\n",
      "Epoch 161/200\n",
      "118/118 [==============================] - 0s 2ms/step - loss: 1125044.7500 - val_loss: 1249607.3750\n",
      "Epoch 162/200\n",
      "118/118 [==============================] - 0s 2ms/step - loss: 1124953.7500 - val_loss: 1248364.2500\n",
      "Epoch 163/200\n",
      "118/118 [==============================] - 0s 2ms/step - loss: 1124975.2500 - val_loss: 1250103.7500\n",
      "Epoch 164/200\n",
      "118/118 [==============================] - 0s 2ms/step - loss: 1125398.5000 - val_loss: 1247985.5000\n",
      "Epoch 165/200\n",
      "118/118 [==============================] - 0s 2ms/step - loss: 1125097.3750 - val_loss: 1246684.6250\n",
      "Epoch 166/200\n",
      "118/118 [==============================] - 0s 2ms/step - loss: 1124955.2500 - val_loss: 1251031.6250\n",
      "Epoch 167/200\n",
      "118/118 [==============================] - 0s 2ms/step - loss: 1123776.3750 - val_loss: 1245952.2500\n",
      "Epoch 168/200\n",
      "118/118 [==============================] - 0s 2ms/step - loss: 1124488.7500 - val_loss: 1247284.1250\n",
      "Epoch 169/200\n",
      "118/118 [==============================] - 0s 2ms/step - loss: 1124380.2500 - val_loss: 1247252.1250\n",
      "Epoch 170/200\n",
      "118/118 [==============================] - 0s 3ms/step - loss: 1123105.2500 - val_loss: 1253774.0000\n",
      "Epoch 171/200\n",
      "118/118 [==============================] - 0s 2ms/step - loss: 1124488.2500 - val_loss: 1253099.8750\n",
      "Epoch 172/200\n",
      "118/118 [==============================] - 0s 2ms/step - loss: 1123615.0000 - val_loss: 1245524.3750\n",
      "Epoch 173/200\n",
      "118/118 [==============================] - 0s 2ms/step - loss: 1120407.8750 - val_loss: 1246873.3750\n",
      "Epoch 174/200\n",
      "118/118 [==============================] - 0s 2ms/step - loss: 1123269.6250 - val_loss: 1246387.8750\n",
      "Epoch 175/200\n",
      "118/118 [==============================] - 0s 2ms/step - loss: 1122068.1250 - val_loss: 1258064.7500\n",
      "Epoch 176/200\n",
      "118/118 [==============================] - 0s 2ms/step - loss: 1123146.7500 - val_loss: 1249001.2500\n",
      "Epoch 177/200\n",
      "118/118 [==============================] - 0s 2ms/step - loss: 1122144.7500 - val_loss: 1246625.2500\n",
      "Epoch 178/200\n",
      "118/118 [==============================] - 0s 2ms/step - loss: 1121083.8750 - val_loss: 1262157.1250\n",
      "Epoch 179/200\n",
      "118/118 [==============================] - 0s 2ms/step - loss: 1122167.8750 - val_loss: 1245783.5000\n",
      "Epoch 180/200\n",
      "118/118 [==============================] - 0s 2ms/step - loss: 1122673.7500 - val_loss: 1244723.5000\n",
      "Epoch 181/200\n",
      "118/118 [==============================] - 0s 2ms/step - loss: 1122495.1250 - val_loss: 1244445.7500\n",
      "Epoch 182/200\n",
      "118/118 [==============================] - 0s 2ms/step - loss: 1121358.2500 - val_loss: 1249548.7500\n",
      "Epoch 183/200\n",
      "118/118 [==============================] - 0s 2ms/step - loss: 1121849.5000 - val_loss: 1252877.6250\n",
      "Epoch 184/200\n",
      "118/118 [==============================] - 0s 2ms/step - loss: 1122208.6250 - val_loss: 1246276.5000\n",
      "Epoch 185/200\n",
      "118/118 [==============================] - 0s 2ms/step - loss: 1121195.7500 - val_loss: 1246528.0000\n",
      "Epoch 186/200\n",
      "118/118 [==============================] - 0s 2ms/step - loss: 1120468.7500 - val_loss: 1244988.1250\n",
      "Epoch 187/200\n",
      "118/118 [==============================] - 0s 2ms/step - loss: 1121666.2500 - val_loss: 1247038.6250\n",
      "Epoch 188/200\n",
      "118/118 [==============================] - 0s 2ms/step - loss: 1121366.2500 - val_loss: 1244463.3750\n",
      "Epoch 189/200\n",
      "118/118 [==============================] - 0s 2ms/step - loss: 1120849.0000 - val_loss: 1246427.5000\n",
      "Epoch 190/200\n",
      "118/118 [==============================] - 0s 2ms/step - loss: 1120976.3750 - val_loss: 1245872.2500\n",
      "Epoch 191/200\n",
      "118/118 [==============================] - 0s 2ms/step - loss: 1119875.2500 - val_loss: 1245283.3750\n",
      "Epoch 192/200\n",
      "118/118 [==============================] - 0s 2ms/step - loss: 1121010.2500 - val_loss: 1248752.7500\n",
      "Epoch 193/200\n",
      "118/118 [==============================] - 0s 2ms/step - loss: 1120700.1250 - val_loss: 1245849.7500\n",
      "Epoch 194/200\n",
      "118/118 [==============================] - 0s 2ms/step - loss: 1118527.5000 - val_loss: 1244600.8750\n",
      "Epoch 195/200\n",
      "118/118 [==============================] - 0s 2ms/step - loss: 1119398.3750 - val_loss: 1251486.2500\n",
      "Epoch 196/200\n",
      "118/118 [==============================] - 0s 2ms/step - loss: 1120777.8750 - val_loss: 1247795.0000\n",
      "Epoch 197/200\n",
      "118/118 [==============================] - 0s 2ms/step - loss: 1119013.2500 - val_loss: 1244517.8750\n",
      "Epoch 198/200\n",
      "118/118 [==============================] - 0s 2ms/step - loss: 1119801.1250 - val_loss: 1244603.6250\n",
      "Epoch 199/200\n",
      "118/118 [==============================] - 0s 2ms/step - loss: 1117414.0000 - val_loss: 1244557.6250\n",
      "Epoch 200/200\n",
      "118/118 [==============================] - 0s 2ms/step - loss: 1119320.5000 - val_loss: 1248869.5000\n",
      "40/40 [==============================] - 0s 1ms/step\n",
      "fold_var: 2 , train_index:  [3435 3339 3344  146 2282] , val_index:  [ 597  332  521 3935 4800]\n",
      "X_train: (3750, 42) , y_train: (3750,) , X_test: (1250, 42) y_test: (1250,)\n",
      "Epoch 1/200\n",
      "118/118 [==============================] - 1s 4ms/step - loss: 7340736.5000 - val_loss: 8192587.5000\n",
      "Epoch 2/200\n",
      "118/118 [==============================] - 0s 2ms/step - loss: 6763892.5000 - val_loss: 7183242.0000\n",
      "Epoch 3/200\n",
      "118/118 [==============================] - 0s 2ms/step - loss: 5467253.5000 - val_loss: 5435255.5000\n",
      "Epoch 4/200\n",
      "118/118 [==============================] - 0s 2ms/step - loss: 3775358.7500 - val_loss: 3536799.0000\n",
      "Epoch 5/200\n",
      "118/118 [==============================] - 0s 2ms/step - loss: 2575367.0000 - val_loss: 2685693.7500\n",
      "Epoch 6/200\n",
      "118/118 [==============================] - 0s 2ms/step - loss: 2286229.2500 - val_loss: 2530225.5000\n",
      "Epoch 7/200\n",
      "118/118 [==============================] - 0s 2ms/step - loss: 2182671.0000 - val_loss: 2427550.2500\n",
      "Epoch 8/200\n",
      "118/118 [==============================] - 0s 2ms/step - loss: 2089507.3750 - val_loss: 2325531.2500\n",
      "Epoch 9/200\n",
      "118/118 [==============================] - 0s 2ms/step - loss: 2002321.6250 - val_loss: 2239087.5000\n",
      "Epoch 10/200\n",
      "118/118 [==============================] - 0s 2ms/step - loss: 1924404.8750 - val_loss: 2155715.7500\n",
      "Epoch 11/200\n",
      "118/118 [==============================] - 0s 2ms/step - loss: 1851238.5000 - val_loss: 2075050.3750\n",
      "Epoch 12/200\n",
      "118/118 [==============================] - 0s 2ms/step - loss: 1788509.6250 - val_loss: 2033259.8750\n",
      "Epoch 13/200\n",
      "118/118 [==============================] - 0s 2ms/step - loss: 1734961.0000 - val_loss: 1971211.8750\n",
      "Epoch 14/200\n",
      "118/118 [==============================] - 0s 2ms/step - loss: 1682865.3750 - val_loss: 1897544.7500\n",
      "Epoch 15/200\n",
      "118/118 [==============================] - 0s 2ms/step - loss: 1633708.1250 - val_loss: 1860336.6250\n",
      "Epoch 16/200\n",
      "118/118 [==============================] - 0s 2ms/step - loss: 1590394.3750 - val_loss: 1798135.3750\n",
      "Epoch 17/200\n",
      "118/118 [==============================] - 0s 2ms/step - loss: 1548137.0000 - val_loss: 1751823.1250\n",
      "Epoch 18/200\n",
      "118/118 [==============================] - 0s 2ms/step - loss: 1509909.7500 - val_loss: 1719405.7500\n",
      "Epoch 19/200\n",
      "118/118 [==============================] - 0s 2ms/step - loss: 1471235.3750 - val_loss: 1688828.2500\n",
      "Epoch 20/200\n",
      "118/118 [==============================] - 0s 2ms/step - loss: 1436495.6250 - val_loss: 1635839.1250\n",
      "Epoch 21/200\n",
      "118/118 [==============================] - 0s 2ms/step - loss: 1397941.1250 - val_loss: 1595252.3750\n",
      "Epoch 22/200\n",
      "118/118 [==============================] - 0s 2ms/step - loss: 1362599.8750 - val_loss: 1555859.0000\n",
      "Epoch 23/200\n",
      "118/118 [==============================] - 0s 2ms/step - loss: 1330300.8750 - val_loss: 1513053.3750\n",
      "Epoch 24/200\n",
      "118/118 [==============================] - 0s 2ms/step - loss: 1301289.1250 - val_loss: 1478168.7500\n",
      "Epoch 25/200\n",
      "118/118 [==============================] - 0s 2ms/step - loss: 1275280.3750 - val_loss: 1449292.0000\n",
      "Epoch 26/200\n",
      "118/118 [==============================] - 0s 2ms/step - loss: 1251465.5000 - val_loss: 1454940.8750\n",
      "Epoch 27/200\n",
      "118/118 [==============================] - 0s 2ms/step - loss: 1232674.1250 - val_loss: 1401965.0000\n",
      "Epoch 28/200\n",
      "118/118 [==============================] - 0s 2ms/step - loss: 1214242.8750 - val_loss: 1384148.0000\n",
      "Epoch 29/200\n",
      "118/118 [==============================] - 0s 2ms/step - loss: 1201527.3750 - val_loss: 1373173.5000\n",
      "Epoch 30/200\n",
      "118/118 [==============================] - 0s 2ms/step - loss: 1190333.6250 - val_loss: 1359201.2500\n",
      "Epoch 31/200\n",
      "118/118 [==============================] - 0s 2ms/step - loss: 1181520.7500 - val_loss: 1366306.7500\n",
      "Epoch 32/200\n",
      "118/118 [==============================] - 0s 2ms/step - loss: 1175313.3750 - val_loss: 1350790.8750\n",
      "Epoch 33/200\n",
      "118/118 [==============================] - 0s 2ms/step - loss: 1169406.2500 - val_loss: 1336255.6250\n",
      "Epoch 34/200\n",
      "118/118 [==============================] - 0s 2ms/step - loss: 1163319.7500 - val_loss: 1358307.2500\n",
      "Epoch 35/200\n",
      "118/118 [==============================] - 0s 2ms/step - loss: 1161941.1250 - val_loss: 1337021.1250\n",
      "Epoch 36/200\n",
      "118/118 [==============================] - 0s 2ms/step - loss: 1158967.3750 - val_loss: 1323281.8750\n",
      "Epoch 37/200\n",
      "118/118 [==============================] - 0s 2ms/step - loss: 1156392.1250 - val_loss: 1313933.2500\n",
      "Epoch 38/200\n",
      "118/118 [==============================] - 0s 2ms/step - loss: 1155220.2500 - val_loss: 1323955.8750\n",
      "Epoch 39/200\n",
      "118/118 [==============================] - 0s 2ms/step - loss: 1153146.6250 - val_loss: 1319026.1250\n",
      "Epoch 40/200\n",
      "118/118 [==============================] - 0s 2ms/step - loss: 1151812.6250 - val_loss: 1327055.0000\n",
      "Epoch 41/200\n",
      "118/118 [==============================] - 0s 2ms/step - loss: 1151032.7500 - val_loss: 1306167.7500\n",
      "Epoch 42/200\n",
      "118/118 [==============================] - 0s 2ms/step - loss: 1150269.0000 - val_loss: 1314784.0000\n",
      "Epoch 43/200\n",
      "118/118 [==============================] - 0s 2ms/step - loss: 1148238.7500 - val_loss: 1330857.2500\n",
      "Epoch 44/200\n",
      "118/118 [==============================] - 0s 2ms/step - loss: 1148951.5000 - val_loss: 1311468.5000\n",
      "Epoch 45/200\n",
      "118/118 [==============================] - 0s 2ms/step - loss: 1147635.2500 - val_loss: 1300994.2500\n",
      "Epoch 46/200\n",
      "118/118 [==============================] - 0s 2ms/step - loss: 1145979.1250 - val_loss: 1304730.8750\n",
      "Epoch 47/200\n",
      "118/118 [==============================] - 0s 2ms/step - loss: 1147336.8750 - val_loss: 1308839.0000\n",
      "Epoch 48/200\n",
      "118/118 [==============================] - 0s 2ms/step - loss: 1145548.2500 - val_loss: 1307281.5000\n",
      "Epoch 49/200\n",
      "118/118 [==============================] - 0s 2ms/step - loss: 1145791.1250 - val_loss: 1307677.2500\n",
      "Epoch 50/200\n",
      "118/118 [==============================] - 0s 2ms/step - loss: 1144912.3750 - val_loss: 1323417.5000\n",
      "Epoch 51/200\n",
      "118/118 [==============================] - 0s 2ms/step - loss: 1143414.6250 - val_loss: 1297633.6250\n",
      "Epoch 52/200\n",
      "118/118 [==============================] - 0s 2ms/step - loss: 1143864.5000 - val_loss: 1320435.2500\n",
      "Epoch 53/200\n",
      "118/118 [==============================] - 0s 2ms/step - loss: 1144267.0000 - val_loss: 1306114.8750\n",
      "Epoch 54/200\n",
      "118/118 [==============================] - 0s 2ms/step - loss: 1143061.3750 - val_loss: 1308927.6250\n",
      "Epoch 55/200\n",
      "118/118 [==============================] - 0s 2ms/step - loss: 1142516.6250 - val_loss: 1316714.6250\n",
      "Epoch 56/200\n",
      "118/118 [==============================] - 0s 2ms/step - loss: 1140756.2500 - val_loss: 1292865.1250\n",
      "Epoch 57/200\n",
      "118/118 [==============================] - 0s 2ms/step - loss: 1141653.7500 - val_loss: 1305972.1250\n",
      "Epoch 58/200\n",
      "118/118 [==============================] - 0s 2ms/step - loss: 1140782.2500 - val_loss: 1301550.5000\n",
      "Epoch 59/200\n",
      "118/118 [==============================] - 0s 2ms/step - loss: 1141111.6250 - val_loss: 1299065.1250\n",
      "Epoch 60/200\n",
      "118/118 [==============================] - 0s 2ms/step - loss: 1139421.8750 - val_loss: 1307348.5000\n",
      "Epoch 61/200\n",
      "118/118 [==============================] - 0s 2ms/step - loss: 1139634.6250 - val_loss: 1303584.6250\n",
      "Epoch 62/200\n",
      "118/118 [==============================] - 0s 2ms/step - loss: 1139029.0000 - val_loss: 1294376.1250\n",
      "Epoch 63/200\n",
      "118/118 [==============================] - 0s 2ms/step - loss: 1138824.1250 - val_loss: 1311402.5000\n",
      "Epoch 64/200\n",
      "118/118 [==============================] - 0s 2ms/step - loss: 1138264.5000 - val_loss: 1308081.8750\n",
      "Epoch 65/200\n",
      "118/118 [==============================] - 0s 2ms/step - loss: 1138089.0000 - val_loss: 1301248.2500\n",
      "Epoch 66/200\n",
      "118/118 [==============================] - 0s 2ms/step - loss: 1136454.0000 - val_loss: 1298534.2500\n",
      "Epoch 67/200\n",
      "118/118 [==============================] - 0s 2ms/step - loss: 1137497.6250 - val_loss: 1305699.8750\n",
      "Epoch 68/200\n",
      "118/118 [==============================] - 0s 2ms/step - loss: 1135887.7500 - val_loss: 1312438.0000\n",
      "Epoch 69/200\n",
      "118/118 [==============================] - 0s 2ms/step - loss: 1135777.5000 - val_loss: 1311636.2500\n",
      "Epoch 70/200\n",
      "118/118 [==============================] - 0s 2ms/step - loss: 1135047.6250 - val_loss: 1309444.6250\n",
      "Epoch 71/200\n",
      "118/118 [==============================] - 0s 2ms/step - loss: 1134645.7500 - val_loss: 1289130.7500\n",
      "Epoch 72/200\n",
      "118/118 [==============================] - 0s 2ms/step - loss: 1133834.2500 - val_loss: 1286821.3750\n",
      "Epoch 73/200\n",
      "118/118 [==============================] - 0s 2ms/step - loss: 1133849.5000 - val_loss: 1294404.2500\n",
      "Epoch 74/200\n",
      "118/118 [==============================] - 0s 2ms/step - loss: 1134173.2500 - val_loss: 1296665.0000\n",
      "Epoch 75/200\n",
      "118/118 [==============================] - 0s 2ms/step - loss: 1133427.0000 - val_loss: 1291881.7500\n",
      "Epoch 76/200\n",
      "118/118 [==============================] - 0s 2ms/step - loss: 1133107.0000 - val_loss: 1294496.2500\n",
      "Epoch 77/200\n",
      "118/118 [==============================] - 0s 2ms/step - loss: 1131651.2500 - val_loss: 1289520.6250\n",
      "Epoch 78/200\n",
      "118/118 [==============================] - 0s 2ms/step - loss: 1132206.3750 - val_loss: 1298488.0000\n",
      "Epoch 79/200\n",
      "118/118 [==============================] - 0s 2ms/step - loss: 1131319.3750 - val_loss: 1291326.7500\n",
      "Epoch 80/200\n",
      "118/118 [==============================] - 0s 2ms/step - loss: 1131453.3750 - val_loss: 1303874.0000\n",
      "Epoch 81/200\n",
      "118/118 [==============================] - 0s 2ms/step - loss: 1130282.3750 - val_loss: 1304878.0000\n",
      "Epoch 82/200\n",
      "118/118 [==============================] - 0s 2ms/step - loss: 1128543.7500 - val_loss: 1324416.2500\n",
      "Epoch 83/200\n",
      "118/118 [==============================] - 0s 2ms/step - loss: 1129006.5000 - val_loss: 1291427.5000\n",
      "Epoch 84/200\n",
      "118/118 [==============================] - 0s 2ms/step - loss: 1126135.7500 - val_loss: 1294601.2500\n",
      "Epoch 85/200\n",
      "118/118 [==============================] - 0s 2ms/step - loss: 1127990.8750 - val_loss: 1289867.6250\n",
      "Epoch 86/200\n",
      "118/118 [==============================] - 0s 2ms/step - loss: 1128983.8750 - val_loss: 1294745.6250\n",
      "Epoch 87/200\n",
      "118/118 [==============================] - 0s 2ms/step - loss: 1127564.8750 - val_loss: 1294960.1250\n",
      "Epoch 88/200\n",
      "118/118 [==============================] - 0s 2ms/step - loss: 1127010.7500 - val_loss: 1288729.7500\n",
      "Epoch 89/200\n",
      "118/118 [==============================] - 0s 2ms/step - loss: 1126357.7500 - val_loss: 1289436.3750\n",
      "Epoch 90/200\n",
      "118/118 [==============================] - 0s 2ms/step - loss: 1126063.0000 - val_loss: 1294981.3750\n",
      "Epoch 91/200\n",
      "118/118 [==============================] - 0s 2ms/step - loss: 1126357.5000 - val_loss: 1300445.3750\n",
      "Epoch 92/200\n",
      "118/118 [==============================] - 0s 2ms/step - loss: 1125415.1250 - val_loss: 1289232.2500\n",
      "Epoch 93/200\n",
      "118/118 [==============================] - 0s 2ms/step - loss: 1125676.6250 - val_loss: 1288879.3750\n",
      "Epoch 94/200\n",
      "118/118 [==============================] - 0s 2ms/step - loss: 1124289.0000 - val_loss: 1287505.8750\n",
      "Epoch 95/200\n",
      "118/118 [==============================] - 0s 2ms/step - loss: 1125391.2500 - val_loss: 1297683.2500\n",
      "Epoch 96/200\n",
      "118/118 [==============================] - 0s 2ms/step - loss: 1124513.8750 - val_loss: 1297878.3750\n",
      "Epoch 97/200\n",
      "118/118 [==============================] - 0s 2ms/step - loss: 1124291.7500 - val_loss: 1295240.5000\n",
      "Epoch 98/200\n",
      "118/118 [==============================] - 0s 2ms/step - loss: 1123500.6250 - val_loss: 1297476.7500\n",
      "Epoch 99/200\n",
      "118/118 [==============================] - 0s 2ms/step - loss: 1123901.8750 - val_loss: 1302970.7500\n",
      "Epoch 100/200\n",
      "118/118 [==============================] - 0s 2ms/step - loss: 1122722.0000 - val_loss: 1302233.6250\n",
      "Epoch 101/200\n",
      "118/118 [==============================] - 0s 2ms/step - loss: 1122358.6250 - val_loss: 1297851.1250\n",
      "Epoch 102/200\n",
      "118/118 [==============================] - 0s 2ms/step - loss: 1121482.8750 - val_loss: 1290065.6250\n",
      "Epoch 103/200\n",
      "118/118 [==============================] - 0s 2ms/step - loss: 1122059.7500 - val_loss: 1306368.7500\n",
      "Epoch 104/200\n",
      "118/118 [==============================] - 0s 2ms/step - loss: 1121250.3750 - val_loss: 1302257.8750\n",
      "Epoch 105/200\n",
      "118/118 [==============================] - 0s 2ms/step - loss: 1121331.6250 - val_loss: 1294615.6250\n",
      "Epoch 106/200\n",
      "118/118 [==============================] - 0s 2ms/step - loss: 1120253.8750 - val_loss: 1291621.3750\n",
      "Epoch 107/200\n",
      "118/118 [==============================] - 0s 2ms/step - loss: 1118913.6250 - val_loss: 1319535.8750\n",
      "Epoch 108/200\n",
      "118/118 [==============================] - 0s 2ms/step - loss: 1119819.0000 - val_loss: 1291390.1250\n",
      "Epoch 109/200\n",
      "118/118 [==============================] - 0s 2ms/step - loss: 1119208.7500 - val_loss: 1288213.3750\n",
      "Epoch 110/200\n",
      "118/118 [==============================] - 0s 2ms/step - loss: 1119009.6250 - val_loss: 1301710.3750\n",
      "Epoch 111/200\n",
      "118/118 [==============================] - 0s 2ms/step - loss: 1118854.8750 - val_loss: 1310194.8750\n",
      "Epoch 112/200\n",
      "118/118 [==============================] - 0s 2ms/step - loss: 1118244.8750 - val_loss: 1293442.5000\n",
      "Epoch 113/200\n",
      "118/118 [==============================] - 0s 2ms/step - loss: 1117942.2500 - val_loss: 1291775.2500\n",
      "Epoch 114/200\n",
      "118/118 [==============================] - 0s 2ms/step - loss: 1118160.7500 - val_loss: 1295471.1250\n",
      "Epoch 115/200\n",
      "118/118 [==============================] - 0s 2ms/step - loss: 1117242.8750 - val_loss: 1284399.7500\n",
      "Epoch 116/200\n",
      "118/118 [==============================] - 0s 2ms/step - loss: 1117042.3750 - val_loss: 1300280.8750\n",
      "Epoch 117/200\n",
      "118/118 [==============================] - 0s 2ms/step - loss: 1116334.8750 - val_loss: 1296790.1250\n",
      "Epoch 118/200\n",
      "118/118 [==============================] - 0s 2ms/step - loss: 1115629.1250 - val_loss: 1308823.6250\n",
      "Epoch 119/200\n",
      "118/118 [==============================] - 0s 2ms/step - loss: 1114703.6250 - val_loss: 1289079.2500\n",
      "Epoch 120/200\n",
      "118/118 [==============================] - 0s 2ms/step - loss: 1114684.7500 - val_loss: 1308265.2500\n",
      "Epoch 121/200\n",
      "118/118 [==============================] - 0s 2ms/step - loss: 1114440.6250 - val_loss: 1298691.2500\n",
      "Epoch 122/200\n",
      "118/118 [==============================] - 0s 2ms/step - loss: 1114174.6250 - val_loss: 1301165.8750\n",
      "Epoch 123/200\n",
      "118/118 [==============================] - 0s 2ms/step - loss: 1113252.8750 - val_loss: 1313043.7500\n",
      "Epoch 124/200\n",
      "118/118 [==============================] - 0s 2ms/step - loss: 1114041.0000 - val_loss: 1308296.0000\n",
      "Epoch 125/200\n",
      "118/118 [==============================] - 0s 2ms/step - loss: 1112552.1250 - val_loss: 1285273.2500\n",
      "Epoch 126/200\n",
      "118/118 [==============================] - 0s 2ms/step - loss: 1112756.1250 - val_loss: 1287312.1250\n",
      "Epoch 127/200\n",
      "118/118 [==============================] - 0s 2ms/step - loss: 1112800.3750 - val_loss: 1286972.3750\n",
      "Epoch 128/200\n",
      "118/118 [==============================] - 0s 2ms/step - loss: 1112124.3750 - val_loss: 1296757.0000\n",
      "Epoch 129/200\n",
      "118/118 [==============================] - 0s 2ms/step - loss: 1111853.6250 - val_loss: 1290533.1250\n",
      "Epoch 130/200\n",
      "118/118 [==============================] - 0s 2ms/step - loss: 1111031.7500 - val_loss: 1303314.6250\n",
      "Epoch 131/200\n",
      "118/118 [==============================] - 0s 2ms/step - loss: 1111295.7500 - val_loss: 1296854.2500\n",
      "Epoch 132/200\n",
      "118/118 [==============================] - 0s 2ms/step - loss: 1111544.7500 - val_loss: 1291482.8750\n",
      "Epoch 133/200\n",
      "118/118 [==============================] - 0s 2ms/step - loss: 1110471.5000 - val_loss: 1284536.2500\n",
      "Epoch 134/200\n",
      "118/118 [==============================] - 0s 2ms/step - loss: 1111409.7500 - val_loss: 1291503.2500\n",
      "Epoch 135/200\n",
      "118/118 [==============================] - 0s 2ms/step - loss: 1110688.1250 - val_loss: 1302018.2500\n",
      "Epoch 136/200\n",
      "118/118 [==============================] - 0s 2ms/step - loss: 1110075.1250 - val_loss: 1300364.2500\n",
      "Epoch 137/200\n",
      "118/118 [==============================] - 0s 2ms/step - loss: 1109734.7500 - val_loss: 1287343.7500\n",
      "Epoch 138/200\n",
      "118/118 [==============================] - 0s 2ms/step - loss: 1109498.0000 - val_loss: 1284102.1250\n",
      "Epoch 139/200\n",
      "118/118 [==============================] - 0s 2ms/step - loss: 1109904.0000 - val_loss: 1285093.5000\n",
      "Epoch 140/200\n",
      "118/118 [==============================] - 0s 2ms/step - loss: 1108505.8750 - val_loss: 1303099.1250\n",
      "Epoch 141/200\n",
      "118/118 [==============================] - 0s 2ms/step - loss: 1108958.2500 - val_loss: 1291452.2500\n",
      "Epoch 142/200\n",
      "118/118 [==============================] - 0s 2ms/step - loss: 1107312.3750 - val_loss: 1296387.0000\n",
      "Epoch 143/200\n",
      "118/118 [==============================] - 0s 2ms/step - loss: 1107589.6250 - val_loss: 1312828.3750\n",
      "Epoch 144/200\n",
      "118/118 [==============================] - 0s 2ms/step - loss: 1107568.7500 - val_loss: 1285548.8750\n",
      "Epoch 145/200\n",
      "118/118 [==============================] - 0s 2ms/step - loss: 1107712.6250 - val_loss: 1286579.6250\n",
      "Epoch 146/200\n",
      "118/118 [==============================] - 0s 2ms/step - loss: 1107101.7500 - val_loss: 1297602.3750\n",
      "Epoch 147/200\n",
      "118/118 [==============================] - 0s 2ms/step - loss: 1107147.1250 - val_loss: 1289476.8750\n",
      "Epoch 148/200\n",
      "118/118 [==============================] - 0s 2ms/step - loss: 1107387.3750 - val_loss: 1289165.2500\n",
      "Epoch 149/200\n",
      "118/118 [==============================] - 0s 2ms/step - loss: 1105521.7500 - val_loss: 1292743.5000\n",
      "Epoch 150/200\n",
      "118/118 [==============================] - 0s 2ms/step - loss: 1105641.8750 - val_loss: 1297147.1250\n",
      "Epoch 151/200\n",
      "118/118 [==============================] - 0s 2ms/step - loss: 1105744.3750 - val_loss: 1296431.1250\n",
      "Epoch 152/200\n",
      "118/118 [==============================] - 0s 2ms/step - loss: 1105804.0000 - val_loss: 1293042.7500\n",
      "Epoch 153/200\n",
      "118/118 [==============================] - 0s 2ms/step - loss: 1105829.6250 - val_loss: 1292419.0000\n",
      "Epoch 154/200\n",
      "118/118 [==============================] - 0s 2ms/step - loss: 1104265.1250 - val_loss: 1285718.3750\n",
      "Epoch 155/200\n",
      "118/118 [==============================] - 0s 2ms/step - loss: 1105352.0000 - val_loss: 1283384.8750\n",
      "Epoch 156/200\n",
      "118/118 [==============================] - 0s 2ms/step - loss: 1104810.2500 - val_loss: 1286142.0000\n",
      "Epoch 157/200\n",
      "118/118 [==============================] - 0s 2ms/step - loss: 1101515.8750 - val_loss: 1326200.0000\n",
      "Epoch 158/200\n",
      "118/118 [==============================] - 0s 2ms/step - loss: 1105188.1250 - val_loss: 1290267.3750\n",
      "Epoch 159/200\n",
      "118/118 [==============================] - 0s 2ms/step - loss: 1104074.5000 - val_loss: 1291520.7500\n",
      "Epoch 160/200\n",
      "118/118 [==============================] - 0s 2ms/step - loss: 1104564.8750 - val_loss: 1293784.6250\n",
      "Epoch 161/200\n",
      "118/118 [==============================] - 0s 2ms/step - loss: 1103654.1250 - val_loss: 1285802.3750\n",
      "Epoch 162/200\n",
      "118/118 [==============================] - 0s 2ms/step - loss: 1102562.1250 - val_loss: 1309535.7500\n",
      "Epoch 163/200\n",
      "118/118 [==============================] - 0s 2ms/step - loss: 1103820.1250 - val_loss: 1294587.5000\n",
      "Epoch 164/200\n",
      "118/118 [==============================] - 0s 2ms/step - loss: 1102176.5000 - val_loss: 1291608.0000\n",
      "Epoch 165/200\n",
      "118/118 [==============================] - 0s 2ms/step - loss: 1102073.5000 - val_loss: 1300529.8750\n",
      "Epoch 166/200\n",
      "118/118 [==============================] - 0s 2ms/step - loss: 1102679.3750 - val_loss: 1295525.7500\n",
      "Epoch 167/200\n",
      "118/118 [==============================] - 0s 2ms/step - loss: 1102200.2500 - val_loss: 1292284.1250\n",
      "Epoch 168/200\n",
      "118/118 [==============================] - 0s 2ms/step - loss: 1101989.3750 - val_loss: 1300666.5000\n",
      "Epoch 169/200\n",
      "118/118 [==============================] - 0s 2ms/step - loss: 1101060.8750 - val_loss: 1294579.2500\n",
      "Epoch 170/200\n",
      "118/118 [==============================] - 0s 2ms/step - loss: 1101469.8750 - val_loss: 1302533.3750\n",
      "Epoch 171/200\n",
      "118/118 [==============================] - 0s 2ms/step - loss: 1100071.0000 - val_loss: 1295254.3750\n",
      "Epoch 172/200\n",
      "118/118 [==============================] - 0s 2ms/step - loss: 1100296.0000 - val_loss: 1300073.7500\n",
      "Epoch 173/200\n",
      "118/118 [==============================] - 0s 2ms/step - loss: 1100504.1250 - val_loss: 1302618.3750\n",
      "Epoch 174/200\n",
      "118/118 [==============================] - 0s 2ms/step - loss: 1099908.7500 - val_loss: 1286051.1250\n",
      "Epoch 175/200\n",
      "118/118 [==============================] - 0s 2ms/step - loss: 1100668.8750 - val_loss: 1295371.5000\n",
      "Epoch 176/200\n",
      "118/118 [==============================] - 0s 2ms/step - loss: 1099901.0000 - val_loss: 1302578.7500\n",
      "Epoch 177/200\n",
      "118/118 [==============================] - 0s 2ms/step - loss: 1099505.1250 - val_loss: 1301689.6250\n",
      "Epoch 178/200\n",
      "118/118 [==============================] - 0s 2ms/step - loss: 1099155.2500 - val_loss: 1291020.3750\n",
      "Epoch 179/200\n",
      "118/118 [==============================] - 0s 2ms/step - loss: 1099000.3750 - val_loss: 1294662.6250\n",
      "Epoch 180/200\n",
      "118/118 [==============================] - 0s 2ms/step - loss: 1098546.6250 - val_loss: 1294202.8750\n",
      "Epoch 181/200\n",
      "118/118 [==============================] - 0s 2ms/step - loss: 1095355.1250 - val_loss: 1318440.7500\n",
      "Epoch 182/200\n",
      "118/118 [==============================] - 0s 2ms/step - loss: 1098827.2500 - val_loss: 1293548.3750\n",
      "Epoch 183/200\n",
      "118/118 [==============================] - 0s 2ms/step - loss: 1098231.5000 - val_loss: 1293440.2500\n",
      "Epoch 184/200\n",
      "118/118 [==============================] - 0s 2ms/step - loss: 1097930.3750 - val_loss: 1299295.7500\n",
      "Epoch 185/200\n",
      "118/118 [==============================] - 0s 2ms/step - loss: 1097203.0000 - val_loss: 1302429.7500\n",
      "Epoch 186/200\n",
      "118/118 [==============================] - 0s 2ms/step - loss: 1096347.6250 - val_loss: 1302543.2500\n",
      "Epoch 187/200\n",
      "118/118 [==============================] - 0s 2ms/step - loss: 1097497.1250 - val_loss: 1292746.0000\n",
      "Epoch 188/200\n",
      "118/118 [==============================] - 0s 2ms/step - loss: 1093241.1250 - val_loss: 1289079.3750\n",
      "Epoch 189/200\n",
      "118/118 [==============================] - 0s 2ms/step - loss: 1096024.5000 - val_loss: 1301169.7500\n",
      "Epoch 190/200\n",
      "118/118 [==============================] - 0s 2ms/step - loss: 1096622.1250 - val_loss: 1299112.3750\n",
      "Epoch 191/200\n",
      "118/118 [==============================] - 0s 2ms/step - loss: 1095294.2500 - val_loss: 1316897.0000\n",
      "Epoch 192/200\n",
      "118/118 [==============================] - 0s 2ms/step - loss: 1095291.3750 - val_loss: 1289834.2500\n",
      "Epoch 193/200\n",
      "118/118 [==============================] - 0s 2ms/step - loss: 1094340.3750 - val_loss: 1318841.7500\n",
      "Epoch 194/200\n",
      "118/118 [==============================] - 0s 2ms/step - loss: 1094988.8750 - val_loss: 1296408.0000\n",
      "Epoch 195/200\n",
      "118/118 [==============================] - 0s 2ms/step - loss: 1094889.0000 - val_loss: 1313800.7500\n",
      "Epoch 196/200\n",
      "118/118 [==============================] - 0s 2ms/step - loss: 1094496.3750 - val_loss: 1307951.5000\n",
      "Epoch 197/200\n",
      "118/118 [==============================] - 0s 2ms/step - loss: 1094511.2500 - val_loss: 1295536.3750\n",
      "Epoch 198/200\n",
      "118/118 [==============================] - 0s 2ms/step - loss: 1094371.5000 - val_loss: 1294087.1250\n",
      "Epoch 199/200\n",
      "118/118 [==============================] - 0s 2ms/step - loss: 1094268.7500 - val_loss: 1301411.0000\n",
      "Epoch 200/200\n",
      "118/118 [==============================] - 0s 2ms/step - loss: 1092967.1250 - val_loss: 1292117.2500\n",
      "40/40 [==============================] - 0s 801us/step\n"
     ]
    }
   ],
   "source": [
    "num_neurons = [21,10] # two hidden layers, first with 21 and second woth 10 neurons\n",
    "num_epochs = 200\n",
    "num_splits = 2\n",
    "test_size = 0.25\n",
    "\n",
    "R2_SCORES = []\n",
    "MAE = []\n",
    "LOSS = []\n",
    "VALIDATION_LOSS = []\n",
    "\n",
    "model = run_train_model(num_neurons, num_epochs, num_splits, test_size)"
   ]
  },
  {
   "cell_type": "markdown",
   "id": "01534004",
   "metadata": {},
   "source": [
    "## Evaluation\n",
    "The R2 score should end up at around 0.58-0.59 consistently."
   ]
  },
  {
   "cell_type": "code",
   "execution_count": 56,
   "id": "d7b366f6",
   "metadata": {},
   "outputs": [
    {
     "name": "stdout",
     "output_type": "stream",
     "text": [
      "r2 score: 0.60 [0.596741611124145, 0.5941313362019192]\n",
      "mae:  [778.7207813113379, 798.8059395651172]\n",
      "test loss: [1248869.5  1292117.25]\n"
     ]
    }
   ],
   "source": [
    "r2_avg = sum(R2_SCORES)/len(R2_SCORES)\n",
    "print(\"r2 score: %.2f\" % r2_avg, R2_SCORES)\n",
    "print(\"mae: \", MAE)\n",
    "print(\"test loss:\", np.array(VALIDATION_LOSS)[:,-1])"
   ]
  },
  {
   "cell_type": "markdown",
   "id": "a7c729e7",
   "metadata": {},
   "source": [
    "Plot learning curves"
   ]
  },
  {
   "cell_type": "code",
   "execution_count": 57,
   "id": "39c0ec7a",
   "metadata": {},
   "outputs": [
    {
     "data": {
      "image/png": "[encoded data removed]",
      "text/plain": [
       "<Figure size 432x288 with 1 Axes>"
      ]
     },
     "metadata": {
      "needs_background": "light"
     },
     "output_type": "display_data"
    },
    {
     "data": {
      "image/png": "[encoded data removed]",
      "text/plain": [
       "<Figure size 432x288 with 1 Axes>"
      ]
     },
     "metadata": {
      "needs_background": "light"
     },
     "output_type": "display_data"
    }
   ],
   "source": [
    "for i in range(len(LOSS)):\n",
    "    plt.plot(LOSS[i])\n",
    "    plt.plot(VALIDATION_LOSS[i])\n",
    "    plt.title('model loss')\n",
    "    plt.ylabel('loss')\n",
    "    plt.xlabel('epoch')\n",
    "    plt.legend(['train', 'validation'], loc='upper left')\n",
    "    plt.show()"
   ]
  },
  {
   "cell_type": "code",
   "execution_count": 58,
   "id": "37c82d4b",
   "metadata": {},
   "outputs": [
    {
     "name": "stdout",
     "output_type": "stream",
     "text": [
      "111/111 [==============================] - 0s 852us/step\n"
     ]
    }
   ],
   "source": [
    "# get predictions for the test data\n",
    "test_preds = model.predict(test_X_norm)"
   ]
  },
  {
   "cell_type": "code",
   "execution_count": 59,
   "id": "0d9c7b0b",
   "metadata": {},
   "outputs": [],
   "source": [
    "# write the predicted prices to file\n",
    "res1 = test_df[['Item_Identifier', 'Outlet_Identifier']]\n",
    "res2 = pd.DataFrame(test_preds)\n",
    "final_result = pd.concat([res1, res2], axis=1)\n",
    "final_result.rename(columns={'0':'Item_Outlet_Sales'}, inplace=True)\n",
    "final_result.to_csv('problem_3_predictions.csv', index=False)"
   ]
  }
 ],
 "metadata": {
  "kernelspec": {
   "display_name": "Python 3 (ipykernel)",
   "language": "python",
   "name": "python3"
  },
  "language_info": {
   "codemirror_mode": {
    "name": "ipython",
    "version": 3
   },
   "file_extension": ".py",
   "mimetype": "text/x-python",
   "name": "python",
   "nbconvert_exporter": "python",
   "pygments_lexer": "ipython3",
   "version": "3.10.6"
  }
 },
 "nbformat": 4,
 "nbformat_minor": 5
}
