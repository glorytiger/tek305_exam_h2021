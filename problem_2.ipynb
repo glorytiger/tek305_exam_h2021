{
 "cells": [
  {
   "cell_type": "markdown",
   "id": "e4970103",
   "metadata": {},
   "source": [
    "### Import required packages"
   ]
  },
  {
   "cell_type": "code",
   "execution_count": 1,
   "id": "3f5183d4",
   "metadata": {},
   "outputs": [],
   "source": [
    "import pandas as pd\n",
    "import seaborn as sns\n",
    "from sklearn.preprocessing import normalize\n",
    "import matplotlib.pyplot as plt\n",
    "from sklearn.cluster import KMeans\n",
    "from sklearn.metrics import silhouette_score\n",
    "import scipy.cluster.hierarchy as shc\n",
    "from sklearn.cluster import AgglomerativeClustering"
   ]
  },
  {
   "cell_type": "markdown",
   "id": "621ee776",
   "metadata": {},
   "source": [
    "### Load data file"
   ]
  },
  {
   "cell_type": "code",
   "execution_count": 2,
   "id": "fafcdd77",
   "metadata": {},
   "outputs": [
    {
     "data": {
      "text/html": [
       "<div>\n",
       "<style scoped>\n",
       "    .dataframe tbody tr th:only-of-type {\n",
       "        vertical-align: middle;\n",
       "    }\n",
       "\n",
       "    .dataframe tbody tr th {\n",
       "        vertical-align: top;\n",
       "    }\n",
       "\n",
       "    .dataframe thead th {\n",
       "        text-align: right;\n",
       "    }\n",
       "</style>\n",
       "<table border=\"1\" class=\"dataframe\">\n",
       "  <thead>\n",
       "    <tr style=\"text-align: right;\">\n",
       "      <th></th>\n",
       "      <th>Numb_of_Times_Preg</th>\n",
       "      <th>PlasmaglucoseConcentration</th>\n",
       "      <th>BloodPressure</th>\n",
       "      <th>SkinFoldThickness</th>\n",
       "      <th>SerumInsulin</th>\n",
       "      <th>BMI</th>\n",
       "      <th>DiabetesPedigreeFunction</th>\n",
       "      <th>Age</th>\n",
       "    </tr>\n",
       "  </thead>\n",
       "  <tbody>\n",
       "    <tr>\n",
       "      <th>0</th>\n",
       "      <td>6</td>\n",
       "      <td>148</td>\n",
       "      <td>72</td>\n",
       "      <td>35</td>\n",
       "      <td>0</td>\n",
       "      <td>33.6</td>\n",
       "      <td>0.627</td>\n",
       "      <td>50</td>\n",
       "    </tr>\n",
       "    <tr>\n",
       "      <th>1</th>\n",
       "      <td>1</td>\n",
       "      <td>85</td>\n",
       "      <td>66</td>\n",
       "      <td>29</td>\n",
       "      <td>0</td>\n",
       "      <td>26.6</td>\n",
       "      <td>0.351</td>\n",
       "      <td>31</td>\n",
       "    </tr>\n",
       "    <tr>\n",
       "      <th>2</th>\n",
       "      <td>8</td>\n",
       "      <td>183</td>\n",
       "      <td>64</td>\n",
       "      <td>0</td>\n",
       "      <td>0</td>\n",
       "      <td>23.3</td>\n",
       "      <td>0.672</td>\n",
       "      <td>32</td>\n",
       "    </tr>\n",
       "    <tr>\n",
       "      <th>3</th>\n",
       "      <td>1</td>\n",
       "      <td>89</td>\n",
       "      <td>66</td>\n",
       "      <td>23</td>\n",
       "      <td>94</td>\n",
       "      <td>28.1</td>\n",
       "      <td>0.167</td>\n",
       "      <td>21</td>\n",
       "    </tr>\n",
       "    <tr>\n",
       "      <th>4</th>\n",
       "      <td>0</td>\n",
       "      <td>137</td>\n",
       "      <td>40</td>\n",
       "      <td>35</td>\n",
       "      <td>168</td>\n",
       "      <td>43.1</td>\n",
       "      <td>2.288</td>\n",
       "      <td>33</td>\n",
       "    </tr>\n",
       "  </tbody>\n",
       "</table>\n",
       "</div>"
      ],
      "text/plain": [
       "   Numb_of_Times_Preg  PlasmaglucoseConcentration  BloodPressure  \\\n",
       "0                   6                         148             72   \n",
       "1                   1                          85             66   \n",
       "2                   8                         183             64   \n",
       "3                   1                          89             66   \n",
       "4                   0                         137             40   \n",
       "\n",
       "   SkinFoldThickness  SerumInsulin   BMI  DiabetesPedigreeFunction  Age  \n",
       "0                 35             0  33.6                     0.627   50  \n",
       "1                 29             0  26.6                     0.351   31  \n",
       "2                  0             0  23.3                     0.672   32  \n",
       "3                 23            94  28.1                     0.167   21  \n",
       "4                 35           168  43.1                     2.288   33  "
      ]
     },
     "execution_count": 2,
     "metadata": {},
     "output_type": "execute_result"
    }
   ],
   "source": [
    "df = pd.read_csv(\"datasets/Clustering_diabetesdata.csv\", sep=',')\n",
    "df.head()"
   ]
  },
  {
   "cell_type": "markdown",
   "id": "20f34c04",
   "metadata": {},
   "source": [
    "### Inspection\n",
    "Display statistical data for each feature."
   ]
  },
  {
   "cell_type": "code",
   "execution_count": 3,
   "id": "979ec7e5",
   "metadata": {},
   "outputs": [
    {
     "data": {
      "text/html": [
       "<div>\n",
       "<style scoped>\n",
       "    .dataframe tbody tr th:only-of-type {\n",
       "        vertical-align: middle;\n",
       "    }\n",
       "\n",
       "    .dataframe tbody tr th {\n",
       "        vertical-align: top;\n",
       "    }\n",
       "\n",
       "    .dataframe thead th {\n",
       "        text-align: right;\n",
       "    }\n",
       "</style>\n",
       "<table border=\"1\" class=\"dataframe\">\n",
       "  <thead>\n",
       "    <tr style=\"text-align: right;\">\n",
       "      <th></th>\n",
       "      <th>Numb_of_Times_Preg</th>\n",
       "      <th>PlasmaglucoseConcentration</th>\n",
       "      <th>BloodPressure</th>\n",
       "      <th>SkinFoldThickness</th>\n",
       "      <th>SerumInsulin</th>\n",
       "      <th>BMI</th>\n",
       "      <th>DiabetesPedigreeFunction</th>\n",
       "      <th>Age</th>\n",
       "    </tr>\n",
       "  </thead>\n",
       "  <tbody>\n",
       "    <tr>\n",
       "      <th>count</th>\n",
       "      <td>768.000000</td>\n",
       "      <td>768.000000</td>\n",
       "      <td>768.000000</td>\n",
       "      <td>768.000000</td>\n",
       "      <td>768.000000</td>\n",
       "      <td>768.000000</td>\n",
       "      <td>768.000000</td>\n",
       "      <td>768.000000</td>\n",
       "    </tr>\n",
       "    <tr>\n",
       "      <th>mean</th>\n",
       "      <td>3.845052</td>\n",
       "      <td>120.894531</td>\n",
       "      <td>69.105469</td>\n",
       "      <td>20.536458</td>\n",
       "      <td>79.799479</td>\n",
       "      <td>31.992578</td>\n",
       "      <td>0.471876</td>\n",
       "      <td>33.240885</td>\n",
       "    </tr>\n",
       "    <tr>\n",
       "      <th>std</th>\n",
       "      <td>3.369578</td>\n",
       "      <td>31.972618</td>\n",
       "      <td>19.355807</td>\n",
       "      <td>15.952218</td>\n",
       "      <td>115.244002</td>\n",
       "      <td>7.884160</td>\n",
       "      <td>0.331329</td>\n",
       "      <td>11.760232</td>\n",
       "    </tr>\n",
       "    <tr>\n",
       "      <th>min</th>\n",
       "      <td>0.000000</td>\n",
       "      <td>0.000000</td>\n",
       "      <td>0.000000</td>\n",
       "      <td>0.000000</td>\n",
       "      <td>0.000000</td>\n",
       "      <td>0.000000</td>\n",
       "      <td>0.078000</td>\n",
       "      <td>21.000000</td>\n",
       "    </tr>\n",
       "    <tr>\n",
       "      <th>25%</th>\n",
       "      <td>1.000000</td>\n",
       "      <td>99.000000</td>\n",
       "      <td>62.000000</td>\n",
       "      <td>0.000000</td>\n",
       "      <td>0.000000</td>\n",
       "      <td>27.300000</td>\n",
       "      <td>0.243750</td>\n",
       "      <td>24.000000</td>\n",
       "    </tr>\n",
       "    <tr>\n",
       "      <th>50%</th>\n",
       "      <td>3.000000</td>\n",
       "      <td>117.000000</td>\n",
       "      <td>72.000000</td>\n",
       "      <td>23.000000</td>\n",
       "      <td>30.500000</td>\n",
       "      <td>32.000000</td>\n",
       "      <td>0.372500</td>\n",
       "      <td>29.000000</td>\n",
       "    </tr>\n",
       "    <tr>\n",
       "      <th>75%</th>\n",
       "      <td>6.000000</td>\n",
       "      <td>140.250000</td>\n",
       "      <td>80.000000</td>\n",
       "      <td>32.000000</td>\n",
       "      <td>127.250000</td>\n",
       "      <td>36.600000</td>\n",
       "      <td>0.626250</td>\n",
       "      <td>41.000000</td>\n",
       "    </tr>\n",
       "    <tr>\n",
       "      <th>max</th>\n",
       "      <td>17.000000</td>\n",
       "      <td>199.000000</td>\n",
       "      <td>122.000000</td>\n",
       "      <td>99.000000</td>\n",
       "      <td>846.000000</td>\n",
       "      <td>67.100000</td>\n",
       "      <td>2.420000</td>\n",
       "      <td>81.000000</td>\n",
       "    </tr>\n",
       "  </tbody>\n",
       "</table>\n",
       "</div>"
      ],
      "text/plain": [
       "       Numb_of_Times_Preg  PlasmaglucoseConcentration  BloodPressure  \\\n",
       "count          768.000000                  768.000000     768.000000   \n",
       "mean             3.845052                  120.894531      69.105469   \n",
       "std              3.369578                   31.972618      19.355807   \n",
       "min              0.000000                    0.000000       0.000000   \n",
       "25%              1.000000                   99.000000      62.000000   \n",
       "50%              3.000000                  117.000000      72.000000   \n",
       "75%              6.000000                  140.250000      80.000000   \n",
       "max             17.000000                  199.000000     122.000000   \n",
       "\n",
       "       SkinFoldThickness  SerumInsulin         BMI  DiabetesPedigreeFunction  \\\n",
       "count         768.000000    768.000000  768.000000                768.000000   \n",
       "mean           20.536458     79.799479   31.992578                  0.471876   \n",
       "std            15.952218    115.244002    7.884160                  0.331329   \n",
       "min             0.000000      0.000000    0.000000                  0.078000   \n",
       "25%             0.000000      0.000000   27.300000                  0.243750   \n",
       "50%            23.000000     30.500000   32.000000                  0.372500   \n",
       "75%            32.000000    127.250000   36.600000                  0.626250   \n",
       "max            99.000000    846.000000   67.100000                  2.420000   \n",
       "\n",
       "              Age  \n",
       "count  768.000000  \n",
       "mean    33.240885  \n",
       "std     11.760232  \n",
       "min     21.000000  \n",
       "25%     24.000000  \n",
       "50%     29.000000  \n",
       "75%     41.000000  \n",
       "max     81.000000  "
      ]
     },
     "execution_count": 3,
     "metadata": {},
     "output_type": "execute_result"
    }
   ],
   "source": [
    "df.describe()"
   ]
  },
  {
   "cell_type": "markdown",
   "id": "2c514b5f",
   "metadata": {},
   "source": [
    "### Visualization"
   ]
  },
  {
   "cell_type": "code",
   "execution_count": null,
   "id": "a0fb9ffb",
   "metadata": {},
   "outputs": [],
   "source": [
    "sns.pairplot(df)\n",
    "plt.show()"
   ]
  },
  {
   "cell_type": "markdown",
   "id": "34ed4b06",
   "metadata": {},
   "source": [
    "## Normalization"
   ]
  },
  {
   "cell_type": "code",
   "execution_count": null,
   "id": "4d5144b0",
   "metadata": {},
   "outputs": [],
   "source": [
    "data_scaled = normalize(df)\n",
    "data_scaled = pd.DataFrame(data_scaled, columns=df.columns)\n",
    "data_scaled.head()"
   ]
  },
  {
   "cell_type": "markdown",
   "id": "1cf50e6b",
   "metadata": {},
   "source": [
    "## k-Means Clustering with two features\n",
    "Selecting <b>BloodPressure</b> and <b>BMI</b>."
   ]
  },
  {
   "cell_type": "code",
   "execution_count": null,
   "id": "6e070a2e",
   "metadata": {},
   "outputs": [],
   "source": [
    "data = data_scaled[['SerumInsulin', 'DiabetesPedigreeFunction']]\n",
    "x = data.iloc[:,0]\n",
    "y = data.iloc[:,1]\n",
    "x.head()"
   ]
  },
  {
   "cell_type": "markdown",
   "id": "4707910f",
   "metadata": {},
   "source": [
    "Plot of the data shows that it falls into two clusters."
   ]
  },
  {
   "cell_type": "code",
   "execution_count": null,
   "id": "0e17a640",
   "metadata": {},
   "outputs": [],
   "source": [
    "plt.scatter(x, y, marker='.', color=\"teal\")\n",
    "plt.xlabel(\"SerumInsulin\");\n",
    "plt.ylabel(\"DiabetesPedigreeFunction\")\n",
    "plt.show()"
   ]
  },
  {
   "cell_type": "markdown",
   "id": "d3a97a1a",
   "metadata": {},
   "source": [
    "Segment the groups and highlight the clusters\n",
    "### Findings\n",
    "Most of the data points in the cluster to the left marked in yellow can safely be regarded as outliers."
   ]
  },
  {
   "cell_type": "code",
   "execution_count": null,
   "id": "64a7a199",
   "metadata": {},
   "outputs": [],
   "source": [
    "kmeans = KMeans(n_clusters=2, random_state=0)\n",
    "kmeans.fit(data)\n",
    "predicted_cluster_indexes = kmeans.predict(data)\n",
    " \n",
    "plt.scatter(x, y, c=predicted_cluster_indexes, s=50, alpha=0.7, cmap='viridis')\n",
    "plt.xlabel(\"SerumInsulin\")\n",
    "plt.ylabel(\"DiabetesPedigreeFunction\")\n",
    " \n",
    "centers = kmeans.cluster_centers_\n",
    "plt.scatter(centers[:, 0], centers[:, 1], c='red', s=100)\n",
    "plt.show()"
   ]
  },
  {
   "cell_type": "markdown",
   "id": "20f6c973",
   "metadata": {},
   "source": [
    "## k-Means Clustering with many features\n",
    "Selecting all features except <b>Numb_of_Times_Preg</b> from the dataset."
   ]
  },
  {
   "cell_type": "code",
   "execution_count": null,
   "id": "4bdee9ab",
   "metadata": {},
   "outputs": [],
   "source": [
    "data = data_scaled.drop('Numb_of_Times_Preg', axis=1)"
   ]
  },
  {
   "cell_type": "markdown",
   "id": "4ba48d16",
   "metadata": {},
   "source": [
    "Calculate silhouette_score"
   ]
  },
  {
   "cell_type": "code",
   "execution_count": null,
   "id": "1d914eb7",
   "metadata": {},
   "outputs": [],
   "source": [
    "print(silhouette_score(data, kmeans.labels_))"
   ]
  },
  {
   "cell_type": "markdown",
   "id": "0483f8f3",
   "metadata": {},
   "source": [
    "Using the elbow method to find the optimal number of clusters."
   ]
  },
  {
   "cell_type": "code",
   "execution_count": null,
   "id": "90d53734",
   "metadata": {},
   "outputs": [],
   "source": [
    "inertias = []\n",
    " \n",
    "for i in range(1, 10):\n",
    "    kmeans = KMeans(n_clusters=i, random_state=0)\n",
    "    kmeans.fit(data)\n",
    "    inertias.append(kmeans.inertia_)\n",
    " \n",
    "plt.plot(range(1, 10), inertias)\n",
    "plt.xlabel('Number of Clusters')\n",
    "plt.ylabel('Inertia')\n",
    "plt.show()"
   ]
  },
  {
   "cell_type": "markdown",
   "id": "6c423ce7",
   "metadata": {},
   "source": [
    "From the elbow plot, 3 seems to be a good number."
   ]
  },
  {
   "cell_type": "markdown",
   "id": "bcbe20d3",
   "metadata": {},
   "source": [
    "Segment the data into clusters, and add a column named <b>Cluster</b> that represents the index of the cluster the row belongs to."
   ]
  },
  {
   "cell_type": "code",
   "execution_count": null,
   "id": "654166aa",
   "metadata": {},
   "outputs": [],
   "source": [
    "# create a KMeans class instance\n",
    "kmeans = KMeans(n_clusters=2, random_state=0)\n",
    "\n",
    "# fit data\n",
    "kmeans.fit(data)\n",
    "\n",
    "# generate predictions from data\n",
    "clusters = kmeans.predict(data)\n",
    "\n",
    "dfc = df[['PlasmaglucoseConcentration', 'BloodPressure', 'SkinFoldThickness', 'SerumInsulin', 'BMI', \n",
    "          'DiabetesPedigreeFunction', 'Age']]\n",
    "dfc['Cluster_id'] = clusters\n",
    "\n",
    "dfc.head(5)"
   ]
  },
  {
   "cell_type": "markdown",
   "id": "15e56349",
   "metadata": {},
   "source": [
    "Calculate the average values of the data pertaining to each cluster."
   ]
  },
  {
   "cell_type": "code",
   "execution_count": null,
   "id": "29741548",
   "metadata": {},
   "outputs": [],
   "source": [
    "results = pd.DataFrame(columns = ['Cluster_id', 'Average PlasmaglucoseConcentration', \n",
    "                                  'Average BloodPressure', 'Average SkinFoldThickness', 'Average SerumInsulin',\n",
    "                                  'Average BMI', 'Average DiabetesPedigreeFunction', 'Average Age'])\n",
    " \n",
    "for i in range(len(kmeans.cluster_centers_)):\n",
    "    plasma = dfc[dfc['Cluster_id'] == i]['PlasmaglucoseConcentration'].mean()\n",
    "    bp = dfc[dfc['Cluster_id'] == i]['BloodPressure'].mean()\n",
    "    skin = dfc[dfc['Cluster_id'] == i]['SkinFoldThickness'].mean()\n",
    "    insulin = dfc[dfc['Cluster_id'] == i]['SerumInsulin'].mean()\n",
    "    bmi = dfc[dfc['Cluster_id'] == i]['BMI'].mean()\n",
    "    dpf = dfc[dfc['Cluster_id'] == i]['DiabetesPedigreeFunction'].mean()\n",
    "    age = dfc[dfc['Cluster_id'] == i]['Age'].mean()\n",
    " \n",
    "    gdf = dfc[dfc['Cluster_id'] == i]\n",
    "     \n",
    "    #results.loc[i] = ([i, plasma, bp, skin, insulin, bmi, dpf, age])\n",
    "    results.loc[i] = ([i, plasma, bp, skin, insulin, bmi, dpf, age])\n",
    "    results['Cluster_id'] = results['Cluster_id'].astype(int)"
   ]
  },
  {
   "cell_type": "markdown",
   "id": "f2a0ffad",
   "metadata": {},
   "source": [
    "### Findings\n",
    "The average values of the selected features are all highest in the first cluster id <b>0</b> except for <b>Age</b>, possibly indicating correlation between them."
   ]
  },
  {
   "cell_type": "code",
   "execution_count": null,
   "id": "79816d29",
   "metadata": {},
   "outputs": [],
   "source": [
    "results.head()"
   ]
  },
  {
   "cell_type": "markdown",
   "id": "ac96e3ec",
   "metadata": {},
   "source": [
    "## Hierarchical Clustering with many features\n",
    "Selecting all features from the dataset."
   ]
  },
  {
   "cell_type": "code",
   "execution_count": null,
   "id": "012aa0f3",
   "metadata": {},
   "outputs": [],
   "source": [
    "data = data_scaled"
   ]
  },
  {
   "cell_type": "markdown",
   "id": "cf7c1ffa",
   "metadata": {},
   "source": [
    "Draw dendrogram to make it easier to select the number of clusters. The x-axis contains the values while the y-axis represents the distance between them.<br>\n",
    "The threshold value 2500 cuts the dendrogram, leaving two clusters below."
   ]
  },
  {
   "cell_type": "code",
   "execution_count": null,
   "id": "e3a6a70f",
   "metadata": {},
   "outputs": [],
   "source": [
    "plt.figure(figsize=(10, 7))  \n",
    "plt.title(\"Dendrograms\")  \n",
    "dend = shc.dendrogram(shc.linkage(data, method='ward'))\n",
    "plt.axhline(y=2500, color='r', linestyle='--')\n",
    "plt.show()"
   ]
  },
  {
   "cell_type": "code",
   "execution_count": null,
   "id": "ff6d73a3",
   "metadata": {},
   "outputs": [],
   "source": [
    "cluster = AgglomerativeClustering(n_clusters=2, affinity='euclidean', linkage='ward')  \n",
    "cluster.fit_predict(data)"
   ]
  },
  {
   "cell_type": "markdown",
   "id": "d1745f7c",
   "metadata": {},
   "source": [
    "We can see the values of 0s and 1s in the output since we defined 2 clusters. 0 represents the points that belong to the first cluster and 1 represents points in the second cluster. Let’s now visualize the two clusters:"
   ]
  },
  {
   "cell_type": "code",
   "execution_count": null,
   "id": "f3988da3",
   "metadata": {},
   "outputs": [],
   "source": [
    "plt.figure(figsize=(10, 7))  \n",
    "plt.scatter(data['DiabetesPedigreeFunction'], data['BMI'], c=cluster.labels_)\n",
    "plt.show()"
   ]
  },
  {
   "cell_type": "markdown",
   "id": "e669bff7",
   "metadata": {},
   "source": [
    "The plot above shows that the clusters seem to overlap well."
   ]
  }
 ],
 "metadata": {
  "kernelspec": {
   "display_name": "Python 3 (ipykernel)",
   "language": "python",
   "name": "python3"
  },
  "language_info": {
   "codemirror_mode": {
    "name": "ipython",
    "version": 3
   },
   "file_extension": ".py",
   "mimetype": "text/x-python",
   "name": "python",
   "nbconvert_exporter": "python",
   "pygments_lexer": "ipython3",
   "version": "3.10.6"
  }
 },
 "nbformat": 4,
 "nbformat_minor": 5
}
